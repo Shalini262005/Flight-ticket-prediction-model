{
 "cells": [
  {
   "cell_type": "code",
   "execution_count": 1,
   "id": "33b37c87",
   "metadata": {
    "_cell_guid": "b1076dfc-b9ad-4769-8c92-a6c4dae69d19",
    "_uuid": "8f2839f25d086af736a60e9eeb907d3b93b6e0e5",
    "execution": {
     "iopub.execute_input": "2025-06-30T06:21:21.936793Z",
     "iopub.status.busy": "2025-06-30T06:21:21.936462Z",
     "iopub.status.idle": "2025-06-30T06:21:23.929178Z",
     "shell.execute_reply": "2025-06-30T06:21:23.928231Z"
    },
    "papermill": {
     "duration": 2.017325,
     "end_time": "2025-06-30T06:21:23.930983",
     "exception": false,
     "start_time": "2025-06-30T06:21:21.913658",
     "status": "completed"
    },
    "tags": []
   },
   "outputs": [
    {
     "name": "stdout",
     "output_type": "stream",
     "text": [
      "/kaggle/input/mlp-term-2-2025-kaggle-assignment-1/sample_submission.csv\n",
      "/kaggle/input/mlp-term-2-2025-kaggle-assignment-1/train.csv\n",
      "/kaggle/input/mlp-term-2-2025-kaggle-assignment-1/test.csv\n"
     ]
    }
   ],
   "source": [
    "# This Python 3 environment comes with many helpful analytics libraries installed\n",
    "# It is defined by the kaggle/python Docker image: https://github.com/kaggle/docker-python\n",
    "# For example, here's several helpful packages to load\n",
    "\n",
    "import numpy as np # linear algebra\n",
    "import pandas as pd # data processing, CSV file I/O (e.g. pd.read_csv)\n",
    "\n",
    "# Input data files are available in the read-only \"../input/\" directory\n",
    "# For example, running this (by clicking run or pressing Shift+Enter) will list all files under the input directory\n",
    "\n",
    "import os\n",
    "for dirname, _, filenames in os.walk('/kaggle/input'):\n",
    "    for filename in filenames:\n",
    "        print(os.path.join(dirname, filename))\n",
    "\n",
    "# You can write up to 20GB to the current directory (/kaggle/working/) that gets preserved as output when you create a version using \"Save & Run All\" \n",
    "# You can also write temporary files to /kaggle/temp/, but they won't be saved outside of the current session"
   ]
  },
  {
   "cell_type": "code",
   "execution_count": 2,
   "id": "cf3d60a1",
   "metadata": {
    "execution": {
     "iopub.execute_input": "2025-06-30T06:21:23.971950Z",
     "iopub.status.busy": "2025-06-30T06:21:23.971456Z",
     "iopub.status.idle": "2025-06-30T06:21:24.117270Z",
     "shell.execute_reply": "2025-06-30T06:21:24.116305Z"
    },
    "papermill": {
     "duration": 0.167237,
     "end_time": "2025-06-30T06:21:24.118706",
     "exception": false,
     "start_time": "2025-06-30T06:21:23.951469",
     "status": "completed"
    },
    "tags": []
   },
   "outputs": [
    {
     "name": "stderr",
     "output_type": "stream",
     "text": [
      "/usr/local/lib/python3.11/dist-packages/pandas/io/formats/format.py:1458: RuntimeWarning: invalid value encountered in greater\n",
      "  has_large_values = (abs_vals > 1e6).any()\n",
      "/usr/local/lib/python3.11/dist-packages/pandas/io/formats/format.py:1459: RuntimeWarning: invalid value encountered in less\n",
      "  has_small_values = ((abs_vals < 10 ** (-self.digits)) & (abs_vals > 0)).any()\n",
      "/usr/local/lib/python3.11/dist-packages/pandas/io/formats/format.py:1459: RuntimeWarning: invalid value encountered in greater\n",
      "  has_small_values = ((abs_vals < 10 ** (-self.digits)) & (abs_vals > 0)).any()\n"
     ]
    },
    {
     "data": {
      "text/html": [
       "<div>\n",
       "<style scoped>\n",
       "    .dataframe tbody tr th:only-of-type {\n",
       "        vertical-align: middle;\n",
       "    }\n",
       "\n",
       "    .dataframe tbody tr th {\n",
       "        vertical-align: top;\n",
       "    }\n",
       "\n",
       "    .dataframe thead th {\n",
       "        text-align: right;\n",
       "    }\n",
       "</style>\n",
       "<table border=\"1\" class=\"dataframe\">\n",
       "  <thead>\n",
       "    <tr style=\"text-align: right;\">\n",
       "      <th></th>\n",
       "      <th>id</th>\n",
       "      <th>airline</th>\n",
       "      <th>flight</th>\n",
       "      <th>source</th>\n",
       "      <th>departure</th>\n",
       "      <th>stops</th>\n",
       "      <th>arrival</th>\n",
       "      <th>destination</th>\n",
       "      <th>class</th>\n",
       "      <th>duration</th>\n",
       "      <th>days_left</th>\n",
       "      <th>price</th>\n",
       "    </tr>\n",
       "  </thead>\n",
       "  <tbody>\n",
       "    <tr>\n",
       "      <th>0</th>\n",
       "      <td>0</td>\n",
       "      <td>Vistara</td>\n",
       "      <td>UK-930</td>\n",
       "      <td>Mumbai</td>\n",
       "      <td>Early_Morning</td>\n",
       "      <td>one</td>\n",
       "      <td>Night</td>\n",
       "      <td>Chennai</td>\n",
       "      <td>Business</td>\n",
       "      <td>NaN</td>\n",
       "      <td>40.0</td>\n",
       "      <td>64173</td>\n",
       "    </tr>\n",
       "    <tr>\n",
       "      <th>1</th>\n",
       "      <td>1</td>\n",
       "      <td>Air_India</td>\n",
       "      <td>AI-539</td>\n",
       "      <td>Chennai</td>\n",
       "      <td>Evening</td>\n",
       "      <td>one</td>\n",
       "      <td>Morning</td>\n",
       "      <td>Mumbai</td>\n",
       "      <td>Economy</td>\n",
       "      <td>16.08</td>\n",
       "      <td>26.0</td>\n",
       "      <td>4357</td>\n",
       "    </tr>\n",
       "    <tr>\n",
       "      <th>2</th>\n",
       "      <td>2</td>\n",
       "      <td>SpiceJet</td>\n",
       "      <td>SG-8107</td>\n",
       "      <td>Delhi</td>\n",
       "      <td>Early_Morning</td>\n",
       "      <td>zero</td>\n",
       "      <td>Morning</td>\n",
       "      <td>Chennai</td>\n",
       "      <td>Economy</td>\n",
       "      <td>2.92</td>\n",
       "      <td>25.0</td>\n",
       "      <td>3251</td>\n",
       "    </tr>\n",
       "    <tr>\n",
       "      <th>3</th>\n",
       "      <td>3</td>\n",
       "      <td>NaN</td>\n",
       "      <td>0.00E+00</td>\n",
       "      <td>Hyderabad</td>\n",
       "      <td>Early_Morning</td>\n",
       "      <td>zero</td>\n",
       "      <td>Morning</td>\n",
       "      <td>Bangalore</td>\n",
       "      <td>Economy</td>\n",
       "      <td>1.50</td>\n",
       "      <td>22.0</td>\n",
       "      <td>1776</td>\n",
       "    </tr>\n",
       "    <tr>\n",
       "      <th>4</th>\n",
       "      <td>4</td>\n",
       "      <td>Air_India</td>\n",
       "      <td>AI-569</td>\n",
       "      <td>Chennai</td>\n",
       "      <td>Early_Morning</td>\n",
       "      <td>one</td>\n",
       "      <td>Morning</td>\n",
       "      <td>Bangalore</td>\n",
       "      <td>Economy</td>\n",
       "      <td>4.83</td>\n",
       "      <td>20.0</td>\n",
       "      <td>3584</td>\n",
       "    </tr>\n",
       "  </tbody>\n",
       "</table>\n",
       "</div>"
      ],
      "text/plain": [
       "   id    airline    flight     source      departure stops  arrival  \\\n",
       "0   0    Vistara    UK-930     Mumbai  Early_Morning   one    Night   \n",
       "1   1  Air_India    AI-539    Chennai        Evening   one  Morning   \n",
       "2   2   SpiceJet   SG-8107      Delhi  Early_Morning  zero  Morning   \n",
       "3   3        NaN  0.00E+00  Hyderabad  Early_Morning  zero  Morning   \n",
       "4   4  Air_India    AI-569    Chennai  Early_Morning   one  Morning   \n",
       "\n",
       "  destination     class  duration  days_left  price  \n",
       "0     Chennai  Business       NaN       40.0  64173  \n",
       "1      Mumbai   Economy     16.08       26.0   4357  \n",
       "2     Chennai   Economy      2.92       25.0   3251  \n",
       "3   Bangalore   Economy      1.50       22.0   1776  \n",
       "4   Bangalore   Economy      4.83       20.0   3584  "
      ]
     },
     "execution_count": 2,
     "metadata": {},
     "output_type": "execute_result"
    }
   ],
   "source": [
    "train = pd.read_csv(\"/kaggle/input/mlp-term-2-2025-kaggle-assignment-1/train.csv\")\n",
    "train.head()"
   ]
  },
  {
   "cell_type": "code",
   "execution_count": 3,
   "id": "f19d1e0c",
   "metadata": {
    "execution": {
     "iopub.execute_input": "2025-06-30T06:21:24.159019Z",
     "iopub.status.busy": "2025-06-30T06:21:24.158676Z",
     "iopub.status.idle": "2025-06-30T06:21:24.200857Z",
     "shell.execute_reply": "2025-06-30T06:21:24.199054Z"
    },
    "papermill": {
     "duration": 0.064188,
     "end_time": "2025-06-30T06:21:24.202547",
     "exception": false,
     "start_time": "2025-06-30T06:21:24.138359",
     "status": "completed"
    },
    "tags": []
   },
   "outputs": [
    {
     "name": "stderr",
     "output_type": "stream",
     "text": [
      "/usr/local/lib/python3.11/dist-packages/pandas/io/formats/format.py:1458: RuntimeWarning: invalid value encountered in greater\n",
      "  has_large_values = (abs_vals > 1e6).any()\n",
      "/usr/local/lib/python3.11/dist-packages/pandas/io/formats/format.py:1459: RuntimeWarning: invalid value encountered in less\n",
      "  has_small_values = ((abs_vals < 10 ** (-self.digits)) & (abs_vals > 0)).any()\n",
      "/usr/local/lib/python3.11/dist-packages/pandas/io/formats/format.py:1459: RuntimeWarning: invalid value encountered in greater\n",
      "  has_small_values = ((abs_vals < 10 ** (-self.digits)) & (abs_vals > 0)).any()\n"
     ]
    },
    {
     "data": {
      "text/html": [
       "<div>\n",
       "<style scoped>\n",
       "    .dataframe tbody tr th:only-of-type {\n",
       "        vertical-align: middle;\n",
       "    }\n",
       "\n",
       "    .dataframe tbody tr th {\n",
       "        vertical-align: top;\n",
       "    }\n",
       "\n",
       "    .dataframe thead th {\n",
       "        text-align: right;\n",
       "    }\n",
       "</style>\n",
       "<table border=\"1\" class=\"dataframe\">\n",
       "  <thead>\n",
       "    <tr style=\"text-align: right;\">\n",
       "      <th></th>\n",
       "      <th>id</th>\n",
       "      <th>airline</th>\n",
       "      <th>flight</th>\n",
       "      <th>source</th>\n",
       "      <th>departure</th>\n",
       "      <th>stops</th>\n",
       "      <th>arrival</th>\n",
       "      <th>destination</th>\n",
       "      <th>class</th>\n",
       "      <th>duration</th>\n",
       "      <th>days_left</th>\n",
       "    </tr>\n",
       "  </thead>\n",
       "  <tbody>\n",
       "    <tr>\n",
       "      <th>0</th>\n",
       "      <td>0</td>\n",
       "      <td>Vistara</td>\n",
       "      <td>UK-816</td>\n",
       "      <td>Bangalore</td>\n",
       "      <td>Morning</td>\n",
       "      <td>zero</td>\n",
       "      <td>Afternoon</td>\n",
       "      <td>Delhi</td>\n",
       "      <td>Economy</td>\n",
       "      <td>2.67</td>\n",
       "      <td>18.0</td>\n",
       "    </tr>\n",
       "    <tr>\n",
       "      <th>1</th>\n",
       "      <td>1</td>\n",
       "      <td>Air_India</td>\n",
       "      <td>AI-440</td>\n",
       "      <td>Chennai</td>\n",
       "      <td>Early_Morning</td>\n",
       "      <td>zero</td>\n",
       "      <td>Morning</td>\n",
       "      <td>Delhi</td>\n",
       "      <td>Economy</td>\n",
       "      <td>NaN</td>\n",
       "      <td>5.0</td>\n",
       "    </tr>\n",
       "    <tr>\n",
       "      <th>2</th>\n",
       "      <td>2</td>\n",
       "      <td>SpiceJet</td>\n",
       "      <td>SG-8938</td>\n",
       "      <td>Delhi</td>\n",
       "      <td>Evening</td>\n",
       "      <td>one</td>\n",
       "      <td>Evening</td>\n",
       "      <td>Bangalore</td>\n",
       "      <td>Economy</td>\n",
       "      <td>NaN</td>\n",
       "      <td>44.0</td>\n",
       "    </tr>\n",
       "    <tr>\n",
       "      <th>3</th>\n",
       "      <td>3</td>\n",
       "      <td>Vistara</td>\n",
       "      <td>UK-838</td>\n",
       "      <td>Chennai</td>\n",
       "      <td>Night</td>\n",
       "      <td>one</td>\n",
       "      <td>Evening</td>\n",
       "      <td>Kolkata</td>\n",
       "      <td>Business</td>\n",
       "      <td>21.00</td>\n",
       "      <td>26.0</td>\n",
       "    </tr>\n",
       "    <tr>\n",
       "      <th>4</th>\n",
       "      <td>4</td>\n",
       "      <td>Air_India</td>\n",
       "      <td>AI-429</td>\n",
       "      <td>Delhi</td>\n",
       "      <td>Morning</td>\n",
       "      <td>one</td>\n",
       "      <td>Evening</td>\n",
       "      <td>Mumbai</td>\n",
       "      <td>Business</td>\n",
       "      <td>7.25</td>\n",
       "      <td>22.0</td>\n",
       "    </tr>\n",
       "  </tbody>\n",
       "</table>\n",
       "</div>"
      ],
      "text/plain": [
       "   id    airline   flight     source      departure stops    arrival  \\\n",
       "0   0    Vistara   UK-816  Bangalore        Morning  zero  Afternoon   \n",
       "1   1  Air_India   AI-440    Chennai  Early_Morning  zero    Morning   \n",
       "2   2   SpiceJet  SG-8938      Delhi        Evening   one    Evening   \n",
       "3   3    Vistara   UK-838    Chennai          Night   one    Evening   \n",
       "4   4  Air_India   AI-429      Delhi        Morning   one    Evening   \n",
       "\n",
       "  destination     class  duration  days_left  \n",
       "0       Delhi   Economy      2.67       18.0  \n",
       "1       Delhi   Economy       NaN        5.0  \n",
       "2   Bangalore   Economy       NaN       44.0  \n",
       "3     Kolkata  Business     21.00       26.0  \n",
       "4      Mumbai  Business      7.25       22.0  "
      ]
     },
     "execution_count": 3,
     "metadata": {},
     "output_type": "execute_result"
    }
   ],
   "source": [
    "test = pd.read_csv(\"/kaggle/input/mlp-term-2-2025-kaggle-assignment-1/test.csv\")\n",
    "test.head()"
   ]
  },
  {
   "cell_type": "code",
   "execution_count": 4,
   "id": "6caa3760",
   "metadata": {
    "execution": {
     "iopub.execute_input": "2025-06-30T06:21:24.245518Z",
     "iopub.status.busy": "2025-06-30T06:21:24.245210Z",
     "iopub.status.idle": "2025-06-30T06:21:24.251174Z",
     "shell.execute_reply": "2025-06-30T06:21:24.250271Z"
    },
    "papermill": {
     "duration": 0.029425,
     "end_time": "2025-06-30T06:21:24.252667",
     "exception": false,
     "start_time": "2025-06-30T06:21:24.223242",
     "status": "completed"
    },
    "tags": []
   },
   "outputs": [
    {
     "data": {
      "text/plain": [
       "((40000, 12), (10000, 11))"
      ]
     },
     "execution_count": 4,
     "metadata": {},
     "output_type": "execute_result"
    }
   ],
   "source": [
    "train.shape,test.shape"
   ]
  },
  {
   "cell_type": "markdown",
   "id": "bdd297c9",
   "metadata": {
    "papermill": {
     "duration": 0.082445,
     "end_time": "2025-06-30T06:21:24.355840",
     "exception": false,
     "start_time": "2025-06-30T06:21:24.273395",
     "status": "completed"
    },
    "tags": []
   },
   "source": [
    "## 1. Identified data types of columns"
   ]
  },
  {
   "cell_type": "code",
   "execution_count": 5,
   "id": "4652d9ea",
   "metadata": {
    "execution": {
     "iopub.execute_input": "2025-06-30T06:21:24.398172Z",
     "iopub.status.busy": "2025-06-30T06:21:24.397800Z",
     "iopub.status.idle": "2025-06-30T06:21:24.405116Z",
     "shell.execute_reply": "2025-06-30T06:21:24.404269Z"
    },
    "papermill": {
     "duration": 0.030984,
     "end_time": "2025-06-30T06:21:24.406629",
     "exception": false,
     "start_time": "2025-06-30T06:21:24.375645",
     "status": "completed"
    },
    "tags": []
   },
   "outputs": [
    {
     "data": {
      "text/plain": [
       "id               int64\n",
       "airline         object\n",
       "flight          object\n",
       "source          object\n",
       "departure       object\n",
       "stops           object\n",
       "arrival         object\n",
       "destination     object\n",
       "class           object\n",
       "duration       float64\n",
       "days_left      float64\n",
       "price            int64\n",
       "dtype: object"
      ]
     },
     "execution_count": 5,
     "metadata": {},
     "output_type": "execute_result"
    }
   ],
   "source": [
    "train.dtypes"
   ]
  },
  {
   "cell_type": "markdown",
   "id": "a4607948",
   "metadata": {
    "papermill": {
     "duration": 0.019597,
     "end_time": "2025-06-30T06:21:24.446232",
     "exception": false,
     "start_time": "2025-06-30T06:21:24.426635",
     "status": "completed"
    },
    "tags": []
   },
   "source": [
    "id:               int64,\n",
    "airline:         object,\n",
    "flight:          object,\n",
    "source:          object,\n",
    "departure:       object,\n",
    "stops:           object,\n",
    "arrival:         object,\n",
    "destination:     object,\n",
    "class:           object,\n",
    "duration:       float64,\n",
    "days_left:      float64,\n",
    "price:            int64"
   ]
  },
  {
   "cell_type": "code",
   "execution_count": 6,
   "id": "4d23e506",
   "metadata": {
    "execution": {
     "iopub.execute_input": "2025-06-30T06:21:24.486961Z",
     "iopub.status.busy": "2025-06-30T06:21:24.486636Z",
     "iopub.status.idle": "2025-06-30T06:21:24.493999Z",
     "shell.execute_reply": "2025-06-30T06:21:24.492848Z"
    },
    "papermill": {
     "duration": 0.029697,
     "end_time": "2025-06-30T06:21:24.495573",
     "exception": false,
     "start_time": "2025-06-30T06:21:24.465876",
     "status": "completed"
    },
    "tags": []
   },
   "outputs": [
    {
     "data": {
      "text/plain": [
       "id               int64\n",
       "airline         object\n",
       "flight          object\n",
       "source          object\n",
       "departure       object\n",
       "stops           object\n",
       "arrival         object\n",
       "destination     object\n",
       "class           object\n",
       "duration       float64\n",
       "days_left      float64\n",
       "dtype: object"
      ]
     },
     "execution_count": 6,
     "metadata": {},
     "output_type": "execute_result"
    }
   ],
   "source": [
    "test.dtypes"
   ]
  },
  {
   "cell_type": "markdown",
   "id": "4df0d4ba",
   "metadata": {
    "papermill": {
     "duration": 0.022838,
     "end_time": "2025-06-30T06:21:24.539594",
     "exception": false,
     "start_time": "2025-06-30T06:21:24.516756",
     "status": "completed"
    },
    "tags": []
   },
   "source": [
    "## 2. Descriptive statistics of numerical columns"
   ]
  },
  {
   "cell_type": "code",
   "execution_count": 7,
   "id": "93e9e7e6",
   "metadata": {
    "execution": {
     "iopub.execute_input": "2025-06-30T06:21:24.582389Z",
     "iopub.status.busy": "2025-06-30T06:21:24.582107Z",
     "iopub.status.idle": "2025-06-30T06:21:24.615144Z",
     "shell.execute_reply": "2025-06-30T06:21:24.614237Z"
    },
    "papermill": {
     "duration": 0.055927,
     "end_time": "2025-06-30T06:21:24.616615",
     "exception": false,
     "start_time": "2025-06-30T06:21:24.560688",
     "status": "completed"
    },
    "tags": []
   },
   "outputs": [
    {
     "data": {
      "text/html": [
       "<div>\n",
       "<style scoped>\n",
       "    .dataframe tbody tr th:only-of-type {\n",
       "        vertical-align: middle;\n",
       "    }\n",
       "\n",
       "    .dataframe tbody tr th {\n",
       "        vertical-align: top;\n",
       "    }\n",
       "\n",
       "    .dataframe thead th {\n",
       "        text-align: right;\n",
       "    }\n",
       "</style>\n",
       "<table border=\"1\" class=\"dataframe\">\n",
       "  <thead>\n",
       "    <tr style=\"text-align: right;\">\n",
       "      <th></th>\n",
       "      <th>id</th>\n",
       "      <th>duration</th>\n",
       "      <th>days_left</th>\n",
       "      <th>price</th>\n",
       "    </tr>\n",
       "  </thead>\n",
       "  <tbody>\n",
       "    <tr>\n",
       "      <th>count</th>\n",
       "      <td>40000.00000</td>\n",
       "      <td>36987.000000</td>\n",
       "      <td>35562.000000</td>\n",
       "      <td>40000.00000</td>\n",
       "    </tr>\n",
       "    <tr>\n",
       "      <th>mean</th>\n",
       "      <td>19999.50000</td>\n",
       "      <td>12.004088</td>\n",
       "      <td>26.197936</td>\n",
       "      <td>20801.49025</td>\n",
       "    </tr>\n",
       "    <tr>\n",
       "      <th>std</th>\n",
       "      <td>11547.14972</td>\n",
       "      <td>7.108063</td>\n",
       "      <td>13.469232</td>\n",
       "      <td>22729.14842</td>\n",
       "    </tr>\n",
       "    <tr>\n",
       "      <th>min</th>\n",
       "      <td>0.00000</td>\n",
       "      <td>0.830000</td>\n",
       "      <td>1.000000</td>\n",
       "      <td>1105.00000</td>\n",
       "    </tr>\n",
       "    <tr>\n",
       "      <th>25%</th>\n",
       "      <td>9999.75000</td>\n",
       "      <td>6.670000</td>\n",
       "      <td>15.000000</td>\n",
       "      <td>4687.00000</td>\n",
       "    </tr>\n",
       "    <tr>\n",
       "      <th>50%</th>\n",
       "      <td>19999.50000</td>\n",
       "      <td>11.080000</td>\n",
       "      <td>26.000000</td>\n",
       "      <td>7353.00000</td>\n",
       "    </tr>\n",
       "    <tr>\n",
       "      <th>75%</th>\n",
       "      <td>29999.25000</td>\n",
       "      <td>15.920000</td>\n",
       "      <td>38.000000</td>\n",
       "      <td>42521.00000</td>\n",
       "    </tr>\n",
       "    <tr>\n",
       "      <th>max</th>\n",
       "      <td>39999.00000</td>\n",
       "      <td>47.080000</td>\n",
       "      <td>49.000000</td>\n",
       "      <td>114704.00000</td>\n",
       "    </tr>\n",
       "  </tbody>\n",
       "</table>\n",
       "</div>"
      ],
      "text/plain": [
       "                id      duration     days_left         price\n",
       "count  40000.00000  36987.000000  35562.000000   40000.00000\n",
       "mean   19999.50000     12.004088     26.197936   20801.49025\n",
       "std    11547.14972      7.108063     13.469232   22729.14842\n",
       "min        0.00000      0.830000      1.000000    1105.00000\n",
       "25%     9999.75000      6.670000     15.000000    4687.00000\n",
       "50%    19999.50000     11.080000     26.000000    7353.00000\n",
       "75%    29999.25000     15.920000     38.000000   42521.00000\n",
       "max    39999.00000     47.080000     49.000000  114704.00000"
      ]
     },
     "execution_count": 7,
     "metadata": {},
     "output_type": "execute_result"
    }
   ],
   "source": [
    "train.describe()"
   ]
  },
  {
   "cell_type": "code",
   "execution_count": 8,
   "id": "0ec3ae39",
   "metadata": {
    "execution": {
     "iopub.execute_input": "2025-06-30T06:21:24.659260Z",
     "iopub.status.busy": "2025-06-30T06:21:24.658546Z",
     "iopub.status.idle": "2025-06-30T06:21:24.674666Z",
     "shell.execute_reply": "2025-06-30T06:21:24.673863Z"
    },
    "papermill": {
     "duration": 0.039367,
     "end_time": "2025-06-30T06:21:24.676392",
     "exception": false,
     "start_time": "2025-06-30T06:21:24.637025",
     "status": "completed"
    },
    "tags": []
   },
   "outputs": [
    {
     "data": {
      "text/html": [
       "<div>\n",
       "<style scoped>\n",
       "    .dataframe tbody tr th:only-of-type {\n",
       "        vertical-align: middle;\n",
       "    }\n",
       "\n",
       "    .dataframe tbody tr th {\n",
       "        vertical-align: top;\n",
       "    }\n",
       "\n",
       "    .dataframe thead th {\n",
       "        text-align: right;\n",
       "    }\n",
       "</style>\n",
       "<table border=\"1\" class=\"dataframe\">\n",
       "  <thead>\n",
       "    <tr style=\"text-align: right;\">\n",
       "      <th></th>\n",
       "      <th>id</th>\n",
       "      <th>duration</th>\n",
       "      <th>days_left</th>\n",
       "    </tr>\n",
       "  </thead>\n",
       "  <tbody>\n",
       "    <tr>\n",
       "      <th>count</th>\n",
       "      <td>10000.00000</td>\n",
       "      <td>9418.000000</td>\n",
       "      <td>9304.000000</td>\n",
       "    </tr>\n",
       "    <tr>\n",
       "      <th>mean</th>\n",
       "      <td>4999.50000</td>\n",
       "      <td>12.005125</td>\n",
       "      <td>26.163156</td>\n",
       "    </tr>\n",
       "    <tr>\n",
       "      <th>std</th>\n",
       "      <td>2886.89568</td>\n",
       "      <td>7.086652</td>\n",
       "      <td>13.453717</td>\n",
       "    </tr>\n",
       "    <tr>\n",
       "      <th>min</th>\n",
       "      <td>0.00000</td>\n",
       "      <td>0.920000</td>\n",
       "      <td>1.000000</td>\n",
       "    </tr>\n",
       "    <tr>\n",
       "      <th>25%</th>\n",
       "      <td>2499.75000</td>\n",
       "      <td>6.670000</td>\n",
       "      <td>15.000000</td>\n",
       "    </tr>\n",
       "    <tr>\n",
       "      <th>50%</th>\n",
       "      <td>4999.50000</td>\n",
       "      <td>11.170000</td>\n",
       "      <td>26.000000</td>\n",
       "    </tr>\n",
       "    <tr>\n",
       "      <th>75%</th>\n",
       "      <td>7499.25000</td>\n",
       "      <td>15.920000</td>\n",
       "      <td>38.000000</td>\n",
       "    </tr>\n",
       "    <tr>\n",
       "      <th>max</th>\n",
       "      <td>9999.00000</td>\n",
       "      <td>40.420000</td>\n",
       "      <td>49.000000</td>\n",
       "    </tr>\n",
       "  </tbody>\n",
       "</table>\n",
       "</div>"
      ],
      "text/plain": [
       "                id     duration    days_left\n",
       "count  10000.00000  9418.000000  9304.000000\n",
       "mean    4999.50000    12.005125    26.163156\n",
       "std     2886.89568     7.086652    13.453717\n",
       "min        0.00000     0.920000     1.000000\n",
       "25%     2499.75000     6.670000    15.000000\n",
       "50%     4999.50000    11.170000    26.000000\n",
       "75%     7499.25000    15.920000    38.000000\n",
       "max     9999.00000    40.420000    49.000000"
      ]
     },
     "execution_count": 8,
     "metadata": {},
     "output_type": "execute_result"
    }
   ],
   "source": [
    "test.describe()"
   ]
  },
  {
   "cell_type": "markdown",
   "id": "e166252f",
   "metadata": {
    "papermill": {
     "duration": 0.022196,
     "end_time": "2025-06-30T06:21:24.720675",
     "exception": false,
     "start_time": "2025-06-30T06:21:24.698479",
     "status": "completed"
    },
    "tags": []
   },
   "source": [
    "## 3. Identify and handle missing values"
   ]
  },
  {
   "cell_type": "code",
   "execution_count": 9,
   "id": "95eb7ecb",
   "metadata": {
    "execution": {
     "iopub.execute_input": "2025-06-30T06:21:24.763703Z",
     "iopub.status.busy": "2025-06-30T06:21:24.763394Z",
     "iopub.status.idle": "2025-06-30T06:21:24.789288Z",
     "shell.execute_reply": "2025-06-30T06:21:24.788176Z"
    },
    "papermill": {
     "duration": 0.049088,
     "end_time": "2025-06-30T06:21:24.790927",
     "exception": false,
     "start_time": "2025-06-30T06:21:24.741839",
     "status": "completed"
    },
    "tags": []
   },
   "outputs": [
    {
     "data": {
      "text/plain": [
       "id                0\n",
       "airline        4613\n",
       "flight            0\n",
       "source            0\n",
       "departure      4792\n",
       "stops          2319\n",
       "arrival           0\n",
       "destination       0\n",
       "class             0\n",
       "duration       3013\n",
       "days_left      4438\n",
       "price             0\n",
       "dtype: int64"
      ]
     },
     "execution_count": 9,
     "metadata": {},
     "output_type": "execute_result"
    }
   ],
   "source": [
    "train.isnull().sum()"
   ]
  },
  {
   "cell_type": "markdown",
   "id": "cd34786c",
   "metadata": {
    "papermill": {
     "duration": 0.021168,
     "end_time": "2025-06-30T06:21:24.834054",
     "exception": false,
     "start_time": "2025-06-30T06:21:24.812886",
     "status": "completed"
    },
    "tags": []
   },
   "source": [
    "Train null values\n",
    "| Column         | Missing Values |\n",
    "| -------------- | -------------- |\n",
    "| **airline**    | 4,613          |\n",
    "| **departure**  | 4,792          |\n",
    "| **stops**      | 2,319          |\n",
    "| **duration**   | 3,013          |\n",
    "| **days\\_left** | 4,438          |\n"
   ]
  },
  {
   "cell_type": "code",
   "execution_count": 10,
   "id": "09292b69",
   "metadata": {
    "execution": {
     "iopub.execute_input": "2025-06-30T06:21:24.876054Z",
     "iopub.status.busy": "2025-06-30T06:21:24.875734Z",
     "iopub.status.idle": "2025-06-30T06:21:24.887615Z",
     "shell.execute_reply": "2025-06-30T06:21:24.886770Z"
    },
    "papermill": {
     "duration": 0.034607,
     "end_time": "2025-06-30T06:21:24.889209",
     "exception": false,
     "start_time": "2025-06-30T06:21:24.854602",
     "status": "completed"
    },
    "tags": []
   },
   "outputs": [
    {
     "data": {
      "text/plain": [
       "id               0\n",
       "airline        548\n",
       "flight           0\n",
       "source           0\n",
       "departure      920\n",
       "stops          651\n",
       "arrival          0\n",
       "destination      0\n",
       "class            0\n",
       "duration       582\n",
       "days_left      696\n",
       "dtype: int64"
      ]
     },
     "execution_count": 10,
     "metadata": {},
     "output_type": "execute_result"
    }
   ],
   "source": [
    "test.isnull().sum()"
   ]
  },
  {
   "cell_type": "markdown",
   "id": "8e062ad6",
   "metadata": {
    "papermill": {
     "duration": 0.020465,
     "end_time": "2025-06-30T06:21:24.931188",
     "exception": false,
     "start_time": "2025-06-30T06:21:24.910723",
     "status": "completed"
    },
    "tags": []
   },
   "source": [
    "Test null values\n",
    "| Column         | Missing Values |\n",
    "| -------------- | -------------- |\n",
    "| **airline**    | 548          |\n",
    "| **departure**  | 920          |\n",
    "| **stops**      | 651          |\n",
    "| **duration**   | 582          |\n",
    "| **days\\_left** | 696          |\n"
   ]
  },
  {
   "cell_type": "markdown",
   "id": "431abac8",
   "metadata": {
    "papermill": {
     "duration": 0.020532,
     "end_time": "2025-06-30T06:21:24.972814",
     "exception": false,
     "start_time": "2025-06-30T06:21:24.952282",
     "status": "completed"
    },
    "tags": []
   },
   "source": [
    "Duration distribution"
   ]
  },
  {
   "cell_type": "code",
   "execution_count": 11,
   "id": "5555823f",
   "metadata": {
    "execution": {
     "iopub.execute_input": "2025-06-30T06:21:25.016780Z",
     "iopub.status.busy": "2025-06-30T06:21:25.016480Z",
     "iopub.status.idle": "2025-06-30T06:21:27.715199Z",
     "shell.execute_reply": "2025-06-30T06:21:27.714209Z"
    },
    "papermill": {
     "duration": 2.723658,
     "end_time": "2025-06-30T06:21:27.716820",
     "exception": false,
     "start_time": "2025-06-30T06:21:24.993162",
     "status": "completed"
    },
    "tags": []
   },
   "outputs": [
    {
     "name": "stderr",
     "output_type": "stream",
     "text": [
      "/usr/local/lib/python3.11/dist-packages/seaborn/_oldcore.py:1119: FutureWarning: use_inf_as_na option is deprecated and will be removed in a future version. Convert inf values to NaN before operating instead.\n",
      "  with pd.option_context('mode.use_inf_as_na', True):\n"
     ]
    },
    {
     "data": {
      "image/png": "[encoded data removed]",
      "text/plain": [
       "<Figure size 1000x600 with 1 Axes>"
      ]
     },
     "metadata": {},
     "output_type": "display_data"
    }
   ],
   "source": [
    "import matplotlib.pyplot as plt\n",
    "import seaborn as sns\n",
    "\n",
    "plt.figure(figsize=(10, 6))\n",
    "sns.histplot(train[\"duration\"], bins=40, kde=True, color='skyblue')\n",
    "plt.title(\"Distribution of Flight Duration(train)\")\n",
    "plt.xlabel(\"Duration (hours)\")\n",
    "plt.ylabel(\"Frequency\")\n",
    "plt.grid(True)\n",
    "plt.show()\n"
   ]
  },
  {
   "cell_type": "code",
   "execution_count": 12,
   "id": "d86a93e0",
   "metadata": {
    "execution": {
     "iopub.execute_input": "2025-06-30T06:21:27.762219Z",
     "iopub.status.busy": "2025-06-30T06:21:27.761435Z",
     "iopub.status.idle": "2025-06-30T06:21:28.131226Z",
     "shell.execute_reply": "2025-06-30T06:21:28.130183Z"
    },
    "papermill": {
     "duration": 0.394166,
     "end_time": "2025-06-30T06:21:28.132766",
     "exception": false,
     "start_time": "2025-06-30T06:21:27.738600",
     "status": "completed"
    },
    "tags": []
   },
   "outputs": [
    {
     "name": "stderr",
     "output_type": "stream",
     "text": [
      "/usr/local/lib/python3.11/dist-packages/seaborn/_oldcore.py:1119: FutureWarning: use_inf_as_na option is deprecated and will be removed in a future version. Convert inf values to NaN before operating instead.\n",
      "  with pd.option_context('mode.use_inf_as_na', True):\n"
     ]
    },
    {
     "data": {
      "image/png": "[encoded data removed]",
      "text/plain": [
       "<Figure size 1000x600 with 1 Axes>"
      ]
     },
     "metadata": {},
     "output_type": "display_data"
    }
   ],
   "source": [
    "plt.figure(figsize=(10, 6))\n",
    "sns.histplot(test[\"duration\"], bins=40, kde=True, color='skyblue')\n",
    "plt.title(\"Distribution of Flight Duration(test)\")\n",
    "plt.xlabel(\"Duration (hours)\")\n",
    "plt.ylabel(\"Frequency\")\n",
    "plt.grid(True)\n",
    "plt.show()"
   ]
  },
  {
   "cell_type": "code",
   "execution_count": 13,
   "id": "c8166352",
   "metadata": {
    "execution": {
     "iopub.execute_input": "2025-06-30T06:21:28.182532Z",
     "iopub.status.busy": "2025-06-30T06:21:28.182222Z",
     "iopub.status.idle": "2025-06-30T06:21:28.297136Z",
     "shell.execute_reply": "2025-06-30T06:21:28.296272Z"
    },
    "papermill": {
     "duration": 0.140701,
     "end_time": "2025-06-30T06:21:28.298566",
     "exception": false,
     "start_time": "2025-06-30T06:21:28.157865",
     "status": "completed"
    },
    "tags": []
   },
   "outputs": [
    {
     "data": {
      "image/png": "[encoded data removed]",
      "text/plain": [
       "<Figure size 800x400 with 1 Axes>"
      ]
     },
     "metadata": {},
     "output_type": "display_data"
    }
   ],
   "source": [
    "plt.figure(figsize=(8, 4))\n",
    "sns.boxplot(x=train[\"duration\"], color='lightcoral')\n",
    "plt.title(\"Box Plot of Flight Duration(train)\")\n",
    "plt.xlabel(\"Duration (hours)\")\n",
    "plt.grid(True)\n",
    "plt.show()"
   ]
  },
  {
   "cell_type": "code",
   "execution_count": 14,
   "id": "b5307e8c",
   "metadata": {
    "execution": {
     "iopub.execute_input": "2025-06-30T06:21:28.349078Z",
     "iopub.status.busy": "2025-06-30T06:21:28.348660Z",
     "iopub.status.idle": "2025-06-30T06:21:28.478111Z",
     "shell.execute_reply": "2025-06-30T06:21:28.477013Z"
    },
    "papermill": {
     "duration": 0.158214,
     "end_time": "2025-06-30T06:21:28.479918",
     "exception": false,
     "start_time": "2025-06-30T06:21:28.321704",
     "status": "completed"
    },
    "tags": []
   },
   "outputs": [
    {
     "data": {
      "image/png": "[encoded data removed]",
      "text/plain": [
       "<Figure size 800x400 with 1 Axes>"
      ]
     },
     "metadata": {},
     "output_type": "display_data"
    }
   ],
   "source": [
    "plt.figure(figsize=(8, 4))\n",
    "sns.boxplot(x=test[\"duration\"], color='lightcoral')\n",
    "plt.title(\"Box Plot of Flight Duration(test)\")\n",
    "plt.xlabel(\"Duration (hours)\")\n",
    "plt.grid(True)\n",
    "plt.show()"
   ]
  },
  {
   "cell_type": "markdown",
   "id": "b5605cef",
   "metadata": {
    "papermill": {
     "duration": 0.022805,
     "end_time": "2025-06-30T06:21:28.526278",
     "exception": false,
     "start_time": "2025-06-30T06:21:28.503473",
     "status": "completed"
    },
    "tags": []
   },
   "source": [
    "- the duration column is right skewed (from hist). so the central tendency is more represented by the medain than mean.\n",
    "- the duration has outliers(from boxplot) which affects mean. so median is the best strategy for imputing duration."
   ]
  },
  {
   "cell_type": "markdown",
   "id": "f8a9366d",
   "metadata": {
    "papermill": {
     "duration": 0.025158,
     "end_time": "2025-06-30T06:21:28.574716",
     "exception": false,
     "start_time": "2025-06-30T06:21:28.549558",
     "status": "completed"
    },
    "tags": []
   },
   "source": [
    "days_left distribution"
   ]
  },
  {
   "cell_type": "code",
   "execution_count": 15,
   "id": "dfc6a63b",
   "metadata": {
    "execution": {
     "iopub.execute_input": "2025-06-30T06:21:28.624004Z",
     "iopub.status.busy": "2025-06-30T06:21:28.623480Z",
     "iopub.status.idle": "2025-06-30T06:21:29.074055Z",
     "shell.execute_reply": "2025-06-30T06:21:29.073135Z"
    },
    "papermill": {
     "duration": 0.477781,
     "end_time": "2025-06-30T06:21:29.075562",
     "exception": false,
     "start_time": "2025-06-30T06:21:28.597781",
     "status": "completed"
    },
    "tags": []
   },
   "outputs": [
    {
     "name": "stderr",
     "output_type": "stream",
     "text": [
      "/usr/local/lib/python3.11/dist-packages/seaborn/_oldcore.py:1119: FutureWarning: use_inf_as_na option is deprecated and will be removed in a future version. Convert inf values to NaN before operating instead.\n",
      "  with pd.option_context('mode.use_inf_as_na', True):\n"
     ]
    },
    {
     "data": {
      "image/png": "[encoded data removed]",
      "text/plain": [
       "<Figure size 1000x600 with 1 Axes>"
      ]
     },
     "metadata": {},
     "output_type": "display_data"
    }
   ],
   "source": [
    "import matplotlib.pyplot as plt\n",
    "import seaborn as sns\n",
    "\n",
    "plt.figure(figsize=(10, 6))\n",
    "sns.histplot(train[\"days_left\"], bins=40, kde=True, color='skyblue')\n",
    "plt.title(\"Distribution of days_left(train)\")\n",
    "plt.xlabel(\"Days_left\")\n",
    "plt.ylabel(\"Frequency\")\n",
    "plt.grid(True)\n",
    "plt.show()"
   ]
  },
  {
   "cell_type": "code",
   "execution_count": 16,
   "id": "de95a1ce",
   "metadata": {
    "execution": {
     "iopub.execute_input": "2025-06-30T06:21:29.126325Z",
     "iopub.status.busy": "2025-06-30T06:21:29.126022Z",
     "iopub.status.idle": "2025-06-30T06:21:29.472605Z",
     "shell.execute_reply": "2025-06-30T06:21:29.471615Z"
    },
    "papermill": {
     "duration": 0.374488,
     "end_time": "2025-06-30T06:21:29.474269",
     "exception": false,
     "start_time": "2025-06-30T06:21:29.099781",
     "status": "completed"
    },
    "tags": []
   },
   "outputs": [
    {
     "name": "stderr",
     "output_type": "stream",
     "text": [
      "/usr/local/lib/python3.11/dist-packages/seaborn/_oldcore.py:1119: FutureWarning: use_inf_as_na option is deprecated and will be removed in a future version. Convert inf values to NaN before operating instead.\n",
      "  with pd.option_context('mode.use_inf_as_na', True):\n"
     ]
    },
    {
     "data": {
      "image/png": "[encoded data removed]",
      "text/plain": [
       "<Figure size 1000x600 with 1 Axes>"
      ]
     },
     "metadata": {},
     "output_type": "display_data"
    }
   ],
   "source": [
    "plt.figure(figsize=(10, 6))\n",
    "sns.histplot(test[\"days_left\"], bins=40, kde=True, color='skyblue')\n",
    "plt.title(\"Distribution of days_left(test)\")\n",
    "plt.xlabel(\"Days_left\")\n",
    "plt.ylabel(\"Frequency\")\n",
    "plt.grid(True)\n",
    "plt.show()"
   ]
  },
  {
   "cell_type": "code",
   "execution_count": 17,
   "id": "3700d1e6",
   "metadata": {
    "execution": {
     "iopub.execute_input": "2025-06-30T06:21:29.527048Z",
     "iopub.status.busy": "2025-06-30T06:21:29.526657Z",
     "iopub.status.idle": "2025-06-30T06:21:29.640772Z",
     "shell.execute_reply": "2025-06-30T06:21:29.639836Z"
    },
    "papermill": {
     "duration": 0.142528,
     "end_time": "2025-06-30T06:21:29.642382",
     "exception": false,
     "start_time": "2025-06-30T06:21:29.499854",
     "status": "completed"
    },
    "tags": []
   },
   "outputs": [
    {
     "data": {
      "image/png": "[encoded data removed]",
      "text/plain": [
       "<Figure size 800x400 with 1 Axes>"
      ]
     },
     "metadata": {},
     "output_type": "display_data"
    }
   ],
   "source": [
    "plt.figure(figsize=(8, 4))\n",
    "sns.boxplot(x=train[\"days_left\"], color='lightcoral')\n",
    "plt.title(\"Box Plot of days_left(train)\")\n",
    "plt.xlabel(\"days_left\")\n",
    "plt.grid(True)\n",
    "plt.show()\n"
   ]
  },
  {
   "cell_type": "code",
   "execution_count": 18,
   "id": "87f36811",
   "metadata": {
    "execution": {
     "iopub.execute_input": "2025-06-30T06:21:29.695151Z",
     "iopub.status.busy": "2025-06-30T06:21:29.694799Z",
     "iopub.status.idle": "2025-06-30T06:21:29.808875Z",
     "shell.execute_reply": "2025-06-30T06:21:29.807972Z"
    },
    "papermill": {
     "duration": 0.142286,
     "end_time": "2025-06-30T06:21:29.810517",
     "exception": false,
     "start_time": "2025-06-30T06:21:29.668231",
     "status": "completed"
    },
    "tags": []
   },
   "outputs": [
    {
     "data": {
      "image/png": "[encoded data removed]",
      "text/plain": [
       "<Figure size 800x400 with 1 Axes>"
      ]
     },
     "metadata": {},
     "output_type": "display_data"
    }
   ],
   "source": [
    "plt.figure(figsize=(8, 4))\n",
    "sns.boxplot(x=test[\"days_left\"], color='lightcoral')\n",
    "plt.title(\"Box Plot of days_left(test)\")\n",
    "plt.xlabel(\"days_left\")\n",
    "plt.grid(True)\n",
    "plt.show()"
   ]
  },
  {
   "cell_type": "markdown",
   "id": "14324783",
   "metadata": {
    "papermill": {
     "duration": 0.024411,
     "end_time": "2025-06-30T06:21:29.861612",
     "exception": false,
     "start_time": "2025-06-30T06:21:29.837201",
     "status": "completed"
    },
    "tags": []
   },
   "source": [
    "- the histogram plot shows that the median represents the central tendency better without getting affected by some spikes in the data.\n",
    "- the box plot shows that the column has no potential outliers.hence medain is the best possible strategy for imputing days_left column"
   ]
  },
  {
   "cell_type": "markdown",
   "id": "a38dda0a",
   "metadata": {
    "papermill": {
     "duration": 0.025062,
     "end_time": "2025-06-30T06:21:29.912002",
     "exception": false,
     "start_time": "2025-06-30T06:21:29.886940",
     "status": "completed"
    },
    "tags": []
   },
   "source": [
    "Imputing missing values using SimpleImputer"
   ]
  },
  {
   "cell_type": "code",
   "execution_count": 19,
   "id": "e0b9bde1",
   "metadata": {
    "execution": {
     "iopub.execute_input": "2025-06-30T06:21:29.964678Z",
     "iopub.status.busy": "2025-06-30T06:21:29.963842Z",
     "iopub.status.idle": "2025-06-30T06:21:30.527645Z",
     "shell.execute_reply": "2025-06-30T06:21:30.526759Z"
    },
    "papermill": {
     "duration": 0.591626,
     "end_time": "2025-06-30T06:21:30.529482",
     "exception": false,
     "start_time": "2025-06-30T06:21:29.937856",
     "status": "completed"
    },
    "tags": []
   },
   "outputs": [],
   "source": [
    "from sklearn.impute import SimpleImputer\n",
    "from sklearn.compose import ColumnTransformer\n",
    "from sklearn.pipeline import Pipeline"
   ]
  },
  {
   "cell_type": "code",
   "execution_count": 20,
   "id": "99d5b025",
   "metadata": {
    "execution": {
     "iopub.execute_input": "2025-06-30T06:21:30.585297Z",
     "iopub.status.busy": "2025-06-30T06:21:30.584960Z",
     "iopub.status.idle": "2025-06-30T06:21:30.597154Z",
     "shell.execute_reply": "2025-06-30T06:21:30.596187Z"
    },
    "papermill": {
     "duration": 0.042883,
     "end_time": "2025-06-30T06:21:30.599062",
     "exception": false,
     "start_time": "2025-06-30T06:21:30.556179",
     "status": "completed"
    },
    "tags": []
   },
   "outputs": [],
   "source": [
    "X = train.drop(columns=[\"id\",\"price\"])\n",
    "y = train['price']\n",
    "test = test.drop(columns=[\"id\"])"
   ]
  },
  {
   "cell_type": "code",
   "execution_count": 21,
   "id": "bc9e78c0",
   "metadata": {
    "execution": {
     "iopub.execute_input": "2025-06-30T06:21:30.652433Z",
     "iopub.status.busy": "2025-06-30T06:21:30.652111Z",
     "iopub.status.idle": "2025-06-30T06:21:30.657734Z",
     "shell.execute_reply": "2025-06-30T06:21:30.656473Z"
    },
    "papermill": {
     "duration": 0.034258,
     "end_time": "2025-06-30T06:21:30.659873",
     "exception": false,
     "start_time": "2025-06-30T06:21:30.625615",
     "status": "completed"
    },
    "tags": []
   },
   "outputs": [],
   "source": [
    "cat_col = [\"airline\", \"departure\", \"stops\", \"flight\", \"source\", \"arrival\", \"destination\", \"class\"]\n",
    "num_col = [\"duration\", \"days_left\"]"
   ]
  },
  {
   "cell_type": "code",
   "execution_count": 22,
   "id": "e93a0365",
   "metadata": {
    "execution": {
     "iopub.execute_input": "2025-06-30T06:21:30.716520Z",
     "iopub.status.busy": "2025-06-30T06:21:30.716151Z",
     "iopub.status.idle": "2025-06-30T06:21:30.812653Z",
     "shell.execute_reply": "2025-06-30T06:21:30.811735Z"
    },
    "papermill": {
     "duration": 0.128114,
     "end_time": "2025-06-30T06:21:30.814612",
     "exception": false,
     "start_time": "2025-06-30T06:21:30.686498",
     "status": "completed"
    },
    "tags": []
   },
   "outputs": [
    {
     "data": {
      "text/html": [
       "<style>#sk-container-id-1 {color: black;background-color: white;}#sk-container-id-1 pre{padding: 0;}#sk-container-id-1 div.sk-toggleable {background-color: white;}#sk-container-id-1 label.sk-toggleable__label {cursor: pointer;display: block;width: 100%;margin-bottom: 0;padding: 0.3em;box-sizing: border-box;text-align: center;}#sk-container-id-1 label.sk-toggleable__label-arrow:before {content: \"▸\";float: left;margin-right: 0.25em;color: #696969;}#sk-container-id-1 label.sk-toggleable__label-arrow:hover:before {color: black;}#sk-container-id-1 div.sk-estimator:hover label.sk-toggleable__label-arrow:before {color: black;}#sk-container-id-1 div.sk-toggleable__content {max-height: 0;max-width: 0;overflow: hidden;text-align: left;background-color: #f0f8ff;}#sk-container-id-1 div.sk-toggleable__content pre {margin: 0.2em;color: black;border-radius: 0.25em;background-color: #f0f8ff;}#sk-container-id-1 input.sk-toggleable__control:checked~div.sk-toggleable__content {max-height: 200px;max-width: 100%;overflow: auto;}#sk-container-id-1 input.sk-toggleable__control:checked~label.sk-toggleable__label-arrow:before {content: \"▾\";}#sk-container-id-1 div.sk-estimator input.sk-toggleable__control:checked~label.sk-toggleable__label {background-color: #d4ebff;}#sk-container-id-1 div.sk-label input.sk-toggleable__control:checked~label.sk-toggleable__label {background-color: #d4ebff;}#sk-container-id-1 input.sk-hidden--visually {border: 0;clip: rect(1px 1px 1px 1px);clip: rect(1px, 1px, 1px, 1px);height: 1px;margin: -1px;overflow: hidden;padding: 0;position: absolute;width: 1px;}#sk-container-id-1 div.sk-estimator {font-family: monospace;background-color: #f0f8ff;border: 1px dotted black;border-radius: 0.25em;box-sizing: border-box;margin-bottom: 0.5em;}#sk-container-id-1 div.sk-estimator:hover {background-color: #d4ebff;}#sk-container-id-1 div.sk-parallel-item::after {content: \"\";width: 100%;border-bottom: 1px solid gray;flex-grow: 1;}#sk-container-id-1 div.sk-label:hover label.sk-toggleable__label {background-color: #d4ebff;}#sk-container-id-1 div.sk-serial::before {content: \"\";position: absolute;border-left: 1px solid gray;box-sizing: border-box;top: 0;bottom: 0;left: 50%;z-index: 0;}#sk-container-id-1 div.sk-serial {display: flex;flex-direction: column;align-items: center;background-color: white;padding-right: 0.2em;padding-left: 0.2em;position: relative;}#sk-container-id-1 div.sk-item {position: relative;z-index: 1;}#sk-container-id-1 div.sk-parallel {display: flex;align-items: stretch;justify-content: center;background-color: white;position: relative;}#sk-container-id-1 div.sk-item::before, #sk-container-id-1 div.sk-parallel-item::before {content: \"\";position: absolute;border-left: 1px solid gray;box-sizing: border-box;top: 0;bottom: 0;left: 50%;z-index: -1;}#sk-container-id-1 div.sk-parallel-item {display: flex;flex-direction: column;z-index: 1;position: relative;background-color: white;}#sk-container-id-1 div.sk-parallel-item:first-child::after {align-self: flex-end;width: 50%;}#sk-container-id-1 div.sk-parallel-item:last-child::after {align-self: flex-start;width: 50%;}#sk-container-id-1 div.sk-parallel-item:only-child::after {width: 0;}#sk-container-id-1 div.sk-dashed-wrapped {border: 1px dashed gray;margin: 0 0.4em 0.5em 0.4em;box-sizing: border-box;padding-bottom: 0.4em;background-color: white;}#sk-container-id-1 div.sk-label label {font-family: monospace;font-weight: bold;display: inline-block;line-height: 1.2em;}#sk-container-id-1 div.sk-label-container {text-align: center;}#sk-container-id-1 div.sk-container {/* jupyter's `normalize.less` sets `[hidden] { display: none; }` but bootstrap.min.css set `[hidden] { display: none !important; }` so we also need the `!important` here to be able to override the default hidden behavior on the sphinx rendered scikit-learn.org. See: https://github.com/scikit-learn/scikit-learn/issues/21755 */display: inline-block !important;position: relative;}#sk-container-id-1 div.sk-text-repr-fallback {display: none;}</style><div id=\"sk-container-id-1\" class=\"sk-top-container\"><div class=\"sk-text-repr-fallback\"><pre>ColumnTransformer(remainder=&#x27;passthrough&#x27;,\n",
       "                  transformers=[(&#x27;cat_imputer&#x27;,\n",
       "                                 SimpleImputer(strategy=&#x27;most_frequent&#x27;),\n",
       "                                 [&#x27;airline&#x27;, &#x27;departure&#x27;, &#x27;stops&#x27;, &#x27;flight&#x27;,\n",
       "                                  &#x27;source&#x27;, &#x27;arrival&#x27;, &#x27;destination&#x27;,\n",
       "                                  &#x27;class&#x27;]),\n",
       "                                (&#x27;num_imputer&#x27;,\n",
       "                                 SimpleImputer(strategy=&#x27;median&#x27;),\n",
       "                                 [&#x27;duration&#x27;, &#x27;days_left&#x27;])])</pre><b>In a Jupyter environment, please rerun this cell to show the HTML representation or trust the notebook. <br />On GitHub, the HTML representation is unable to render, please try loading this page with nbviewer.org.</b></div><div class=\"sk-container\" hidden><div class=\"sk-item sk-dashed-wrapped\"><div class=\"sk-label-container\"><div class=\"sk-label sk-toggleable\"><input class=\"sk-toggleable__control sk-hidden--visually\" id=\"sk-estimator-id-1\" type=\"checkbox\" ><label for=\"sk-estimator-id-1\" class=\"sk-toggleable__label sk-toggleable__label-arrow\">ColumnTransformer</label><div class=\"sk-toggleable__content\"><pre>ColumnTransformer(remainder=&#x27;passthrough&#x27;,\n",
       "                  transformers=[(&#x27;cat_imputer&#x27;,\n",
       "                                 SimpleImputer(strategy=&#x27;most_frequent&#x27;),\n",
       "                                 [&#x27;airline&#x27;, &#x27;departure&#x27;, &#x27;stops&#x27;, &#x27;flight&#x27;,\n",
       "                                  &#x27;source&#x27;, &#x27;arrival&#x27;, &#x27;destination&#x27;,\n",
       "                                  &#x27;class&#x27;]),\n",
       "                                (&#x27;num_imputer&#x27;,\n",
       "                                 SimpleImputer(strategy=&#x27;median&#x27;),\n",
       "                                 [&#x27;duration&#x27;, &#x27;days_left&#x27;])])</pre></div></div></div><div class=\"sk-parallel\"><div class=\"sk-parallel-item\"><div class=\"sk-item\"><div class=\"sk-label-container\"><div class=\"sk-label sk-toggleable\"><input class=\"sk-toggleable__control sk-hidden--visually\" id=\"sk-estimator-id-2\" type=\"checkbox\" ><label for=\"sk-estimator-id-2\" class=\"sk-toggleable__label sk-toggleable__label-arrow\">cat_imputer</label><div class=\"sk-toggleable__content\"><pre>[&#x27;airline&#x27;, &#x27;departure&#x27;, &#x27;stops&#x27;, &#x27;flight&#x27;, &#x27;source&#x27;, &#x27;arrival&#x27;, &#x27;destination&#x27;, &#x27;class&#x27;]</pre></div></div></div><div class=\"sk-serial\"><div class=\"sk-item\"><div class=\"sk-estimator sk-toggleable\"><input class=\"sk-toggleable__control sk-hidden--visually\" id=\"sk-estimator-id-3\" type=\"checkbox\" ><label for=\"sk-estimator-id-3\" class=\"sk-toggleable__label sk-toggleable__label-arrow\">SimpleImputer</label><div class=\"sk-toggleable__content\"><pre>SimpleImputer(strategy=&#x27;most_frequent&#x27;)</pre></div></div></div></div></div></div><div class=\"sk-parallel-item\"><div class=\"sk-item\"><div class=\"sk-label-container\"><div class=\"sk-label sk-toggleable\"><input class=\"sk-toggleable__control sk-hidden--visually\" id=\"sk-estimator-id-4\" type=\"checkbox\" ><label for=\"sk-estimator-id-4\" class=\"sk-toggleable__label sk-toggleable__label-arrow\">num_imputer</label><div class=\"sk-toggleable__content\"><pre>[&#x27;duration&#x27;, &#x27;days_left&#x27;]</pre></div></div></div><div class=\"sk-serial\"><div class=\"sk-item\"><div class=\"sk-estimator sk-toggleable\"><input class=\"sk-toggleable__control sk-hidden--visually\" id=\"sk-estimator-id-5\" type=\"checkbox\" ><label for=\"sk-estimator-id-5\" class=\"sk-toggleable__label sk-toggleable__label-arrow\">SimpleImputer</label><div class=\"sk-toggleable__content\"><pre>SimpleImputer(strategy=&#x27;median&#x27;)</pre></div></div></div></div></div></div><div class=\"sk-parallel-item\"><div class=\"sk-item\"><div class=\"sk-label-container\"><div class=\"sk-label sk-toggleable\"><input class=\"sk-toggleable__control sk-hidden--visually\" id=\"sk-estimator-id-6\" type=\"checkbox\" ><label for=\"sk-estimator-id-6\" class=\"sk-toggleable__label sk-toggleable__label-arrow\">remainder</label><div class=\"sk-toggleable__content\"><pre>[]</pre></div></div></div><div class=\"sk-serial\"><div class=\"sk-item\"><div class=\"sk-estimator sk-toggleable\"><input class=\"sk-toggleable__control sk-hidden--visually\" id=\"sk-estimator-id-7\" type=\"checkbox\" ><label for=\"sk-estimator-id-7\" class=\"sk-toggleable__label sk-toggleable__label-arrow\">passthrough</label><div class=\"sk-toggleable__content\"><pre>passthrough</pre></div></div></div></div></div></div></div></div></div></div>"
      ],
      "text/plain": [
       "ColumnTransformer(remainder='passthrough',\n",
       "                  transformers=[('cat_imputer',\n",
       "                                 SimpleImputer(strategy='most_frequent'),\n",
       "                                 ['airline', 'departure', 'stops', 'flight',\n",
       "                                  'source', 'arrival', 'destination',\n",
       "                                  'class']),\n",
       "                                ('num_imputer',\n",
       "                                 SimpleImputer(strategy='median'),\n",
       "                                 ['duration', 'days_left'])])"
      ]
     },
     "execution_count": 22,
     "metadata": {},
     "output_type": "execute_result"
    }
   ],
   "source": [
    "transformer = ColumnTransformer([\n",
    "    ('cat_imputer',SimpleImputer(strategy='most_frequent'),cat_col),\n",
    "    ('num_imputer',SimpleImputer(strategy='median'),num_col)], remainder = 'passthrough'\n",
    ")\n",
    "transformer.fit(X)"
   ]
  },
  {
   "cell_type": "code",
   "execution_count": 23,
   "id": "b7eb879f",
   "metadata": {
    "execution": {
     "iopub.execute_input": "2025-06-30T06:21:30.871824Z",
     "iopub.status.busy": "2025-06-30T06:21:30.871509Z",
     "iopub.status.idle": "2025-06-30T06:21:30.916207Z",
     "shell.execute_reply": "2025-06-30T06:21:30.915207Z"
    },
    "papermill": {
     "duration": 0.073546,
     "end_time": "2025-06-30T06:21:30.917930",
     "exception": false,
     "start_time": "2025-06-30T06:21:30.844384",
     "status": "completed"
    },
    "tags": []
   },
   "outputs": [],
   "source": [
    "X_imputed = transformer.transform(X)\n",
    "test_imputed = transformer.transform(test)"
   ]
  },
  {
   "cell_type": "code",
   "execution_count": 24,
   "id": "0410a3ce",
   "metadata": {
    "execution": {
     "iopub.execute_input": "2025-06-30T06:21:30.972850Z",
     "iopub.status.busy": "2025-06-30T06:21:30.972538Z",
     "iopub.status.idle": "2025-06-30T06:21:30.977929Z",
     "shell.execute_reply": "2025-06-30T06:21:30.977160Z"
    },
    "papermill": {
     "duration": 0.035276,
     "end_time": "2025-06-30T06:21:30.979255",
     "exception": false,
     "start_time": "2025-06-30T06:21:30.943979",
     "status": "completed"
    },
    "tags": []
   },
   "outputs": [
    {
     "data": {
      "text/plain": [
       "array(['Vistara', 'Early_Morning', 'one', 'UK-930', 'Mumbai', 'Night',\n",
       "       'Chennai', 'Business', 11.08, 40.0], dtype=object)"
      ]
     },
     "execution_count": 24,
     "metadata": {},
     "output_type": "execute_result"
    }
   ],
   "source": [
    "X_imputed[0]"
   ]
  },
  {
   "cell_type": "code",
   "execution_count": 25,
   "id": "3cee3cbf",
   "metadata": {
    "execution": {
     "iopub.execute_input": "2025-06-30T06:21:31.033335Z",
     "iopub.status.busy": "2025-06-30T06:21:31.033023Z",
     "iopub.status.idle": "2025-06-30T06:21:31.039068Z",
     "shell.execute_reply": "2025-06-30T06:21:31.038088Z"
    },
    "papermill": {
     "duration": 0.035366,
     "end_time": "2025-06-30T06:21:31.040979",
     "exception": false,
     "start_time": "2025-06-30T06:21:31.005613",
     "status": "completed"
    },
    "tags": []
   },
   "outputs": [
    {
     "data": {
      "text/plain": [
       "array(['Vistara', 'Morning', 'zero', 'UK-816', 'Bangalore', 'Afternoon',\n",
       "       'Delhi', 'Economy', 2.67, 18.0], dtype=object)"
      ]
     },
     "execution_count": 25,
     "metadata": {},
     "output_type": "execute_result"
    }
   ],
   "source": [
    "test_imputed[0]"
   ]
  },
  {
   "cell_type": "code",
   "execution_count": 26,
   "id": "5cd1118b",
   "metadata": {
    "execution": {
     "iopub.execute_input": "2025-06-30T06:21:31.096309Z",
     "iopub.status.busy": "2025-06-30T06:21:31.095957Z",
     "iopub.status.idle": "2025-06-30T06:21:31.111005Z",
     "shell.execute_reply": "2025-06-30T06:21:31.109840Z"
    },
    "papermill": {
     "duration": 0.044752,
     "end_time": "2025-06-30T06:21:31.112790",
     "exception": false,
     "start_time": "2025-06-30T06:21:31.068038",
     "status": "completed"
    },
    "tags": []
   },
   "outputs": [
    {
     "data": {
      "text/html": [
       "<div>\n",
       "<style scoped>\n",
       "    .dataframe tbody tr th:only-of-type {\n",
       "        vertical-align: middle;\n",
       "    }\n",
       "\n",
       "    .dataframe tbody tr th {\n",
       "        vertical-align: top;\n",
       "    }\n",
       "\n",
       "    .dataframe thead th {\n",
       "        text-align: right;\n",
       "    }\n",
       "</style>\n",
       "<table border=\"1\" class=\"dataframe\">\n",
       "  <thead>\n",
       "    <tr style=\"text-align: right;\">\n",
       "      <th></th>\n",
       "      <th>airline</th>\n",
       "      <th>departure</th>\n",
       "      <th>stops</th>\n",
       "      <th>flight</th>\n",
       "      <th>source</th>\n",
       "      <th>arrival</th>\n",
       "      <th>destination</th>\n",
       "      <th>class</th>\n",
       "      <th>duration</th>\n",
       "      <th>days_left</th>\n",
       "    </tr>\n",
       "  </thead>\n",
       "  <tbody>\n",
       "    <tr>\n",
       "      <th>0</th>\n",
       "      <td>Vistara</td>\n",
       "      <td>Early_Morning</td>\n",
       "      <td>one</td>\n",
       "      <td>UK-930</td>\n",
       "      <td>Mumbai</td>\n",
       "      <td>Night</td>\n",
       "      <td>Chennai</td>\n",
       "      <td>Business</td>\n",
       "      <td>11.08</td>\n",
       "      <td>40.0</td>\n",
       "    </tr>\n",
       "    <tr>\n",
       "      <th>1</th>\n",
       "      <td>Air_India</td>\n",
       "      <td>Evening</td>\n",
       "      <td>one</td>\n",
       "      <td>AI-539</td>\n",
       "      <td>Chennai</td>\n",
       "      <td>Morning</td>\n",
       "      <td>Mumbai</td>\n",
       "      <td>Economy</td>\n",
       "      <td>16.08</td>\n",
       "      <td>26.0</td>\n",
       "    </tr>\n",
       "    <tr>\n",
       "      <th>2</th>\n",
       "      <td>SpiceJet</td>\n",
       "      <td>Early_Morning</td>\n",
       "      <td>zero</td>\n",
       "      <td>SG-8107</td>\n",
       "      <td>Delhi</td>\n",
       "      <td>Morning</td>\n",
       "      <td>Chennai</td>\n",
       "      <td>Economy</td>\n",
       "      <td>2.92</td>\n",
       "      <td>25.0</td>\n",
       "    </tr>\n",
       "    <tr>\n",
       "      <th>3</th>\n",
       "      <td>Vistara</td>\n",
       "      <td>Early_Morning</td>\n",
       "      <td>zero</td>\n",
       "      <td>0.00E+00</td>\n",
       "      <td>Hyderabad</td>\n",
       "      <td>Morning</td>\n",
       "      <td>Bangalore</td>\n",
       "      <td>Economy</td>\n",
       "      <td>1.5</td>\n",
       "      <td>22.0</td>\n",
       "    </tr>\n",
       "    <tr>\n",
       "      <th>4</th>\n",
       "      <td>Air_India</td>\n",
       "      <td>Early_Morning</td>\n",
       "      <td>one</td>\n",
       "      <td>AI-569</td>\n",
       "      <td>Chennai</td>\n",
       "      <td>Morning</td>\n",
       "      <td>Bangalore</td>\n",
       "      <td>Economy</td>\n",
       "      <td>4.83</td>\n",
       "      <td>20.0</td>\n",
       "    </tr>\n",
       "  </tbody>\n",
       "</table>\n",
       "</div>"
      ],
      "text/plain": [
       "     airline      departure stops    flight     source  arrival destination  \\\n",
       "0    Vistara  Early_Morning   one    UK-930     Mumbai    Night     Chennai   \n",
       "1  Air_India        Evening   one    AI-539    Chennai  Morning      Mumbai   \n",
       "2   SpiceJet  Early_Morning  zero   SG-8107      Delhi  Morning     Chennai   \n",
       "3    Vistara  Early_Morning  zero  0.00E+00  Hyderabad  Morning   Bangalore   \n",
       "4  Air_India  Early_Morning   one    AI-569    Chennai  Morning   Bangalore   \n",
       "\n",
       "      class duration days_left  \n",
       "0  Business    11.08      40.0  \n",
       "1   Economy    16.08      26.0  \n",
       "2   Economy     2.92      25.0  \n",
       "3   Economy      1.5      22.0  \n",
       "4   Economy     4.83      20.0  "
      ]
     },
     "execution_count": 26,
     "metadata": {},
     "output_type": "execute_result"
    }
   ],
   "source": [
    "X_imputed = pd.DataFrame(X_imputed,columns=[\"airline\", \"departure\", \"stops\", \"flight\", \"source\", \"arrival\", \"destination\", \"class\",\"duration\", \"days_left\"])\n",
    "X_imputed.head()"
   ]
  },
  {
   "cell_type": "code",
   "execution_count": 27,
   "id": "61a73da1",
   "metadata": {
    "execution": {
     "iopub.execute_input": "2025-06-30T06:21:31.167462Z",
     "iopub.status.busy": "2025-06-30T06:21:31.166963Z",
     "iopub.status.idle": "2025-06-30T06:21:31.181618Z",
     "shell.execute_reply": "2025-06-30T06:21:31.180675Z"
    },
    "papermill": {
     "duration": 0.044493,
     "end_time": "2025-06-30T06:21:31.183276",
     "exception": false,
     "start_time": "2025-06-30T06:21:31.138783",
     "status": "completed"
    },
    "tags": []
   },
   "outputs": [
    {
     "data": {
      "text/html": [
       "<div>\n",
       "<style scoped>\n",
       "    .dataframe tbody tr th:only-of-type {\n",
       "        vertical-align: middle;\n",
       "    }\n",
       "\n",
       "    .dataframe tbody tr th {\n",
       "        vertical-align: top;\n",
       "    }\n",
       "\n",
       "    .dataframe thead th {\n",
       "        text-align: right;\n",
       "    }\n",
       "</style>\n",
       "<table border=\"1\" class=\"dataframe\">\n",
       "  <thead>\n",
       "    <tr style=\"text-align: right;\">\n",
       "      <th></th>\n",
       "      <th>airline</th>\n",
       "      <th>departure</th>\n",
       "      <th>stops</th>\n",
       "      <th>flight</th>\n",
       "      <th>source</th>\n",
       "      <th>arrival</th>\n",
       "      <th>destination</th>\n",
       "      <th>class</th>\n",
       "      <th>duration</th>\n",
       "      <th>days_left</th>\n",
       "    </tr>\n",
       "  </thead>\n",
       "  <tbody>\n",
       "    <tr>\n",
       "      <th>0</th>\n",
       "      <td>Vistara</td>\n",
       "      <td>Morning</td>\n",
       "      <td>zero</td>\n",
       "      <td>UK-816</td>\n",
       "      <td>Bangalore</td>\n",
       "      <td>Afternoon</td>\n",
       "      <td>Delhi</td>\n",
       "      <td>Economy</td>\n",
       "      <td>2.67</td>\n",
       "      <td>18.0</td>\n",
       "    </tr>\n",
       "    <tr>\n",
       "      <th>1</th>\n",
       "      <td>Air_India</td>\n",
       "      <td>Early_Morning</td>\n",
       "      <td>zero</td>\n",
       "      <td>AI-440</td>\n",
       "      <td>Chennai</td>\n",
       "      <td>Morning</td>\n",
       "      <td>Delhi</td>\n",
       "      <td>Economy</td>\n",
       "      <td>11.08</td>\n",
       "      <td>5.0</td>\n",
       "    </tr>\n",
       "    <tr>\n",
       "      <th>2</th>\n",
       "      <td>SpiceJet</td>\n",
       "      <td>Evening</td>\n",
       "      <td>one</td>\n",
       "      <td>SG-8938</td>\n",
       "      <td>Delhi</td>\n",
       "      <td>Evening</td>\n",
       "      <td>Bangalore</td>\n",
       "      <td>Economy</td>\n",
       "      <td>11.08</td>\n",
       "      <td>44.0</td>\n",
       "    </tr>\n",
       "    <tr>\n",
       "      <th>3</th>\n",
       "      <td>Vistara</td>\n",
       "      <td>Night</td>\n",
       "      <td>one</td>\n",
       "      <td>UK-838</td>\n",
       "      <td>Chennai</td>\n",
       "      <td>Evening</td>\n",
       "      <td>Kolkata</td>\n",
       "      <td>Business</td>\n",
       "      <td>21.0</td>\n",
       "      <td>26.0</td>\n",
       "    </tr>\n",
       "    <tr>\n",
       "      <th>4</th>\n",
       "      <td>Air_India</td>\n",
       "      <td>Morning</td>\n",
       "      <td>one</td>\n",
       "      <td>AI-429</td>\n",
       "      <td>Delhi</td>\n",
       "      <td>Evening</td>\n",
       "      <td>Mumbai</td>\n",
       "      <td>Business</td>\n",
       "      <td>7.25</td>\n",
       "      <td>22.0</td>\n",
       "    </tr>\n",
       "  </tbody>\n",
       "</table>\n",
       "</div>"
      ],
      "text/plain": [
       "     airline      departure stops   flight     source    arrival destination  \\\n",
       "0    Vistara        Morning  zero   UK-816  Bangalore  Afternoon       Delhi   \n",
       "1  Air_India  Early_Morning  zero   AI-440    Chennai    Morning       Delhi   \n",
       "2   SpiceJet        Evening   one  SG-8938      Delhi    Evening   Bangalore   \n",
       "3    Vistara          Night   one   UK-838    Chennai    Evening     Kolkata   \n",
       "4  Air_India        Morning   one   AI-429      Delhi    Evening      Mumbai   \n",
       "\n",
       "      class duration days_left  \n",
       "0   Economy     2.67      18.0  \n",
       "1   Economy    11.08       5.0  \n",
       "2   Economy    11.08      44.0  \n",
       "3  Business     21.0      26.0  \n",
       "4  Business     7.25      22.0  "
      ]
     },
     "execution_count": 27,
     "metadata": {},
     "output_type": "execute_result"
    }
   ],
   "source": [
    "test_imputed = pd.DataFrame(test_imputed,columns=[\"airline\", \"departure\", \"stops\", \"flight\", \"source\", \"arrival\", \"destination\", \"class\",\"duration\", \"days_left\"])\n",
    "test_imputed.head()"
   ]
  },
  {
   "cell_type": "code",
   "execution_count": 28,
   "id": "da30c142",
   "metadata": {
    "execution": {
     "iopub.execute_input": "2025-06-30T06:21:31.240736Z",
     "iopub.status.busy": "2025-06-30T06:21:31.240460Z",
     "iopub.status.idle": "2025-06-30T06:21:31.248377Z",
     "shell.execute_reply": "2025-06-30T06:21:31.247295Z"
    },
    "papermill": {
     "duration": 0.038684,
     "end_time": "2025-06-30T06:21:31.250235",
     "exception": false,
     "start_time": "2025-06-30T06:21:31.211551",
     "status": "completed"
    },
    "tags": []
   },
   "outputs": [],
   "source": [
    "X_imputed = pd.concat([X_imputed,y.rename('price')],axis=1)"
   ]
  },
  {
   "cell_type": "code",
   "execution_count": 29,
   "id": "1028fa4b",
   "metadata": {
    "execution": {
     "iopub.execute_input": "2025-06-30T06:21:31.305947Z",
     "iopub.status.busy": "2025-06-30T06:21:31.305591Z",
     "iopub.status.idle": "2025-06-30T06:21:31.322100Z",
     "shell.execute_reply": "2025-06-30T06:21:31.321198Z"
    },
    "papermill": {
     "duration": 0.046844,
     "end_time": "2025-06-30T06:21:31.323581",
     "exception": false,
     "start_time": "2025-06-30T06:21:31.276737",
     "status": "completed"
    },
    "tags": []
   },
   "outputs": [],
   "source": [
    "X_imputed['duration'] = pd.to_numeric(X_imputed['duration'], errors='coerce')\n",
    "X_imputed['days_left'] = pd.to_numeric(X_imputed['days_left'], errors='coerce')\n",
    "test_imputed['duration'] = pd.to_numeric(test_imputed['duration'], errors='coerce')\n",
    "test_imputed['days_left'] = pd.to_numeric(test_imputed['days_left'], errors='coerce')"
   ]
  },
  {
   "cell_type": "code",
   "execution_count": 30,
   "id": "3ccfae7b",
   "metadata": {
    "execution": {
     "iopub.execute_input": "2025-06-30T06:21:31.381057Z",
     "iopub.status.busy": "2025-06-30T06:21:31.379737Z",
     "iopub.status.idle": "2025-06-30T06:21:31.388085Z",
     "shell.execute_reply": "2025-06-30T06:21:31.387030Z"
    },
    "papermill": {
     "duration": 0.038238,
     "end_time": "2025-06-30T06:21:31.389669",
     "exception": false,
     "start_time": "2025-06-30T06:21:31.351431",
     "status": "completed"
    },
    "tags": []
   },
   "outputs": [
    {
     "data": {
      "text/plain": [
       "airline         object\n",
       "departure       object\n",
       "stops           object\n",
       "flight          object\n",
       "source          object\n",
       "arrival         object\n",
       "destination     object\n",
       "class           object\n",
       "duration       float64\n",
       "days_left      float64\n",
       "price            int64\n",
       "dtype: object"
      ]
     },
     "execution_count": 30,
     "metadata": {},
     "output_type": "execute_result"
    }
   ],
   "source": [
    "X_imputed.dtypes"
   ]
  },
  {
   "cell_type": "code",
   "execution_count": 31,
   "id": "3e73e571",
   "metadata": {
    "execution": {
     "iopub.execute_input": "2025-06-30T06:21:31.447753Z",
     "iopub.status.busy": "2025-06-30T06:21:31.447443Z",
     "iopub.status.idle": "2025-06-30T06:21:31.454858Z",
     "shell.execute_reply": "2025-06-30T06:21:31.453929Z"
    },
    "papermill": {
     "duration": 0.037428,
     "end_time": "2025-06-30T06:21:31.456352",
     "exception": false,
     "start_time": "2025-06-30T06:21:31.418924",
     "status": "completed"
    },
    "tags": []
   },
   "outputs": [
    {
     "data": {
      "text/plain": [
       "airline         object\n",
       "departure       object\n",
       "stops           object\n",
       "flight          object\n",
       "source          object\n",
       "arrival         object\n",
       "destination     object\n",
       "class           object\n",
       "duration       float64\n",
       "days_left      float64\n",
       "dtype: object"
      ]
     },
     "execution_count": 31,
     "metadata": {},
     "output_type": "execute_result"
    }
   ],
   "source": [
    "test_imputed.dtypes"
   ]
  },
  {
   "cell_type": "code",
   "execution_count": 32,
   "id": "a7b5809d",
   "metadata": {
    "execution": {
     "iopub.execute_input": "2025-06-30T06:21:31.515010Z",
     "iopub.status.busy": "2025-06-30T06:21:31.514632Z",
     "iopub.status.idle": "2025-06-30T06:21:31.541143Z",
     "shell.execute_reply": "2025-06-30T06:21:31.540137Z"
    },
    "papermill": {
     "duration": 0.057874,
     "end_time": "2025-06-30T06:21:31.542755",
     "exception": false,
     "start_time": "2025-06-30T06:21:31.484881",
     "status": "completed"
    },
    "tags": []
   },
   "outputs": [
    {
     "data": {
      "text/plain": [
       "airline        0\n",
       "departure      0\n",
       "stops          0\n",
       "flight         0\n",
       "source         0\n",
       "arrival        0\n",
       "destination    0\n",
       "class          0\n",
       "duration       0\n",
       "days_left      0\n",
       "price          0\n",
       "dtype: int64"
      ]
     },
     "execution_count": 32,
     "metadata": {},
     "output_type": "execute_result"
    }
   ],
   "source": [
    "X_imputed.isnull().sum()"
   ]
  },
  {
   "cell_type": "code",
   "execution_count": 33,
   "id": "574b91ef",
   "metadata": {
    "execution": {
     "iopub.execute_input": "2025-06-30T06:21:31.600010Z",
     "iopub.status.busy": "2025-06-30T06:21:31.599627Z",
     "iopub.status.idle": "2025-06-30T06:21:31.613401Z",
     "shell.execute_reply": "2025-06-30T06:21:31.612438Z"
    },
    "papermill": {
     "duration": 0.044629,
     "end_time": "2025-06-30T06:21:31.614983",
     "exception": false,
     "start_time": "2025-06-30T06:21:31.570354",
     "status": "completed"
    },
    "tags": []
   },
   "outputs": [
    {
     "data": {
      "text/plain": [
       "airline        0\n",
       "departure      0\n",
       "stops          0\n",
       "flight         0\n",
       "source         0\n",
       "arrival        0\n",
       "destination    0\n",
       "class          0\n",
       "duration       0\n",
       "days_left      0\n",
       "dtype: int64"
      ]
     },
     "execution_count": 33,
     "metadata": {},
     "output_type": "execute_result"
    }
   ],
   "source": [
    "test_imputed.isnull().sum()"
   ]
  },
  {
   "cell_type": "markdown",
   "id": "d609ff1b",
   "metadata": {
    "papermill": {
     "duration": 0.025901,
     "end_time": "2025-06-30T06:21:31.668564",
     "exception": false,
     "start_time": "2025-06-30T06:21:31.642663",
     "status": "completed"
    },
    "tags": []
   },
   "source": [
    "## 4. Identify and handle duplicates"
   ]
  },
  {
   "cell_type": "code",
   "execution_count": 34,
   "id": "ceb4acd9",
   "metadata": {
    "execution": {
     "iopub.execute_input": "2025-06-30T06:21:31.724461Z",
     "iopub.status.busy": "2025-06-30T06:21:31.724185Z",
     "iopub.status.idle": "2025-06-30T06:21:31.765219Z",
     "shell.execute_reply": "2025-06-30T06:21:31.764268Z"
    },
    "papermill": {
     "duration": 0.072119,
     "end_time": "2025-06-30T06:21:31.767121",
     "exception": false,
     "start_time": "2025-06-30T06:21:31.695002",
     "status": "completed"
    },
    "tags": []
   },
   "outputs": [
    {
     "data": {
      "text/html": [
       "<div>\n",
       "<style scoped>\n",
       "    .dataframe tbody tr th:only-of-type {\n",
       "        vertical-align: middle;\n",
       "    }\n",
       "\n",
       "    .dataframe tbody tr th {\n",
       "        vertical-align: top;\n",
       "    }\n",
       "\n",
       "    .dataframe thead th {\n",
       "        text-align: right;\n",
       "    }\n",
       "</style>\n",
       "<table border=\"1\" class=\"dataframe\">\n",
       "  <thead>\n",
       "    <tr style=\"text-align: right;\">\n",
       "      <th></th>\n",
       "      <th>airline</th>\n",
       "      <th>departure</th>\n",
       "      <th>stops</th>\n",
       "      <th>flight</th>\n",
       "      <th>source</th>\n",
       "      <th>arrival</th>\n",
       "      <th>destination</th>\n",
       "      <th>class</th>\n",
       "      <th>duration</th>\n",
       "      <th>days_left</th>\n",
       "      <th>price</th>\n",
       "    </tr>\n",
       "  </thead>\n",
       "  <tbody>\n",
       "    <tr>\n",
       "      <th>1107</th>\n",
       "      <td>Indigo</td>\n",
       "      <td>Morning</td>\n",
       "      <td>zero</td>\n",
       "      <td>0.00E+00</td>\n",
       "      <td>Mumbai</td>\n",
       "      <td>Morning</td>\n",
       "      <td>Delhi</td>\n",
       "      <td>Economy</td>\n",
       "      <td>2.17</td>\n",
       "      <td>26.0</td>\n",
       "      <td>2339</td>\n",
       "    </tr>\n",
       "    <tr>\n",
       "      <th>1405</th>\n",
       "      <td>GO_FIRST</td>\n",
       "      <td>Evening</td>\n",
       "      <td>one</td>\n",
       "      <td>G8-2513</td>\n",
       "      <td>Delhi</td>\n",
       "      <td>Early_Morning</td>\n",
       "      <td>Kolkata</td>\n",
       "      <td>Economy</td>\n",
       "      <td>15.00</td>\n",
       "      <td>26.0</td>\n",
       "      <td>5954</td>\n",
       "    </tr>\n",
       "    <tr>\n",
       "      <th>1446</th>\n",
       "      <td>SpiceJet</td>\n",
       "      <td>Evening</td>\n",
       "      <td>zero</td>\n",
       "      <td>SG-8169</td>\n",
       "      <td>Delhi</td>\n",
       "      <td>Night</td>\n",
       "      <td>Mumbai</td>\n",
       "      <td>Economy</td>\n",
       "      <td>2.33</td>\n",
       "      <td>26.0</td>\n",
       "      <td>2621</td>\n",
       "    </tr>\n",
       "    <tr>\n",
       "      <th>1888</th>\n",
       "      <td>Air_India</td>\n",
       "      <td>Evening</td>\n",
       "      <td>one</td>\n",
       "      <td>AI-467</td>\n",
       "      <td>Delhi</td>\n",
       "      <td>Night</td>\n",
       "      <td>Hyderabad</td>\n",
       "      <td>Economy</td>\n",
       "      <td>27.08</td>\n",
       "      <td>26.0</td>\n",
       "      <td>5232</td>\n",
       "    </tr>\n",
       "    <tr>\n",
       "      <th>2210</th>\n",
       "      <td>Vistara</td>\n",
       "      <td>Evening</td>\n",
       "      <td>one</td>\n",
       "      <td>UK-854</td>\n",
       "      <td>Bangalore</td>\n",
       "      <td>Late_Night</td>\n",
       "      <td>Delhi</td>\n",
       "      <td>Economy</td>\n",
       "      <td>5.75</td>\n",
       "      <td>26.0</td>\n",
       "      <td>4111</td>\n",
       "    </tr>\n",
       "    <tr>\n",
       "      <th>...</th>\n",
       "      <td>...</td>\n",
       "      <td>...</td>\n",
       "      <td>...</td>\n",
       "      <td>...</td>\n",
       "      <td>...</td>\n",
       "      <td>...</td>\n",
       "      <td>...</td>\n",
       "      <td>...</td>\n",
       "      <td>...</td>\n",
       "      <td>...</td>\n",
       "      <td>...</td>\n",
       "    </tr>\n",
       "    <tr>\n",
       "      <th>39883</th>\n",
       "      <td>Vistara</td>\n",
       "      <td>Evening</td>\n",
       "      <td>one</td>\n",
       "      <td>UK-864</td>\n",
       "      <td>Bangalore</td>\n",
       "      <td>Late_Night</td>\n",
       "      <td>Delhi</td>\n",
       "      <td>Economy</td>\n",
       "      <td>5.17</td>\n",
       "      <td>26.0</td>\n",
       "      <td>4111</td>\n",
       "    </tr>\n",
       "    <tr>\n",
       "      <th>39908</th>\n",
       "      <td>Vistara</td>\n",
       "      <td>Evening</td>\n",
       "      <td>one</td>\n",
       "      <td>UK-894</td>\n",
       "      <td>Hyderabad</td>\n",
       "      <td>Morning</td>\n",
       "      <td>Mumbai</td>\n",
       "      <td>Economy</td>\n",
       "      <td>16.92</td>\n",
       "      <td>26.0</td>\n",
       "      <td>3776</td>\n",
       "    </tr>\n",
       "    <tr>\n",
       "      <th>39918</th>\n",
       "      <td>Vistara</td>\n",
       "      <td>Morning</td>\n",
       "      <td>one</td>\n",
       "      <td>UK-970</td>\n",
       "      <td>Mumbai</td>\n",
       "      <td>Evening</td>\n",
       "      <td>Bangalore</td>\n",
       "      <td>Business</td>\n",
       "      <td>10.08</td>\n",
       "      <td>26.0</td>\n",
       "      <td>95309</td>\n",
       "    </tr>\n",
       "    <tr>\n",
       "      <th>39962</th>\n",
       "      <td>Air_India</td>\n",
       "      <td>Early_Morning</td>\n",
       "      <td>one</td>\n",
       "      <td>AI-665</td>\n",
       "      <td>Delhi</td>\n",
       "      <td>Night</td>\n",
       "      <td>Kolkata</td>\n",
       "      <td>Business</td>\n",
       "      <td>15.67</td>\n",
       "      <td>26.0</td>\n",
       "      <td>53209</td>\n",
       "    </tr>\n",
       "    <tr>\n",
       "      <th>39997</th>\n",
       "      <td>Vistara</td>\n",
       "      <td>Morning</td>\n",
       "      <td>one</td>\n",
       "      <td>UK-874</td>\n",
       "      <td>Hyderabad</td>\n",
       "      <td>Night</td>\n",
       "      <td>Bangalore</td>\n",
       "      <td>Economy</td>\n",
       "      <td>14.33</td>\n",
       "      <td>26.0</td>\n",
       "      <td>8062</td>\n",
       "    </tr>\n",
       "  </tbody>\n",
       "</table>\n",
       "<p>857 rows × 11 columns</p>\n",
       "</div>"
      ],
      "text/plain": [
       "         airline      departure stops    flight     source        arrival  \\\n",
       "1107      Indigo        Morning  zero  0.00E+00     Mumbai        Morning   \n",
       "1405    GO_FIRST        Evening   one   G8-2513      Delhi  Early_Morning   \n",
       "1446    SpiceJet        Evening  zero   SG-8169      Delhi          Night   \n",
       "1888   Air_India        Evening   one    AI-467      Delhi          Night   \n",
       "2210     Vistara        Evening   one    UK-854  Bangalore     Late_Night   \n",
       "...          ...            ...   ...       ...        ...            ...   \n",
       "39883    Vistara        Evening   one    UK-864  Bangalore     Late_Night   \n",
       "39908    Vistara        Evening   one    UK-894  Hyderabad        Morning   \n",
       "39918    Vistara        Morning   one    UK-970     Mumbai        Evening   \n",
       "39962  Air_India  Early_Morning   one    AI-665      Delhi          Night   \n",
       "39997    Vistara        Morning   one    UK-874  Hyderabad          Night   \n",
       "\n",
       "      destination     class  duration  days_left  price  \n",
       "1107        Delhi   Economy      2.17       26.0   2339  \n",
       "1405      Kolkata   Economy     15.00       26.0   5954  \n",
       "1446       Mumbai   Economy      2.33       26.0   2621  \n",
       "1888    Hyderabad   Economy     27.08       26.0   5232  \n",
       "2210        Delhi   Economy      5.75       26.0   4111  \n",
       "...           ...       ...       ...        ...    ...  \n",
       "39883       Delhi   Economy      5.17       26.0   4111  \n",
       "39908      Mumbai   Economy     16.92       26.0   3776  \n",
       "39918   Bangalore  Business     10.08       26.0  95309  \n",
       "39962     Kolkata  Business     15.67       26.0  53209  \n",
       "39997   Bangalore   Economy     14.33       26.0   8062  \n",
       "\n",
       "[857 rows x 11 columns]"
      ]
     },
     "execution_count": 34,
     "metadata": {},
     "output_type": "execute_result"
    }
   ],
   "source": [
    "X_imputed[X_imputed.duplicated(subset=X.columns)]"
   ]
  },
  {
   "cell_type": "markdown",
   "id": "12c530d8",
   "metadata": {
    "papermill": {
     "duration": 0.027351,
     "end_time": "2025-06-30T06:21:31.821416",
     "exception": false,
     "start_time": "2025-06-30T06:21:31.794065",
     "status": "completed"
    },
    "tags": []
   },
   "source": [
    "there are 857 duplicate rows."
   ]
  },
  {
   "cell_type": "code",
   "execution_count": 35,
   "id": "545289d1",
   "metadata": {
    "execution": {
     "iopub.execute_input": "2025-06-30T06:21:31.877654Z",
     "iopub.status.busy": "2025-06-30T06:21:31.877322Z",
     "iopub.status.idle": "2025-06-30T06:21:31.937187Z",
     "shell.execute_reply": "2025-06-30T06:21:31.936180Z"
    },
    "papermill": {
     "duration": 0.089412,
     "end_time": "2025-06-30T06:21:31.938936",
     "exception": false,
     "start_time": "2025-06-30T06:21:31.849524",
     "status": "completed"
    },
    "tags": []
   },
   "outputs": [
    {
     "data": {
      "text/html": [
       "<div>\n",
       "<style scoped>\n",
       "    .dataframe tbody tr th:only-of-type {\n",
       "        vertical-align: middle;\n",
       "    }\n",
       "\n",
       "    .dataframe tbody tr th {\n",
       "        vertical-align: top;\n",
       "    }\n",
       "\n",
       "    .dataframe thead th {\n",
       "        text-align: right;\n",
       "    }\n",
       "</style>\n",
       "<table border=\"1\" class=\"dataframe\">\n",
       "  <thead>\n",
       "    <tr style=\"text-align: right;\">\n",
       "      <th></th>\n",
       "      <th>airline</th>\n",
       "      <th>departure</th>\n",
       "      <th>stops</th>\n",
       "      <th>flight</th>\n",
       "      <th>source</th>\n",
       "      <th>arrival</th>\n",
       "      <th>destination</th>\n",
       "      <th>class</th>\n",
       "      <th>duration</th>\n",
       "      <th>days_left</th>\n",
       "      <th>price</th>\n",
       "    </tr>\n",
       "  </thead>\n",
       "  <tbody>\n",
       "  </tbody>\n",
       "</table>\n",
       "</div>"
      ],
      "text/plain": [
       "Empty DataFrame\n",
       "Columns: [airline, departure, stops, flight, source, arrival, destination, class, duration, days_left, price]\n",
       "Index: []"
      ]
     },
     "execution_count": 35,
     "metadata": {},
     "output_type": "execute_result"
    }
   ],
   "source": [
    "X_imputed = X_imputed.drop_duplicates(subset=X.columns)\n",
    "X_imputed[X_imputed.duplicated()]"
   ]
  },
  {
   "cell_type": "code",
   "execution_count": 36,
   "id": "34409ef1",
   "metadata": {
    "execution": {
     "iopub.execute_input": "2025-06-30T06:21:31.995422Z",
     "iopub.status.busy": "2025-06-30T06:21:31.995112Z",
     "iopub.status.idle": "2025-06-30T06:21:32.006141Z",
     "shell.execute_reply": "2025-06-30T06:21:32.005247Z"
    },
    "papermill": {
     "duration": 0.04149,
     "end_time": "2025-06-30T06:21:32.007734",
     "exception": false,
     "start_time": "2025-06-30T06:21:31.966244",
     "status": "completed"
    },
    "tags": []
   },
   "outputs": [
    {
     "data": {
      "text/plain": [
       "0        64173\n",
       "1         4357\n",
       "2         3251\n",
       "3         1776\n",
       "4         3584\n",
       "         ...  \n",
       "39994     7651\n",
       "39995     6450\n",
       "39996    64831\n",
       "39998    84557\n",
       "39999     5102\n",
       "Name: price, Length: 39143, dtype: int64"
      ]
     },
     "execution_count": 36,
     "metadata": {},
     "output_type": "execute_result"
    }
   ],
   "source": [
    "y = X_imputed['price']\n",
    "X_imputed = X_imputed.drop(columns=['price'])\n",
    "y"
   ]
  },
  {
   "cell_type": "code",
   "execution_count": 37,
   "id": "8c604700",
   "metadata": {
    "execution": {
     "iopub.execute_input": "2025-06-30T06:21:32.065282Z",
     "iopub.status.busy": "2025-06-30T06:21:32.064915Z",
     "iopub.status.idle": "2025-06-30T06:21:32.071128Z",
     "shell.execute_reply": "2025-06-30T06:21:32.070221Z"
    },
    "papermill": {
     "duration": 0.037004,
     "end_time": "2025-06-30T06:21:32.072883",
     "exception": false,
     "start_time": "2025-06-30T06:21:32.035879",
     "status": "completed"
    },
    "tags": []
   },
   "outputs": [
    {
     "data": {
      "text/plain": [
       "(Index(['airline', 'departure', 'stops', 'flight', 'source', 'arrival',\n",
       "        'destination', 'class', 'duration', 'days_left'],\n",
       "       dtype='object'),\n",
       " Index(['airline', 'departure', 'stops', 'flight', 'source', 'arrival',\n",
       "        'destination', 'class', 'duration', 'days_left'],\n",
       "       dtype='object'))"
      ]
     },
     "execution_count": 37,
     "metadata": {},
     "output_type": "execute_result"
    }
   ],
   "source": [
    "X_imputed.columns,test_imputed.columns"
   ]
  },
  {
   "cell_type": "markdown",
   "id": "e66cda7f",
   "metadata": {
    "papermill": {
     "duration": 0.028296,
     "end_time": "2025-06-30T06:21:32.129697",
     "exception": false,
     "start_time": "2025-06-30T06:21:32.101401",
     "status": "completed"
    },
    "tags": []
   },
   "source": [
    "## 5. Identify and handle outliers"
   ]
  },
  {
   "cell_type": "markdown",
   "id": "2c3891e6",
   "metadata": {
    "papermill": {
     "duration": 0.026945,
     "end_time": "2025-06-30T06:21:32.183523",
     "exception": false,
     "start_time": "2025-06-30T06:21:32.156578",
     "status": "completed"
    },
    "tags": []
   },
   "source": [
    "duration outlier detection"
   ]
  },
  {
   "cell_type": "code",
   "execution_count": 38,
   "id": "6e1a723d",
   "metadata": {
    "execution": {
     "iopub.execute_input": "2025-06-30T06:21:32.240768Z",
     "iopub.status.busy": "2025-06-30T06:21:32.240069Z",
     "iopub.status.idle": "2025-06-30T06:21:32.352083Z",
     "shell.execute_reply": "2025-06-30T06:21:32.351164Z"
    },
    "papermill": {
     "duration": 0.142195,
     "end_time": "2025-06-30T06:21:32.353520",
     "exception": false,
     "start_time": "2025-06-30T06:21:32.211325",
     "status": "completed"
    },
    "tags": []
   },
   "outputs": [
    {
     "data": {
      "image/png": "[encoded data removed]",
      "text/plain": [
       "<Figure size 640x480 with 1 Axes>"
      ]
     },
     "metadata": {},
     "output_type": "display_data"
    }
   ],
   "source": [
    "sns.boxplot(x=X_imputed[\"duration\"], color='lightcoral')\n",
    "plt.title(\"Box Plot of Flight Duration(train)\")\n",
    "plt.xlabel(\"Duration (hours)\")\n",
    "plt.grid(True)\n",
    "plt.show()"
   ]
  },
  {
   "cell_type": "code",
   "execution_count": 39,
   "id": "19258373",
   "metadata": {
    "execution": {
     "iopub.execute_input": "2025-06-30T06:21:32.411590Z",
     "iopub.status.busy": "2025-06-30T06:21:32.410782Z",
     "iopub.status.idle": "2025-06-30T06:21:32.538851Z",
     "shell.execute_reply": "2025-06-30T06:21:32.537850Z"
    },
    "papermill": {
     "duration": 0.158059,
     "end_time": "2025-06-30T06:21:32.540518",
     "exception": false,
     "start_time": "2025-06-30T06:21:32.382459",
     "status": "completed"
    },
    "tags": []
   },
   "outputs": [
    {
     "data": {
      "image/png": "[encoded data removed]",
      "text/plain": [
       "<Figure size 640x480 with 1 Axes>"
      ]
     },
     "metadata": {},
     "output_type": "display_data"
    }
   ],
   "source": [
    "sns.boxplot(x=test_imputed[\"duration\"], color='lightcoral')\n",
    "plt.title(\"Box Plot of Flight Duration(test)\")\n",
    "plt.xlabel(\"Duration (hours)\")\n",
    "plt.grid(True)\n",
    "plt.show()"
   ]
  },
  {
   "cell_type": "markdown",
   "id": "b6ae4cf5",
   "metadata": {
    "papermill": {
     "duration": 0.029413,
     "end_time": "2025-06-30T06:21:32.597800",
     "exception": false,
     "start_time": "2025-06-30T06:21:32.568387",
     "status": "completed"
    },
    "tags": []
   },
   "source": [
    "- the duration column has outliers in it.\n",
    "- target variable (price) is likely influenced by duration, but not always linearly.\n",
    "- Flights with very long durations may be:\n",
    "    - Multi-stop flights\n",
    "    - Data issues\n",
    "    - Irregular flight patterns (e.g., layovers)"
   ]
  },
  {
   "cell_type": "markdown",
   "id": "6097c83d",
   "metadata": {
    "papermill": {
     "duration": 0.027517,
     "end_time": "2025-06-30T06:21:32.653583",
     "exception": false,
     "start_time": "2025-06-30T06:21:32.626066",
     "status": "completed"
    },
    "tags": []
   },
   "source": [
    "- As the dropping of rows with extreme duration may result in lose of potential information related to price, the outliers can be handled using a method called capping.\n",
    "- this is done by replacing extreme values with reasonable thresholds.\n",
    "- here i am going to replace it with upper bound."
   ]
  },
  {
   "cell_type": "code",
   "execution_count": 40,
   "id": "6cbe1287",
   "metadata": {
    "execution": {
     "iopub.execute_input": "2025-06-30T06:21:32.711096Z",
     "iopub.status.busy": "2025-06-30T06:21:32.710655Z",
     "iopub.status.idle": "2025-06-30T06:21:32.715181Z",
     "shell.execute_reply": "2025-06-30T06:21:32.714222Z"
    },
    "papermill": {
     "duration": 0.035476,
     "end_time": "2025-06-30T06:21:32.716808",
     "exception": false,
     "start_time": "2025-06-30T06:21:32.681332",
     "status": "completed"
    },
    "tags": []
   },
   "outputs": [],
   "source": [
    "import numpy as np"
   ]
  },
  {
   "cell_type": "code",
   "execution_count": 41,
   "id": "fd9dfc3b",
   "metadata": {
    "execution": {
     "iopub.execute_input": "2025-06-30T06:21:32.775746Z",
     "iopub.status.busy": "2025-06-30T06:21:32.774949Z",
     "iopub.status.idle": "2025-06-30T06:21:32.784292Z",
     "shell.execute_reply": "2025-06-30T06:21:32.783336Z"
    },
    "papermill": {
     "duration": 0.040481,
     "end_time": "2025-06-30T06:21:32.785958",
     "exception": false,
     "start_time": "2025-06-30T06:21:32.745477",
     "status": "completed"
    },
    "tags": []
   },
   "outputs": [],
   "source": [
    "Q1 = X_imputed['duration'].quantile(0.25)\n",
    "Q3 = X_imputed['duration'].quantile(0.75)\n",
    "IQR = Q3-Q1\n",
    "\n",
    "upper_bound = Q3 + (1.5*IQR)"
   ]
  },
  {
   "cell_type": "code",
   "execution_count": 42,
   "id": "48dbb123",
   "metadata": {
    "execution": {
     "iopub.execute_input": "2025-06-30T06:21:32.846628Z",
     "iopub.status.busy": "2025-06-30T06:21:32.846288Z",
     "iopub.status.idle": "2025-06-30T06:21:32.852802Z",
     "shell.execute_reply": "2025-06-30T06:21:32.851868Z"
    },
    "papermill": {
     "duration": 0.039127,
     "end_time": "2025-06-30T06:21:32.854442",
     "exception": false,
     "start_time": "2025-06-30T06:21:32.815315",
     "status": "completed"
    },
    "tags": []
   },
   "outputs": [],
   "source": [
    "X_imputed['duration'] = np.where(X_imputed['duration']>upper_bound,upper_bound,X_imputed['duration'])"
   ]
  },
  {
   "cell_type": "code",
   "execution_count": 43,
   "id": "ad16619f",
   "metadata": {
    "execution": {
     "iopub.execute_input": "2025-06-30T06:21:32.916970Z",
     "iopub.status.busy": "2025-06-30T06:21:32.916615Z",
     "iopub.status.idle": "2025-06-30T06:21:32.921874Z",
     "shell.execute_reply": "2025-06-30T06:21:32.920853Z"
    },
    "papermill": {
     "duration": 0.040238,
     "end_time": "2025-06-30T06:21:32.923568",
     "exception": false,
     "start_time": "2025-06-30T06:21:32.883330",
     "status": "completed"
    },
    "tags": []
   },
   "outputs": [],
   "source": [
    "test_imputed['duration'] = np.where(test_imputed['duration']>upper_bound,upper_bound,test_imputed['duration'])"
   ]
  },
  {
   "cell_type": "code",
   "execution_count": 44,
   "id": "a0ec3ef4",
   "metadata": {
    "execution": {
     "iopub.execute_input": "2025-06-30T06:21:32.983043Z",
     "iopub.status.busy": "2025-06-30T06:21:32.982322Z",
     "iopub.status.idle": "2025-06-30T06:21:33.098738Z",
     "shell.execute_reply": "2025-06-30T06:21:33.097850Z"
    },
    "papermill": {
     "duration": 0.147858,
     "end_time": "2025-06-30T06:21:33.100284",
     "exception": false,
     "start_time": "2025-06-30T06:21:32.952426",
     "status": "completed"
    },
    "tags": []
   },
   "outputs": [
    {
     "data": {
      "image/png": "[encoded data removed]",
      "text/plain": [
       "<Figure size 640x480 with 1 Axes>"
      ]
     },
     "metadata": {},
     "output_type": "display_data"
    }
   ],
   "source": [
    "sns.boxplot(x=X_imputed[\"duration\"], color='lightcoral')\n",
    "plt.title(\"Box Plot of Flight Duration\")\n",
    "plt.xlabel(\"Duration (hours)\")\n",
    "plt.grid(True)\n",
    "plt.show()"
   ]
  },
  {
   "cell_type": "markdown",
   "id": "afa4425c",
   "metadata": {
    "papermill": {
     "duration": 0.028798,
     "end_time": "2025-06-30T06:21:33.157149",
     "exception": false,
     "start_time": "2025-06-30T06:21:33.128351",
     "status": "completed"
    },
    "tags": []
   },
   "source": [
    "The outliers are handled using capping method"
   ]
  },
  {
   "cell_type": "markdown",
   "id": "f4db5bd8",
   "metadata": {
    "papermill": {
     "duration": 0.027986,
     "end_time": "2025-06-30T06:21:33.213237",
     "exception": false,
     "start_time": "2025-06-30T06:21:33.185251",
     "status": "completed"
    },
    "tags": []
   },
   "source": [
    "days_left outlier detection"
   ]
  },
  {
   "cell_type": "code",
   "execution_count": 45,
   "id": "a415e341",
   "metadata": {
    "execution": {
     "iopub.execute_input": "2025-06-30T06:21:33.275025Z",
     "iopub.status.busy": "2025-06-30T06:21:33.274661Z",
     "iopub.status.idle": "2025-06-30T06:21:33.392612Z",
     "shell.execute_reply": "2025-06-30T06:21:33.391432Z"
    },
    "papermill": {
     "duration": 0.151184,
     "end_time": "2025-06-30T06:21:33.394486",
     "exception": false,
     "start_time": "2025-06-30T06:21:33.243302",
     "status": "completed"
    },
    "tags": []
   },
   "outputs": [
    {
     "data": {
      "image/png": "[encoded data removed]",
      "text/plain": [
       "<Figure size 640x480 with 1 Axes>"
      ]
     },
     "metadata": {},
     "output_type": "display_data"
    }
   ],
   "source": [
    "sns.boxplot(x=X_imputed[\"days_left\"], color='lightcoral')\n",
    "plt.title(\"Box Plot of days_left\")\n",
    "plt.xlabel(\"Days left\")\n",
    "plt.grid(True)\n",
    "plt.show()"
   ]
  },
  {
   "cell_type": "markdown",
   "id": "b5a4bc99",
   "metadata": {
    "papermill": {
     "duration": 0.028001,
     "end_time": "2025-06-30T06:21:33.452987",
     "exception": false,
     "start_time": "2025-06-30T06:21:33.424986",
     "status": "completed"
    },
    "tags": []
   },
   "source": [
    "no outliers in days_left column"
   ]
  },
  {
   "cell_type": "markdown",
   "id": "7ea67004",
   "metadata": {
    "papermill": {
     "duration": 0.027753,
     "end_time": "2025-06-30T06:21:33.508606",
     "exception": false,
     "start_time": "2025-06-30T06:21:33.480853",
     "status": "completed"
    },
    "tags": []
   },
   "source": [
    "Target column(price) outlier detection"
   ]
  },
  {
   "cell_type": "code",
   "execution_count": 46,
   "id": "8adfe05b",
   "metadata": {
    "execution": {
     "iopub.execute_input": "2025-06-30T06:21:33.566216Z",
     "iopub.status.busy": "2025-06-30T06:21:33.565862Z",
     "iopub.status.idle": "2025-06-30T06:21:33.879167Z",
     "shell.execute_reply": "2025-06-30T06:21:33.878265Z"
    },
    "papermill": {
     "duration": 0.343915,
     "end_time": "2025-06-30T06:21:33.880659",
     "exception": false,
     "start_time": "2025-06-30T06:21:33.536744",
     "status": "completed"
    },
    "tags": []
   },
   "outputs": [
    {
     "name": "stderr",
     "output_type": "stream",
     "text": [
      "/usr/local/lib/python3.11/dist-packages/seaborn/_oldcore.py:1119: FutureWarning: use_inf_as_na option is deprecated and will be removed in a future version. Convert inf values to NaN before operating instead.\n",
      "  with pd.option_context('mode.use_inf_as_na', True):\n"
     ]
    },
    {
     "data": {
      "image/png": "[encoded data removed]",
      "text/plain": [
       "<Figure size 640x480 with 1 Axes>"
      ]
     },
     "metadata": {},
     "output_type": "display_data"
    }
   ],
   "source": [
    "import seaborn as sns\n",
    "import matplotlib.pyplot as plt\n",
    "\n",
    "sns.histplot(y, bins=100)\n",
    "plt.title(\"Ticket Price Distribution\")\n",
    "plt.show()\n"
   ]
  },
  {
   "cell_type": "code",
   "execution_count": 47,
   "id": "c23fc050",
   "metadata": {
    "execution": {
     "iopub.execute_input": "2025-06-30T06:21:33.941859Z",
     "iopub.status.busy": "2025-06-30T06:21:33.941532Z",
     "iopub.status.idle": "2025-06-30T06:21:34.061997Z",
     "shell.execute_reply": "2025-06-30T06:21:34.060746Z"
    },
    "papermill": {
     "duration": 0.152322,
     "end_time": "2025-06-30T06:21:34.063706",
     "exception": false,
     "start_time": "2025-06-30T06:21:33.911384",
     "status": "completed"
    },
    "tags": []
   },
   "outputs": [
    {
     "data": {
      "image/png": "[encoded data removed]",
      "text/plain": [
       "<Figure size 640x480 with 1 Axes>"
      ]
     },
     "metadata": {},
     "output_type": "display_data"
    }
   ],
   "source": [
    "sns.boxplot(x=y, color='lightcoral')\n",
    "plt.title(\"Box Plot of price\")\n",
    "plt.xlabel(\"Price\")\n",
    "plt.grid(True)\n",
    "plt.show()"
   ]
  },
  {
   "cell_type": "markdown",
   "id": "d2905f6a",
   "metadata": {
    "papermill": {
     "duration": 0.032181,
     "end_time": "2025-06-30T06:21:34.126512",
     "exception": false,
     "start_time": "2025-06-30T06:21:34.094331",
     "status": "completed"
    },
    "tags": []
   },
   "source": [
    "the target column 'price' has outliers. this can be handled by log transforming the target."
   ]
  },
  {
   "cell_type": "markdown",
   "id": "14daf467",
   "metadata": {
    "papermill": {
     "duration": 0.030847,
     "end_time": "2025-06-30T06:21:34.189772",
     "exception": false,
     "start_time": "2025-06-30T06:21:34.158925",
     "status": "completed"
    },
    "tags": []
   },
   "source": [
    "## 6. Scale numerical features and encode categorical features"
   ]
  },
  {
   "cell_type": "markdown",
   "id": "1eb942c9",
   "metadata": {
    "papermill": {
     "duration": 0.028945,
     "end_time": "2025-06-30T06:21:34.248152",
     "exception": false,
     "start_time": "2025-06-30T06:21:34.219207",
     "status": "completed"
    },
    "tags": []
   },
   "source": [
    "- the duration column and the target column 'price' is right skewed. \n",
    "- log transformation should be done to 'duration' to reduce the skewness and make distribution symmetric before standardization.\n",
    "- log transformation should be applied to price to reduce the influence of extreme values while training"
   ]
  },
  {
   "cell_type": "code",
   "execution_count": 48,
   "id": "36212384",
   "metadata": {
    "execution": {
     "iopub.execute_input": "2025-06-30T06:21:34.310422Z",
     "iopub.status.busy": "2025-06-30T06:21:34.310078Z",
     "iopub.status.idle": "2025-06-30T06:21:34.321015Z",
     "shell.execute_reply": "2025-06-30T06:21:34.320110Z"
    },
    "papermill": {
     "duration": 0.045371,
     "end_time": "2025-06-30T06:21:34.322794",
     "exception": false,
     "start_time": "2025-06-30T06:21:34.277423",
     "status": "completed"
    },
    "tags": []
   },
   "outputs": [],
   "source": [
    "X_imputed['duration'] = np.log1p(X_imputed['duration'])"
   ]
  },
  {
   "cell_type": "code",
   "execution_count": 49,
   "id": "95c4a6d3",
   "metadata": {
    "execution": {
     "iopub.execute_input": "2025-06-30T06:21:34.387773Z",
     "iopub.status.busy": "2025-06-30T06:21:34.386869Z",
     "iopub.status.idle": "2025-06-30T06:21:34.392079Z",
     "shell.execute_reply": "2025-06-30T06:21:34.391041Z"
    },
    "papermill": {
     "duration": 0.040081,
     "end_time": "2025-06-30T06:21:34.393650",
     "exception": false,
     "start_time": "2025-06-30T06:21:34.353569",
     "status": "completed"
    },
    "tags": []
   },
   "outputs": [],
   "source": [
    "test_imputed['duration'] = np.log1p(test_imputed['duration'])"
   ]
  },
  {
   "cell_type": "code",
   "execution_count": 50,
   "id": "133a7b7b",
   "metadata": {
    "execution": {
     "iopub.execute_input": "2025-06-30T06:21:34.455479Z",
     "iopub.status.busy": "2025-06-30T06:21:34.455142Z",
     "iopub.status.idle": "2025-06-30T06:21:34.461136Z",
     "shell.execute_reply": "2025-06-30T06:21:34.459408Z"
    },
    "papermill": {
     "duration": 0.039436,
     "end_time": "2025-06-30T06:21:34.463076",
     "exception": false,
     "start_time": "2025-06-30T06:21:34.423640",
     "status": "completed"
    },
    "tags": []
   },
   "outputs": [],
   "source": [
    "y_log = np.log1p(y)"
   ]
  },
  {
   "cell_type": "markdown",
   "id": "f3806f40",
   "metadata": {
    "papermill": {
     "duration": 0.029992,
     "end_time": "2025-06-30T06:21:34.524328",
     "exception": false,
     "start_time": "2025-06-30T06:21:34.494336",
     "status": "completed"
    },
    "tags": []
   },
   "source": [
    "Scaling and encoding transformer"
   ]
  },
  {
   "cell_type": "code",
   "execution_count": 51,
   "id": "996873f9",
   "metadata": {
    "execution": {
     "iopub.execute_input": "2025-06-30T06:21:34.588666Z",
     "iopub.status.busy": "2025-06-30T06:21:34.588338Z",
     "iopub.status.idle": "2025-06-30T06:21:34.592515Z",
     "shell.execute_reply": "2025-06-30T06:21:34.591669Z"
    },
    "papermill": {
     "duration": 0.039234,
     "end_time": "2025-06-30T06:21:34.594242",
     "exception": false,
     "start_time": "2025-06-30T06:21:34.555008",
     "status": "completed"
    },
    "tags": []
   },
   "outputs": [],
   "source": [
    "from sklearn.preprocessing import StandardScaler,OneHotEncoder, OrdinalEncoder"
   ]
  },
  {
   "cell_type": "code",
   "execution_count": 52,
   "id": "271a3a9a",
   "metadata": {
    "execution": {
     "iopub.execute_input": "2025-06-30T06:21:34.654334Z",
     "iopub.status.busy": "2025-06-30T06:21:34.653618Z",
     "iopub.status.idle": "2025-06-30T06:21:34.658409Z",
     "shell.execute_reply": "2025-06-30T06:21:34.657349Z"
    },
    "papermill": {
     "duration": 0.03639,
     "end_time": "2025-06-30T06:21:34.660198",
     "exception": false,
     "start_time": "2025-06-30T06:21:34.623808",
     "status": "completed"
    },
    "tags": []
   },
   "outputs": [],
   "source": [
    "num_features = ['duration', 'days_left']\n",
    "cat_features = ['airline', 'source', 'departure', 'stops', 'arrival', 'destination', 'class']"
   ]
  },
  {
   "cell_type": "code",
   "execution_count": 53,
   "id": "86b01bda",
   "metadata": {
    "execution": {
     "iopub.execute_input": "2025-06-30T06:21:34.721833Z",
     "iopub.status.busy": "2025-06-30T06:21:34.721465Z",
     "iopub.status.idle": "2025-06-30T06:21:34.728144Z",
     "shell.execute_reply": "2025-06-30T06:21:34.727132Z"
    },
    "papermill": {
     "duration": 0.039114,
     "end_time": "2025-06-30T06:21:34.729872",
     "exception": false,
     "start_time": "2025-06-30T06:21:34.690758",
     "status": "completed"
    },
    "tags": []
   },
   "outputs": [],
   "source": [
    "preprocessor = ColumnTransformer(transformers=[\n",
    "    ('airline_encoder',OneHotEncoder(handle_unknown='ignore',sparse_output=False),['airline']),\n",
    "    ('depar_encoder',OrdinalEncoder(categories=[['Early_Morning', 'Morning', 'Afternoon', 'Evening', 'Night', 'Late_Night']]),['departure']),\n",
    "    ('stops_encoder', OrdinalEncoder(categories=[['zero', 'one', 'two_or_more']]), ['stops']),\n",
    "    ('source_encoder',OneHotEncoder(handle_unknown='ignore',sparse_output=False),['source']),\n",
    "    ('arr_encoder',OrdinalEncoder(categories=[['Early_Morning', 'Morning', 'Afternoon', 'Evening', 'Night', 'Late_Night']]),['arrival']),\n",
    "    ('dest_encoder',OneHotEncoder(handle_unknown='ignore',sparse_output=False),['destination']),\n",
    "    ('class_encoder', OrdinalEncoder(categories=[['Economy', 'Business']]), ['class']),\n",
    "    ('std_scaler',StandardScaler(),num_features),\n",
    "],remainder='drop')"
   ]
  },
  {
   "cell_type": "markdown",
   "id": "f75e9d31",
   "metadata": {
    "papermill": {
     "duration": 0.029037,
     "end_time": "2025-06-30T06:21:34.788725",
     "exception": false,
     "start_time": "2025-06-30T06:21:34.759688",
     "status": "completed"
    },
    "tags": []
   },
   "source": [
    "- Since flight column has the name of each flight, it has numerous categories. and it is also not related to the price prediction process. hence, it is removed during the scaling and encoding process.\n",
    "- the 'airline', 'source', 'destination' columns are encoded using onehot encoder as they are nominal categories(no order).\n",
    "- the 'departure', 'stops', 'arrival', 'class' columns are encoded using ordinal encoder as they are ordinal categories(has order).\n",
    "- the 'duration' and 'days_left' are scaled with StandardScaler."
   ]
  },
  {
   "cell_type": "code",
   "execution_count": 54,
   "id": "48c14c21",
   "metadata": {
    "execution": {
     "iopub.execute_input": "2025-06-30T06:21:34.848544Z",
     "iopub.status.busy": "2025-06-30T06:21:34.848222Z",
     "iopub.status.idle": "2025-06-30T06:21:34.862662Z",
     "shell.execute_reply": "2025-06-30T06:21:34.861850Z"
    },
    "papermill": {
     "duration": 0.047036,
     "end_time": "2025-06-30T06:21:34.864318",
     "exception": false,
     "start_time": "2025-06-30T06:21:34.817282",
     "status": "completed"
    },
    "tags": []
   },
   "outputs": [
    {
     "data": {
      "text/html": [
       "<div>\n",
       "<style scoped>\n",
       "    .dataframe tbody tr th:only-of-type {\n",
       "        vertical-align: middle;\n",
       "    }\n",
       "\n",
       "    .dataframe tbody tr th {\n",
       "        vertical-align: top;\n",
       "    }\n",
       "\n",
       "    .dataframe thead th {\n",
       "        text-align: right;\n",
       "    }\n",
       "</style>\n",
       "<table border=\"1\" class=\"dataframe\">\n",
       "  <thead>\n",
       "    <tr style=\"text-align: right;\">\n",
       "      <th></th>\n",
       "      <th>airline</th>\n",
       "      <th>departure</th>\n",
       "      <th>stops</th>\n",
       "      <th>flight</th>\n",
       "      <th>source</th>\n",
       "      <th>arrival</th>\n",
       "      <th>destination</th>\n",
       "      <th>class</th>\n",
       "      <th>duration</th>\n",
       "      <th>days_left</th>\n",
       "    </tr>\n",
       "  </thead>\n",
       "  <tbody>\n",
       "    <tr>\n",
       "      <th>0</th>\n",
       "      <td>Vistara</td>\n",
       "      <td>Early_Morning</td>\n",
       "      <td>one</td>\n",
       "      <td>UK-930</td>\n",
       "      <td>Mumbai</td>\n",
       "      <td>Night</td>\n",
       "      <td>Chennai</td>\n",
       "      <td>Business</td>\n",
       "      <td>2.491551</td>\n",
       "      <td>40.0</td>\n",
       "    </tr>\n",
       "    <tr>\n",
       "      <th>1</th>\n",
       "      <td>Air_India</td>\n",
       "      <td>Evening</td>\n",
       "      <td>one</td>\n",
       "      <td>AI-539</td>\n",
       "      <td>Chennai</td>\n",
       "      <td>Morning</td>\n",
       "      <td>Mumbai</td>\n",
       "      <td>Economy</td>\n",
       "      <td>2.837908</td>\n",
       "      <td>26.0</td>\n",
       "    </tr>\n",
       "    <tr>\n",
       "      <th>2</th>\n",
       "      <td>SpiceJet</td>\n",
       "      <td>Early_Morning</td>\n",
       "      <td>zero</td>\n",
       "      <td>SG-8107</td>\n",
       "      <td>Delhi</td>\n",
       "      <td>Morning</td>\n",
       "      <td>Chennai</td>\n",
       "      <td>Economy</td>\n",
       "      <td>1.366092</td>\n",
       "      <td>25.0</td>\n",
       "    </tr>\n",
       "    <tr>\n",
       "      <th>3</th>\n",
       "      <td>Vistara</td>\n",
       "      <td>Early_Morning</td>\n",
       "      <td>zero</td>\n",
       "      <td>0.00E+00</td>\n",
       "      <td>Hyderabad</td>\n",
       "      <td>Morning</td>\n",
       "      <td>Bangalore</td>\n",
       "      <td>Economy</td>\n",
       "      <td>0.916291</td>\n",
       "      <td>22.0</td>\n",
       "    </tr>\n",
       "    <tr>\n",
       "      <th>4</th>\n",
       "      <td>Air_India</td>\n",
       "      <td>Early_Morning</td>\n",
       "      <td>one</td>\n",
       "      <td>AI-569</td>\n",
       "      <td>Chennai</td>\n",
       "      <td>Morning</td>\n",
       "      <td>Bangalore</td>\n",
       "      <td>Economy</td>\n",
       "      <td>1.763017</td>\n",
       "      <td>20.0</td>\n",
       "    </tr>\n",
       "    <tr>\n",
       "      <th>...</th>\n",
       "      <td>...</td>\n",
       "      <td>...</td>\n",
       "      <td>...</td>\n",
       "      <td>...</td>\n",
       "      <td>...</td>\n",
       "      <td>...</td>\n",
       "      <td>...</td>\n",
       "      <td>...</td>\n",
       "      <td>...</td>\n",
       "      <td>...</td>\n",
       "    </tr>\n",
       "    <tr>\n",
       "      <th>39994</th>\n",
       "      <td>Indigo</td>\n",
       "      <td>Morning</td>\n",
       "      <td>one</td>\n",
       "      <td>0.00E+00</td>\n",
       "      <td>Chennai</td>\n",
       "      <td>Afternoon</td>\n",
       "      <td>Hyderabad</td>\n",
       "      <td>Economy</td>\n",
       "      <td>1.832581</td>\n",
       "      <td>3.0</td>\n",
       "    </tr>\n",
       "    <tr>\n",
       "      <th>39995</th>\n",
       "      <td>Vistara</td>\n",
       "      <td>Morning</td>\n",
       "      <td>one</td>\n",
       "      <td>UK-940</td>\n",
       "      <td>Mumbai</td>\n",
       "      <td>Evening</td>\n",
       "      <td>Bangalore</td>\n",
       "      <td>Economy</td>\n",
       "      <td>3.102342</td>\n",
       "      <td>43.0</td>\n",
       "    </tr>\n",
       "    <tr>\n",
       "      <th>39996</th>\n",
       "      <td>Vistara</td>\n",
       "      <td>Early_Morning</td>\n",
       "      <td>one</td>\n",
       "      <td>UK-720</td>\n",
       "      <td>Kolkata</td>\n",
       "      <td>Night</td>\n",
       "      <td>Mumbai</td>\n",
       "      <td>Business</td>\n",
       "      <td>2.713369</td>\n",
       "      <td>12.0</td>\n",
       "    </tr>\n",
       "    <tr>\n",
       "      <th>39998</th>\n",
       "      <td>Vistara</td>\n",
       "      <td>Morning</td>\n",
       "      <td>one</td>\n",
       "      <td>UK-940</td>\n",
       "      <td>Mumbai</td>\n",
       "      <td>Night</td>\n",
       "      <td>Bangalore</td>\n",
       "      <td>Business</td>\n",
       "      <td>3.245323</td>\n",
       "      <td>4.0</td>\n",
       "    </tr>\n",
       "    <tr>\n",
       "      <th>39999</th>\n",
       "      <td>GO_FIRST</td>\n",
       "      <td>Early_Morning</td>\n",
       "      <td>one</td>\n",
       "      <td>G8-511</td>\n",
       "      <td>Mumbai</td>\n",
       "      <td>Evening</td>\n",
       "      <td>Bangalore</td>\n",
       "      <td>Economy</td>\n",
       "      <td>2.729812</td>\n",
       "      <td>26.0</td>\n",
       "    </tr>\n",
       "  </tbody>\n",
       "</table>\n",
       "<p>39143 rows × 10 columns</p>\n",
       "</div>"
      ],
      "text/plain": [
       "         airline      departure stops    flight     source    arrival  \\\n",
       "0        Vistara  Early_Morning   one    UK-930     Mumbai      Night   \n",
       "1      Air_India        Evening   one    AI-539    Chennai    Morning   \n",
       "2       SpiceJet  Early_Morning  zero   SG-8107      Delhi    Morning   \n",
       "3        Vistara  Early_Morning  zero  0.00E+00  Hyderabad    Morning   \n",
       "4      Air_India  Early_Morning   one    AI-569    Chennai    Morning   \n",
       "...          ...            ...   ...       ...        ...        ...   \n",
       "39994     Indigo        Morning   one  0.00E+00    Chennai  Afternoon   \n",
       "39995    Vistara        Morning   one    UK-940     Mumbai    Evening   \n",
       "39996    Vistara  Early_Morning   one    UK-720    Kolkata      Night   \n",
       "39998    Vistara        Morning   one    UK-940     Mumbai      Night   \n",
       "39999   GO_FIRST  Early_Morning   one    G8-511     Mumbai    Evening   \n",
       "\n",
       "      destination     class  duration  days_left  \n",
       "0         Chennai  Business  2.491551       40.0  \n",
       "1          Mumbai   Economy  2.837908       26.0  \n",
       "2         Chennai   Economy  1.366092       25.0  \n",
       "3       Bangalore   Economy  0.916291       22.0  \n",
       "4       Bangalore   Economy  1.763017       20.0  \n",
       "...           ...       ...       ...        ...  \n",
       "39994   Hyderabad   Economy  1.832581        3.0  \n",
       "39995   Bangalore   Economy  3.102342       43.0  \n",
       "39996      Mumbai  Business  2.713369       12.0  \n",
       "39998   Bangalore  Business  3.245323        4.0  \n",
       "39999   Bangalore   Economy  2.729812       26.0  \n",
       "\n",
       "[39143 rows x 10 columns]"
      ]
     },
     "execution_count": 54,
     "metadata": {},
     "output_type": "execute_result"
    }
   ],
   "source": [
    "X_imputed"
   ]
  },
  {
   "cell_type": "code",
   "execution_count": 55,
   "id": "f0b93903",
   "metadata": {
    "execution": {
     "iopub.execute_input": "2025-06-30T06:21:34.925307Z",
     "iopub.status.busy": "2025-06-30T06:21:34.924963Z",
     "iopub.status.idle": "2025-06-30T06:21:34.939319Z",
     "shell.execute_reply": "2025-06-30T06:21:34.938394Z"
    },
    "papermill": {
     "duration": 0.046476,
     "end_time": "2025-06-30T06:21:34.940721",
     "exception": false,
     "start_time": "2025-06-30T06:21:34.894245",
     "status": "completed"
    },
    "tags": []
   },
   "outputs": [
    {
     "data": {
      "text/html": [
       "<div>\n",
       "<style scoped>\n",
       "    .dataframe tbody tr th:only-of-type {\n",
       "        vertical-align: middle;\n",
       "    }\n",
       "\n",
       "    .dataframe tbody tr th {\n",
       "        vertical-align: top;\n",
       "    }\n",
       "\n",
       "    .dataframe thead th {\n",
       "        text-align: right;\n",
       "    }\n",
       "</style>\n",
       "<table border=\"1\" class=\"dataframe\">\n",
       "  <thead>\n",
       "    <tr style=\"text-align: right;\">\n",
       "      <th></th>\n",
       "      <th>airline</th>\n",
       "      <th>departure</th>\n",
       "      <th>stops</th>\n",
       "      <th>flight</th>\n",
       "      <th>source</th>\n",
       "      <th>arrival</th>\n",
       "      <th>destination</th>\n",
       "      <th>class</th>\n",
       "      <th>duration</th>\n",
       "      <th>days_left</th>\n",
       "    </tr>\n",
       "  </thead>\n",
       "  <tbody>\n",
       "    <tr>\n",
       "      <th>0</th>\n",
       "      <td>Vistara</td>\n",
       "      <td>Morning</td>\n",
       "      <td>zero</td>\n",
       "      <td>UK-816</td>\n",
       "      <td>Bangalore</td>\n",
       "      <td>Afternoon</td>\n",
       "      <td>Delhi</td>\n",
       "      <td>Economy</td>\n",
       "      <td>1.300192</td>\n",
       "      <td>18.0</td>\n",
       "    </tr>\n",
       "    <tr>\n",
       "      <th>1</th>\n",
       "      <td>Air_India</td>\n",
       "      <td>Early_Morning</td>\n",
       "      <td>zero</td>\n",
       "      <td>AI-440</td>\n",
       "      <td>Chennai</td>\n",
       "      <td>Morning</td>\n",
       "      <td>Delhi</td>\n",
       "      <td>Economy</td>\n",
       "      <td>2.491551</td>\n",
       "      <td>5.0</td>\n",
       "    </tr>\n",
       "    <tr>\n",
       "      <th>2</th>\n",
       "      <td>SpiceJet</td>\n",
       "      <td>Evening</td>\n",
       "      <td>one</td>\n",
       "      <td>SG-8938</td>\n",
       "      <td>Delhi</td>\n",
       "      <td>Evening</td>\n",
       "      <td>Bangalore</td>\n",
       "      <td>Economy</td>\n",
       "      <td>2.491551</td>\n",
       "      <td>44.0</td>\n",
       "    </tr>\n",
       "    <tr>\n",
       "      <th>3</th>\n",
       "      <td>Vistara</td>\n",
       "      <td>Night</td>\n",
       "      <td>one</td>\n",
       "      <td>UK-838</td>\n",
       "      <td>Chennai</td>\n",
       "      <td>Evening</td>\n",
       "      <td>Kolkata</td>\n",
       "      <td>Business</td>\n",
       "      <td>3.091042</td>\n",
       "      <td>26.0</td>\n",
       "    </tr>\n",
       "    <tr>\n",
       "      <th>4</th>\n",
       "      <td>Air_India</td>\n",
       "      <td>Morning</td>\n",
       "      <td>one</td>\n",
       "      <td>AI-429</td>\n",
       "      <td>Delhi</td>\n",
       "      <td>Evening</td>\n",
       "      <td>Mumbai</td>\n",
       "      <td>Business</td>\n",
       "      <td>2.110213</td>\n",
       "      <td>22.0</td>\n",
       "    </tr>\n",
       "    <tr>\n",
       "      <th>...</th>\n",
       "      <td>...</td>\n",
       "      <td>...</td>\n",
       "      <td>...</td>\n",
       "      <td>...</td>\n",
       "      <td>...</td>\n",
       "      <td>...</td>\n",
       "      <td>...</td>\n",
       "      <td>...</td>\n",
       "      <td>...</td>\n",
       "      <td>...</td>\n",
       "    </tr>\n",
       "    <tr>\n",
       "      <th>9995</th>\n",
       "      <td>Air_India</td>\n",
       "      <td>Night</td>\n",
       "      <td>one</td>\n",
       "      <td>AI-839</td>\n",
       "      <td>Delhi</td>\n",
       "      <td>Early_Morning</td>\n",
       "      <td>Chennai</td>\n",
       "      <td>Economy</td>\n",
       "      <td>2.449279</td>\n",
       "      <td>23.0</td>\n",
       "    </tr>\n",
       "    <tr>\n",
       "      <th>9996</th>\n",
       "      <td>Air_India</td>\n",
       "      <td>Afternoon</td>\n",
       "      <td>one</td>\n",
       "      <td>AI-663</td>\n",
       "      <td>Mumbai</td>\n",
       "      <td>Night</td>\n",
       "      <td>Hyderabad</td>\n",
       "      <td>Economy</td>\n",
       "      <td>2.159869</td>\n",
       "      <td>26.0</td>\n",
       "    </tr>\n",
       "    <tr>\n",
       "      <th>9997</th>\n",
       "      <td>Vistara</td>\n",
       "      <td>Morning</td>\n",
       "      <td>one</td>\n",
       "      <td>UK-836</td>\n",
       "      <td>Chennai</td>\n",
       "      <td>Night</td>\n",
       "      <td>Hyderabad</td>\n",
       "      <td>Business</td>\n",
       "      <td>2.413232</td>\n",
       "      <td>24.0</td>\n",
       "    </tr>\n",
       "    <tr>\n",
       "      <th>9998</th>\n",
       "      <td>Air_India</td>\n",
       "      <td>Evening</td>\n",
       "      <td>one</td>\n",
       "      <td>AI-541</td>\n",
       "      <td>Hyderabad</td>\n",
       "      <td>Morning</td>\n",
       "      <td>Bangalore</td>\n",
       "      <td>Business</td>\n",
       "      <td>2.871868</td>\n",
       "      <td>49.0</td>\n",
       "    </tr>\n",
       "    <tr>\n",
       "      <th>9999</th>\n",
       "      <td>Vistara</td>\n",
       "      <td>Early_Morning</td>\n",
       "      <td>one</td>\n",
       "      <td>UK-860</td>\n",
       "      <td>Hyderabad</td>\n",
       "      <td>Night</td>\n",
       "      <td>Mumbai</td>\n",
       "      <td>Business</td>\n",
       "      <td>2.890372</td>\n",
       "      <td>7.0</td>\n",
       "    </tr>\n",
       "  </tbody>\n",
       "</table>\n",
       "<p>10000 rows × 10 columns</p>\n",
       "</div>"
      ],
      "text/plain": [
       "        airline      departure stops   flight     source        arrival  \\\n",
       "0       Vistara        Morning  zero   UK-816  Bangalore      Afternoon   \n",
       "1     Air_India  Early_Morning  zero   AI-440    Chennai        Morning   \n",
       "2      SpiceJet        Evening   one  SG-8938      Delhi        Evening   \n",
       "3       Vistara          Night   one   UK-838    Chennai        Evening   \n",
       "4     Air_India        Morning   one   AI-429      Delhi        Evening   \n",
       "...         ...            ...   ...      ...        ...            ...   \n",
       "9995  Air_India          Night   one   AI-839      Delhi  Early_Morning   \n",
       "9996  Air_India      Afternoon   one   AI-663     Mumbai          Night   \n",
       "9997    Vistara        Morning   one   UK-836    Chennai          Night   \n",
       "9998  Air_India        Evening   one   AI-541  Hyderabad        Morning   \n",
       "9999    Vistara  Early_Morning   one   UK-860  Hyderabad          Night   \n",
       "\n",
       "     destination     class  duration  days_left  \n",
       "0          Delhi   Economy  1.300192       18.0  \n",
       "1          Delhi   Economy  2.491551        5.0  \n",
       "2      Bangalore   Economy  2.491551       44.0  \n",
       "3        Kolkata  Business  3.091042       26.0  \n",
       "4         Mumbai  Business  2.110213       22.0  \n",
       "...          ...       ...       ...        ...  \n",
       "9995     Chennai   Economy  2.449279       23.0  \n",
       "9996   Hyderabad   Economy  2.159869       26.0  \n",
       "9997   Hyderabad  Business  2.413232       24.0  \n",
       "9998   Bangalore  Business  2.871868       49.0  \n",
       "9999      Mumbai  Business  2.890372        7.0  \n",
       "\n",
       "[10000 rows x 10 columns]"
      ]
     },
     "execution_count": 55,
     "metadata": {},
     "output_type": "execute_result"
    }
   ],
   "source": [
    "test_imputed"
   ]
  },
  {
   "cell_type": "code",
   "execution_count": 56,
   "id": "5fa446e7",
   "metadata": {
    "execution": {
     "iopub.execute_input": "2025-06-30T06:21:35.002050Z",
     "iopub.status.busy": "2025-06-30T06:21:35.001620Z",
     "iopub.status.idle": "2025-06-30T06:21:35.132619Z",
     "shell.execute_reply": "2025-06-30T06:21:35.131737Z"
    },
    "papermill": {
     "duration": 0.163722,
     "end_time": "2025-06-30T06:21:35.134310",
     "exception": false,
     "start_time": "2025-06-30T06:21:34.970588",
     "status": "completed"
    },
    "tags": []
   },
   "outputs": [
    {
     "data": {
      "text/html": [
       "<style>#sk-container-id-2 {color: black;background-color: white;}#sk-container-id-2 pre{padding: 0;}#sk-container-id-2 div.sk-toggleable {background-color: white;}#sk-container-id-2 label.sk-toggleable__label {cursor: pointer;display: block;width: 100%;margin-bottom: 0;padding: 0.3em;box-sizing: border-box;text-align: center;}#sk-container-id-2 label.sk-toggleable__label-arrow:before {content: \"▸\";float: left;margin-right: 0.25em;color: #696969;}#sk-container-id-2 label.sk-toggleable__label-arrow:hover:before {color: black;}#sk-container-id-2 div.sk-estimator:hover label.sk-toggleable__label-arrow:before {color: black;}#sk-container-id-2 div.sk-toggleable__content {max-height: 0;max-width: 0;overflow: hidden;text-align: left;background-color: #f0f8ff;}#sk-container-id-2 div.sk-toggleable__content pre {margin: 0.2em;color: black;border-radius: 0.25em;background-color: #f0f8ff;}#sk-container-id-2 input.sk-toggleable__control:checked~div.sk-toggleable__content {max-height: 200px;max-width: 100%;overflow: auto;}#sk-container-id-2 input.sk-toggleable__control:checked~label.sk-toggleable__label-arrow:before {content: \"▾\";}#sk-container-id-2 div.sk-estimator input.sk-toggleable__control:checked~label.sk-toggleable__label {background-color: #d4ebff;}#sk-container-id-2 div.sk-label input.sk-toggleable__control:checked~label.sk-toggleable__label {background-color: #d4ebff;}#sk-container-id-2 input.sk-hidden--visually {border: 0;clip: rect(1px 1px 1px 1px);clip: rect(1px, 1px, 1px, 1px);height: 1px;margin: -1px;overflow: hidden;padding: 0;position: absolute;width: 1px;}#sk-container-id-2 div.sk-estimator {font-family: monospace;background-color: #f0f8ff;border: 1px dotted black;border-radius: 0.25em;box-sizing: border-box;margin-bottom: 0.5em;}#sk-container-id-2 div.sk-estimator:hover {background-color: #d4ebff;}#sk-container-id-2 div.sk-parallel-item::after {content: \"\";width: 100%;border-bottom: 1px solid gray;flex-grow: 1;}#sk-container-id-2 div.sk-label:hover label.sk-toggleable__label {background-color: #d4ebff;}#sk-container-id-2 div.sk-serial::before {content: \"\";position: absolute;border-left: 1px solid gray;box-sizing: border-box;top: 0;bottom: 0;left: 50%;z-index: 0;}#sk-container-id-2 div.sk-serial {display: flex;flex-direction: column;align-items: center;background-color: white;padding-right: 0.2em;padding-left: 0.2em;position: relative;}#sk-container-id-2 div.sk-item {position: relative;z-index: 1;}#sk-container-id-2 div.sk-parallel {display: flex;align-items: stretch;justify-content: center;background-color: white;position: relative;}#sk-container-id-2 div.sk-item::before, #sk-container-id-2 div.sk-parallel-item::before {content: \"\";position: absolute;border-left: 1px solid gray;box-sizing: border-box;top: 0;bottom: 0;left: 50%;z-index: -1;}#sk-container-id-2 div.sk-parallel-item {display: flex;flex-direction: column;z-index: 1;position: relative;background-color: white;}#sk-container-id-2 div.sk-parallel-item:first-child::after {align-self: flex-end;width: 50%;}#sk-container-id-2 div.sk-parallel-item:last-child::after {align-self: flex-start;width: 50%;}#sk-container-id-2 div.sk-parallel-item:only-child::after {width: 0;}#sk-container-id-2 div.sk-dashed-wrapped {border: 1px dashed gray;margin: 0 0.4em 0.5em 0.4em;box-sizing: border-box;padding-bottom: 0.4em;background-color: white;}#sk-container-id-2 div.sk-label label {font-family: monospace;font-weight: bold;display: inline-block;line-height: 1.2em;}#sk-container-id-2 div.sk-label-container {text-align: center;}#sk-container-id-2 div.sk-container {/* jupyter's `normalize.less` sets `[hidden] { display: none; }` but bootstrap.min.css set `[hidden] { display: none !important; }` so we also need the `!important` here to be able to override the default hidden behavior on the sphinx rendered scikit-learn.org. See: https://github.com/scikit-learn/scikit-learn/issues/21755 */display: inline-block !important;position: relative;}#sk-container-id-2 div.sk-text-repr-fallback {display: none;}</style><div id=\"sk-container-id-2\" class=\"sk-top-container\"><div class=\"sk-text-repr-fallback\"><pre>ColumnTransformer(transformers=[(&#x27;airline_encoder&#x27;,\n",
       "                                 OneHotEncoder(handle_unknown=&#x27;ignore&#x27;,\n",
       "                                               sparse_output=False),\n",
       "                                 [&#x27;airline&#x27;]),\n",
       "                                (&#x27;depar_encoder&#x27;,\n",
       "                                 OrdinalEncoder(categories=[[&#x27;Early_Morning&#x27;,\n",
       "                                                             &#x27;Morning&#x27;,\n",
       "                                                             &#x27;Afternoon&#x27;,\n",
       "                                                             &#x27;Evening&#x27;, &#x27;Night&#x27;,\n",
       "                                                             &#x27;Late_Night&#x27;]]),\n",
       "                                 [&#x27;departure&#x27;]),\n",
       "                                (&#x27;stops_encoder&#x27;,\n",
       "                                 OrdinalEncoder(categories=[[&#x27;zero&#x27;, &#x27;one&#x27;,\n",
       "                                                             &#x27;two_or_more&#x27;]]),\n",
       "                                 [&#x27;stops&#x27;]),\n",
       "                                (&#x27;source_...\n",
       "                                (&#x27;arr_encoder&#x27;,\n",
       "                                 OrdinalEncoder(categories=[[&#x27;Early_Morning&#x27;,\n",
       "                                                             &#x27;Morning&#x27;,\n",
       "                                                             &#x27;Afternoon&#x27;,\n",
       "                                                             &#x27;Evening&#x27;, &#x27;Night&#x27;,\n",
       "                                                             &#x27;Late_Night&#x27;]]),\n",
       "                                 [&#x27;arrival&#x27;]),\n",
       "                                (&#x27;dest_encoder&#x27;,\n",
       "                                 OneHotEncoder(handle_unknown=&#x27;ignore&#x27;,\n",
       "                                               sparse_output=False),\n",
       "                                 [&#x27;destination&#x27;]),\n",
       "                                (&#x27;class_encoder&#x27;,\n",
       "                                 OrdinalEncoder(categories=[[&#x27;Economy&#x27;,\n",
       "                                                             &#x27;Business&#x27;]]),\n",
       "                                 [&#x27;class&#x27;]),\n",
       "                                (&#x27;std_scaler&#x27;, StandardScaler(),\n",
       "                                 [&#x27;duration&#x27;, &#x27;days_left&#x27;])])</pre><b>In a Jupyter environment, please rerun this cell to show the HTML representation or trust the notebook. <br />On GitHub, the HTML representation is unable to render, please try loading this page with nbviewer.org.</b></div><div class=\"sk-container\" hidden><div class=\"sk-item sk-dashed-wrapped\"><div class=\"sk-label-container\"><div class=\"sk-label sk-toggleable\"><input class=\"sk-toggleable__control sk-hidden--visually\" id=\"sk-estimator-id-8\" type=\"checkbox\" ><label for=\"sk-estimator-id-8\" class=\"sk-toggleable__label sk-toggleable__label-arrow\">ColumnTransformer</label><div class=\"sk-toggleable__content\"><pre>ColumnTransformer(transformers=[(&#x27;airline_encoder&#x27;,\n",
       "                                 OneHotEncoder(handle_unknown=&#x27;ignore&#x27;,\n",
       "                                               sparse_output=False),\n",
       "                                 [&#x27;airline&#x27;]),\n",
       "                                (&#x27;depar_encoder&#x27;,\n",
       "                                 OrdinalEncoder(categories=[[&#x27;Early_Morning&#x27;,\n",
       "                                                             &#x27;Morning&#x27;,\n",
       "                                                             &#x27;Afternoon&#x27;,\n",
       "                                                             &#x27;Evening&#x27;, &#x27;Night&#x27;,\n",
       "                                                             &#x27;Late_Night&#x27;]]),\n",
       "                                 [&#x27;departure&#x27;]),\n",
       "                                (&#x27;stops_encoder&#x27;,\n",
       "                                 OrdinalEncoder(categories=[[&#x27;zero&#x27;, &#x27;one&#x27;,\n",
       "                                                             &#x27;two_or_more&#x27;]]),\n",
       "                                 [&#x27;stops&#x27;]),\n",
       "                                (&#x27;source_...\n",
       "                                (&#x27;arr_encoder&#x27;,\n",
       "                                 OrdinalEncoder(categories=[[&#x27;Early_Morning&#x27;,\n",
       "                                                             &#x27;Morning&#x27;,\n",
       "                                                             &#x27;Afternoon&#x27;,\n",
       "                                                             &#x27;Evening&#x27;, &#x27;Night&#x27;,\n",
       "                                                             &#x27;Late_Night&#x27;]]),\n",
       "                                 [&#x27;arrival&#x27;]),\n",
       "                                (&#x27;dest_encoder&#x27;,\n",
       "                                 OneHotEncoder(handle_unknown=&#x27;ignore&#x27;,\n",
       "                                               sparse_output=False),\n",
       "                                 [&#x27;destination&#x27;]),\n",
       "                                (&#x27;class_encoder&#x27;,\n",
       "                                 OrdinalEncoder(categories=[[&#x27;Economy&#x27;,\n",
       "                                                             &#x27;Business&#x27;]]),\n",
       "                                 [&#x27;class&#x27;]),\n",
       "                                (&#x27;std_scaler&#x27;, StandardScaler(),\n",
       "                                 [&#x27;duration&#x27;, &#x27;days_left&#x27;])])</pre></div></div></div><div class=\"sk-parallel\"><div class=\"sk-parallel-item\"><div class=\"sk-item\"><div class=\"sk-label-container\"><div class=\"sk-label sk-toggleable\"><input class=\"sk-toggleable__control sk-hidden--visually\" id=\"sk-estimator-id-9\" type=\"checkbox\" ><label for=\"sk-estimator-id-9\" class=\"sk-toggleable__label sk-toggleable__label-arrow\">airline_encoder</label><div class=\"sk-toggleable__content\"><pre>[&#x27;airline&#x27;]</pre></div></div></div><div class=\"sk-serial\"><div class=\"sk-item\"><div class=\"sk-estimator sk-toggleable\"><input class=\"sk-toggleable__control sk-hidden--visually\" id=\"sk-estimator-id-10\" type=\"checkbox\" ><label for=\"sk-estimator-id-10\" class=\"sk-toggleable__label sk-toggleable__label-arrow\">OneHotEncoder</label><div class=\"sk-toggleable__content\"><pre>OneHotEncoder(handle_unknown=&#x27;ignore&#x27;, sparse_output=False)</pre></div></div></div></div></div></div><div class=\"sk-parallel-item\"><div class=\"sk-item\"><div class=\"sk-label-container\"><div class=\"sk-label sk-toggleable\"><input class=\"sk-toggleable__control sk-hidden--visually\" id=\"sk-estimator-id-11\" type=\"checkbox\" ><label for=\"sk-estimator-id-11\" class=\"sk-toggleable__label sk-toggleable__label-arrow\">depar_encoder</label><div class=\"sk-toggleable__content\"><pre>[&#x27;departure&#x27;]</pre></div></div></div><div class=\"sk-serial\"><div class=\"sk-item\"><div class=\"sk-estimator sk-toggleable\"><input class=\"sk-toggleable__control sk-hidden--visually\" id=\"sk-estimator-id-12\" type=\"checkbox\" ><label for=\"sk-estimator-id-12\" class=\"sk-toggleable__label sk-toggleable__label-arrow\">OrdinalEncoder</label><div class=\"sk-toggleable__content\"><pre>OrdinalEncoder(categories=[[&#x27;Early_Morning&#x27;, &#x27;Morning&#x27;, &#x27;Afternoon&#x27;, &#x27;Evening&#x27;,\n",
       "                            &#x27;Night&#x27;, &#x27;Late_Night&#x27;]])</pre></div></div></div></div></div></div><div class=\"sk-parallel-item\"><div class=\"sk-item\"><div class=\"sk-label-container\"><div class=\"sk-label sk-toggleable\"><input class=\"sk-toggleable__control sk-hidden--visually\" id=\"sk-estimator-id-13\" type=\"checkbox\" ><label for=\"sk-estimator-id-13\" class=\"sk-toggleable__label sk-toggleable__label-arrow\">stops_encoder</label><div class=\"sk-toggleable__content\"><pre>[&#x27;stops&#x27;]</pre></div></div></div><div class=\"sk-serial\"><div class=\"sk-item\"><div class=\"sk-estimator sk-toggleable\"><input class=\"sk-toggleable__control sk-hidden--visually\" id=\"sk-estimator-id-14\" type=\"checkbox\" ><label for=\"sk-estimator-id-14\" class=\"sk-toggleable__label sk-toggleable__label-arrow\">OrdinalEncoder</label><div class=\"sk-toggleable__content\"><pre>OrdinalEncoder(categories=[[&#x27;zero&#x27;, &#x27;one&#x27;, &#x27;two_or_more&#x27;]])</pre></div></div></div></div></div></div><div class=\"sk-parallel-item\"><div class=\"sk-item\"><div class=\"sk-label-container\"><div class=\"sk-label sk-toggleable\"><input class=\"sk-toggleable__control sk-hidden--visually\" id=\"sk-estimator-id-15\" type=\"checkbox\" ><label for=\"sk-estimator-id-15\" class=\"sk-toggleable__label sk-toggleable__label-arrow\">source_encoder</label><div class=\"sk-toggleable__content\"><pre>[&#x27;source&#x27;]</pre></div></div></div><div class=\"sk-serial\"><div class=\"sk-item\"><div class=\"sk-estimator sk-toggleable\"><input class=\"sk-toggleable__control sk-hidden--visually\" id=\"sk-estimator-id-16\" type=\"checkbox\" ><label for=\"sk-estimator-id-16\" class=\"sk-toggleable__label sk-toggleable__label-arrow\">OneHotEncoder</label><div class=\"sk-toggleable__content\"><pre>OneHotEncoder(handle_unknown=&#x27;ignore&#x27;, sparse_output=False)</pre></div></div></div></div></div></div><div class=\"sk-parallel-item\"><div class=\"sk-item\"><div class=\"sk-label-container\"><div class=\"sk-label sk-toggleable\"><input class=\"sk-toggleable__control sk-hidden--visually\" id=\"sk-estimator-id-17\" type=\"checkbox\" ><label for=\"sk-estimator-id-17\" class=\"sk-toggleable__label sk-toggleable__label-arrow\">arr_encoder</label><div class=\"sk-toggleable__content\"><pre>[&#x27;arrival&#x27;]</pre></div></div></div><div class=\"sk-serial\"><div class=\"sk-item\"><div class=\"sk-estimator sk-toggleable\"><input class=\"sk-toggleable__control sk-hidden--visually\" id=\"sk-estimator-id-18\" type=\"checkbox\" ><label for=\"sk-estimator-id-18\" class=\"sk-toggleable__label sk-toggleable__label-arrow\">OrdinalEncoder</label><div class=\"sk-toggleable__content\"><pre>OrdinalEncoder(categories=[[&#x27;Early_Morning&#x27;, &#x27;Morning&#x27;, &#x27;Afternoon&#x27;, &#x27;Evening&#x27;,\n",
       "                            &#x27;Night&#x27;, &#x27;Late_Night&#x27;]])</pre></div></div></div></div></div></div><div class=\"sk-parallel-item\"><div class=\"sk-item\"><div class=\"sk-label-container\"><div class=\"sk-label sk-toggleable\"><input class=\"sk-toggleable__control sk-hidden--visually\" id=\"sk-estimator-id-19\" type=\"checkbox\" ><label for=\"sk-estimator-id-19\" class=\"sk-toggleable__label sk-toggleable__label-arrow\">dest_encoder</label><div class=\"sk-toggleable__content\"><pre>[&#x27;destination&#x27;]</pre></div></div></div><div class=\"sk-serial\"><div class=\"sk-item\"><div class=\"sk-estimator sk-toggleable\"><input class=\"sk-toggleable__control sk-hidden--visually\" id=\"sk-estimator-id-20\" type=\"checkbox\" ><label for=\"sk-estimator-id-20\" class=\"sk-toggleable__label sk-toggleable__label-arrow\">OneHotEncoder</label><div class=\"sk-toggleable__content\"><pre>OneHotEncoder(handle_unknown=&#x27;ignore&#x27;, sparse_output=False)</pre></div></div></div></div></div></div><div class=\"sk-parallel-item\"><div class=\"sk-item\"><div class=\"sk-label-container\"><div class=\"sk-label sk-toggleable\"><input class=\"sk-toggleable__control sk-hidden--visually\" id=\"sk-estimator-id-21\" type=\"checkbox\" ><label for=\"sk-estimator-id-21\" class=\"sk-toggleable__label sk-toggleable__label-arrow\">class_encoder</label><div class=\"sk-toggleable__content\"><pre>[&#x27;class&#x27;]</pre></div></div></div><div class=\"sk-serial\"><div class=\"sk-item\"><div class=\"sk-estimator sk-toggleable\"><input class=\"sk-toggleable__control sk-hidden--visually\" id=\"sk-estimator-id-22\" type=\"checkbox\" ><label for=\"sk-estimator-id-22\" class=\"sk-toggleable__label sk-toggleable__label-arrow\">OrdinalEncoder</label><div class=\"sk-toggleable__content\"><pre>OrdinalEncoder(categories=[[&#x27;Economy&#x27;, &#x27;Business&#x27;]])</pre></div></div></div></div></div></div><div class=\"sk-parallel-item\"><div class=\"sk-item\"><div class=\"sk-label-container\"><div class=\"sk-label sk-toggleable\"><input class=\"sk-toggleable__control sk-hidden--visually\" id=\"sk-estimator-id-23\" type=\"checkbox\" ><label for=\"sk-estimator-id-23\" class=\"sk-toggleable__label sk-toggleable__label-arrow\">std_scaler</label><div class=\"sk-toggleable__content\"><pre>[&#x27;duration&#x27;, &#x27;days_left&#x27;]</pre></div></div></div><div class=\"sk-serial\"><div class=\"sk-item\"><div class=\"sk-estimator sk-toggleable\"><input class=\"sk-toggleable__control sk-hidden--visually\" id=\"sk-estimator-id-24\" type=\"checkbox\" ><label for=\"sk-estimator-id-24\" class=\"sk-toggleable__label sk-toggleable__label-arrow\">StandardScaler</label><div class=\"sk-toggleable__content\"><pre>StandardScaler()</pre></div></div></div></div></div></div></div></div></div></div>"
      ],
      "text/plain": [
       "ColumnTransformer(transformers=[('airline_encoder',\n",
       "                                 OneHotEncoder(handle_unknown='ignore',\n",
       "                                               sparse_output=False),\n",
       "                                 ['airline']),\n",
       "                                ('depar_encoder',\n",
       "                                 OrdinalEncoder(categories=[['Early_Morning',\n",
       "                                                             'Morning',\n",
       "                                                             'Afternoon',\n",
       "                                                             'Evening', 'Night',\n",
       "                                                             'Late_Night']]),\n",
       "                                 ['departure']),\n",
       "                                ('stops_encoder',\n",
       "                                 OrdinalEncoder(categories=[['zero', 'one',\n",
       "                                                             'two_or_more']]),\n",
       "                                 ['stops']),\n",
       "                                ('source_...\n",
       "                                ('arr_encoder',\n",
       "                                 OrdinalEncoder(categories=[['Early_Morning',\n",
       "                                                             'Morning',\n",
       "                                                             'Afternoon',\n",
       "                                                             'Evening', 'Night',\n",
       "                                                             'Late_Night']]),\n",
       "                                 ['arrival']),\n",
       "                                ('dest_encoder',\n",
       "                                 OneHotEncoder(handle_unknown='ignore',\n",
       "                                               sparse_output=False),\n",
       "                                 ['destination']),\n",
       "                                ('class_encoder',\n",
       "                                 OrdinalEncoder(categories=[['Economy',\n",
       "                                                             'Business']]),\n",
       "                                 ['class']),\n",
       "                                ('std_scaler', StandardScaler(),\n",
       "                                 ['duration', 'days_left'])])"
      ]
     },
     "execution_count": 56,
     "metadata": {},
     "output_type": "execute_result"
    }
   ],
   "source": [
    "preprocessor.fit(X_imputed)"
   ]
  },
  {
   "cell_type": "code",
   "execution_count": 57,
   "id": "bd01fa53",
   "metadata": {
    "execution": {
     "iopub.execute_input": "2025-06-30T06:21:35.200548Z",
     "iopub.status.busy": "2025-06-30T06:21:35.199816Z",
     "iopub.status.idle": "2025-06-30T06:21:35.313058Z",
     "shell.execute_reply": "2025-06-30T06:21:35.312104Z"
    },
    "papermill": {
     "duration": 0.148048,
     "end_time": "2025-06-30T06:21:35.314681",
     "exception": false,
     "start_time": "2025-06-30T06:21:35.166633",
     "status": "completed"
    },
    "tags": []
   },
   "outputs": [],
   "source": [
    "X_train = preprocessor.transform(X_imputed)\n",
    "X_test = preprocessor.transform(test_imputed)"
   ]
  },
  {
   "cell_type": "code",
   "execution_count": 58,
   "id": "03022f5d",
   "metadata": {
    "execution": {
     "iopub.execute_input": "2025-06-30T06:21:35.378290Z",
     "iopub.status.busy": "2025-06-30T06:21:35.377974Z",
     "iopub.status.idle": "2025-06-30T06:21:35.385075Z",
     "shell.execute_reply": "2025-06-30T06:21:35.384135Z"
    },
    "papermill": {
     "duration": 0.041343,
     "end_time": "2025-06-30T06:21:35.386809",
     "exception": false,
     "start_time": "2025-06-30T06:21:35.345466",
     "status": "completed"
    },
    "tags": []
   },
   "outputs": [
    {
     "data": {
      "text/plain": [
       "array([[ 0.        ,  0.        ,  0.        , ...,  1.        ,\n",
       "         0.15606142,  1.07727052],\n",
       "       [ 0.        ,  1.        ,  0.        , ...,  0.        ,\n",
       "         0.7242008 , -0.01385203],\n",
       "       [ 0.        ,  0.        ,  0.        , ...,  0.        ,\n",
       "        -1.69006233, -0.09178935],\n",
       "       ...,\n",
       "       [ 0.        ,  0.        ,  0.        , ...,  1.        ,\n",
       "         0.51991617, -1.10497458],\n",
       "       [ 0.        ,  0.        ,  0.        , ...,  1.        ,\n",
       "         1.39249506, -1.72847318],\n",
       "       [ 0.        ,  0.        ,  1.        , ...,  0.        ,\n",
       "         0.546887  , -0.01385203]])"
      ]
     },
     "execution_count": 58,
     "metadata": {},
     "output_type": "execute_result"
    }
   ],
   "source": [
    "X_train"
   ]
  },
  {
   "cell_type": "code",
   "execution_count": 59,
   "id": "203d128a",
   "metadata": {
    "execution": {
     "iopub.execute_input": "2025-06-30T06:21:35.449487Z",
     "iopub.status.busy": "2025-06-30T06:21:35.449150Z",
     "iopub.status.idle": "2025-06-30T06:21:35.455583Z",
     "shell.execute_reply": "2025-06-30T06:21:35.454655Z"
    },
    "papermill": {
     "duration": 0.039725,
     "end_time": "2025-06-30T06:21:35.457071",
     "exception": false,
     "start_time": "2025-06-30T06:21:35.417346",
     "status": "completed"
    },
    "tags": []
   },
   "outputs": [
    {
     "data": {
      "text/plain": [
       "array([[ 0.        ,  0.        ,  0.        , ...,  0.        ,\n",
       "        -1.79815999, -0.63735063],\n",
       "       [ 0.        ,  1.        ,  0.        , ...,  0.        ,\n",
       "         0.15606142, -1.65053586],\n",
       "       [ 0.        ,  0.        ,  0.        , ...,  0.        ,\n",
       "         0.15606142,  1.38901982],\n",
       "       ...,\n",
       "       [ 0.        ,  0.        ,  0.        , ...,  1.        ,\n",
       "         0.02759156, -0.16972668],\n",
       "       [ 0.        ,  1.        ,  0.        , ...,  1.        ,\n",
       "         0.77990653,  1.77870645],\n",
       "       [ 0.        ,  0.        ,  0.        , ...,  1.        ,\n",
       "         0.81025831, -1.49466121]])"
      ]
     },
     "execution_count": 59,
     "metadata": {},
     "output_type": "execute_result"
    }
   ],
   "source": [
    "X_test"
   ]
  },
  {
   "cell_type": "markdown",
   "id": "29f293ab",
   "metadata": {
    "papermill": {
     "duration": 0.030625,
     "end_time": "2025-06-30T06:21:35.517708",
     "exception": false,
     "start_time": "2025-06-30T06:21:35.487083",
     "status": "completed"
    },
    "tags": []
   },
   "source": [
    "## 7. Model Building"
   ]
  },
  {
   "cell_type": "markdown",
   "id": "440cc82f",
   "metadata": {
    "papermill": {
     "duration": 0.031606,
     "end_time": "2025-06-30T06:21:35.580338",
     "exception": false,
     "start_time": "2025-06-30T06:21:35.548732",
     "status": "completed"
    },
    "tags": []
   },
   "source": [
    "####   1. Linear Regression"
   ]
  },
  {
   "cell_type": "code",
   "execution_count": 60,
   "id": "c54aea68",
   "metadata": {
    "execution": {
     "iopub.execute_input": "2025-06-30T06:21:35.643011Z",
     "iopub.status.busy": "2025-06-30T06:21:35.642671Z",
     "iopub.status.idle": "2025-06-30T06:21:35.647268Z",
     "shell.execute_reply": "2025-06-30T06:21:35.646322Z"
    },
    "papermill": {
     "duration": 0.037778,
     "end_time": "2025-06-30T06:21:35.648830",
     "exception": false,
     "start_time": "2025-06-30T06:21:35.611052",
     "status": "completed"
    },
    "tags": []
   },
   "outputs": [],
   "source": [
    "from sklearn.linear_model import LinearRegression\n",
    "from sklearn.model_selection import cross_validate\n",
    "from sklearn.metrics import make_scorer, mean_squared_error, r2_score"
   ]
  },
  {
   "cell_type": "code",
   "execution_count": 61,
   "id": "d5069077",
   "metadata": {
    "execution": {
     "iopub.execute_input": "2025-06-30T06:21:35.712344Z",
     "iopub.status.busy": "2025-06-30T06:21:35.712051Z",
     "iopub.status.idle": "2025-06-30T06:21:35.716286Z",
     "shell.execute_reply": "2025-06-30T06:21:35.715452Z"
    },
    "papermill": {
     "duration": 0.038471,
     "end_time": "2025-06-30T06:21:35.717820",
     "exception": false,
     "start_time": "2025-06-30T06:21:35.679349",
     "status": "completed"
    },
    "tags": []
   },
   "outputs": [],
   "source": [
    "lr_model = LinearRegression()"
   ]
  },
  {
   "cell_type": "code",
   "execution_count": 62,
   "id": "dbce8543",
   "metadata": {
    "execution": {
     "iopub.execute_input": "2025-06-30T06:21:35.784016Z",
     "iopub.status.busy": "2025-06-30T06:21:35.783670Z",
     "iopub.status.idle": "2025-06-30T06:21:35.788019Z",
     "shell.execute_reply": "2025-06-30T06:21:35.787047Z"
    },
    "papermill": {
     "duration": 0.04108,
     "end_time": "2025-06-30T06:21:35.789858",
     "exception": false,
     "start_time": "2025-06-30T06:21:35.748778",
     "status": "completed"
    },
    "tags": []
   },
   "outputs": [],
   "source": [
    "scoring = {\n",
    "    'neg_mse': 'neg_mean_squared_error',\n",
    "    'r2': 'r2'\n",
    "}"
   ]
  },
  {
   "cell_type": "code",
   "execution_count": 63,
   "id": "3b1ec419",
   "metadata": {
    "execution": {
     "iopub.execute_input": "2025-06-30T06:21:35.926357Z",
     "iopub.status.busy": "2025-06-30T06:21:35.926032Z",
     "iopub.status.idle": "2025-06-30T06:21:36.296696Z",
     "shell.execute_reply": "2025-06-30T06:21:36.295953Z"
    },
    "papermill": {
     "duration": 0.476054,
     "end_time": "2025-06-30T06:21:36.298626",
     "exception": false,
     "start_time": "2025-06-30T06:21:35.822572",
     "status": "completed"
    },
    "tags": []
   },
   "outputs": [
    {
     "name": "stdout",
     "output_type": "stream",
     "text": [
      "Linear Regression Evaluation:\n",
      "Average Train R²: 0.90880236142592\n",
      "Average Test R² : 0.9086638415038804\n",
      "Average Test RMSE: 0.33799344041967494\n"
     ]
    }
   ],
   "source": [
    "cv_results = cross_validate(lr_model, X_train, y_log, cv=5, scoring=scoring, return_train_score=True)\n",
    "print(\"Linear Regression Evaluation:\")\n",
    "print(\"Average Train R²:\", np.mean(cv_results['train_r2']))\n",
    "print(\"Average Test R² :\", np.mean(cv_results['test_r2']))\n",
    "print(\"Average Test RMSE:\", np.sqrt(-np.mean(cv_results['test_neg_mse'])))"
   ]
  },
  {
   "cell_type": "markdown",
   "id": "60a1fcd4",
   "metadata": {
    "papermill": {
     "duration": 0.050481,
     "end_time": "2025-06-30T06:21:36.402082",
     "exception": false,
     "start_time": "2025-06-30T06:21:36.351601",
     "status": "completed"
    },
    "tags": []
   },
   "source": [
    "#### 2. Ridge Regression (L2 Regularized Linear Model)"
   ]
  },
  {
   "cell_type": "code",
   "execution_count": 64,
   "id": "5d3da097",
   "metadata": {
    "execution": {
     "iopub.execute_input": "2025-06-30T06:21:36.466511Z",
     "iopub.status.busy": "2025-06-30T06:21:36.466202Z",
     "iopub.status.idle": "2025-06-30T06:21:36.470872Z",
     "shell.execute_reply": "2025-06-30T06:21:36.469789Z"
    },
    "papermill": {
     "duration": 0.039235,
     "end_time": "2025-06-30T06:21:36.472887",
     "exception": false,
     "start_time": "2025-06-30T06:21:36.433652",
     "status": "completed"
    },
    "tags": []
   },
   "outputs": [],
   "source": [
    "from sklearn.linear_model import Ridge"
   ]
  },
  {
   "cell_type": "code",
   "execution_count": 65,
   "id": "9cbb9368",
   "metadata": {
    "execution": {
     "iopub.execute_input": "2025-06-30T06:21:36.539818Z",
     "iopub.status.busy": "2025-06-30T06:21:36.539467Z",
     "iopub.status.idle": "2025-06-30T06:21:36.544381Z",
     "shell.execute_reply": "2025-06-30T06:21:36.543405Z"
    },
    "papermill": {
     "duration": 0.03935,
     "end_time": "2025-06-30T06:21:36.546122",
     "exception": false,
     "start_time": "2025-06-30T06:21:36.506772",
     "status": "completed"
    },
    "tags": []
   },
   "outputs": [],
   "source": [
    "ridge_model = Ridge(alpha=1.0, random_state=42)"
   ]
  },
  {
   "cell_type": "code",
   "execution_count": 66,
   "id": "f220b779",
   "metadata": {
    "execution": {
     "iopub.execute_input": "2025-06-30T06:21:36.611446Z",
     "iopub.status.busy": "2025-06-30T06:21:36.611126Z",
     "iopub.status.idle": "2025-06-30T06:21:36.712737Z",
     "shell.execute_reply": "2025-06-30T06:21:36.711808Z"
    },
    "papermill": {
     "duration": 0.136907,
     "end_time": "2025-06-30T06:21:36.714449",
     "exception": false,
     "start_time": "2025-06-30T06:21:36.577542",
     "status": "completed"
    },
    "tags": []
   },
   "outputs": [],
   "source": [
    "cv_results = cross_validate(ridge_model, X_train, y_log, cv=5, scoring=scoring, return_train_score=True)"
   ]
  },
  {
   "cell_type": "code",
   "execution_count": 67,
   "id": "de6f0ef2",
   "metadata": {
    "execution": {
     "iopub.execute_input": "2025-06-30T06:21:36.782418Z",
     "iopub.status.busy": "2025-06-30T06:21:36.782113Z",
     "iopub.status.idle": "2025-06-30T06:21:36.788243Z",
     "shell.execute_reply": "2025-06-30T06:21:36.787001Z"
    },
    "papermill": {
     "duration": 0.042216,
     "end_time": "2025-06-30T06:21:36.789992",
     "exception": false,
     "start_time": "2025-06-30T06:21:36.747776",
     "status": "completed"
    },
    "tags": []
   },
   "outputs": [
    {
     "name": "stdout",
     "output_type": "stream",
     "text": [
      "Ridge Regression Evaluation:\n",
      "Average Train R²: 0.9088063524185361\n",
      "Average Test R² : 0.9086645673786642\n",
      "Average Test RMSE: 0.33799211572252214\n"
     ]
    }
   ],
   "source": [
    "print(\"Ridge Regression Evaluation:\")\n",
    "print(\"Average Train R²:\", np.mean(cv_results['train_r2']))\n",
    "print(\"Average Test R² :\", np.mean(cv_results['test_r2']))\n",
    "print(\"Average Test RMSE:\", np.sqrt(-np.mean(cv_results['test_neg_mse'])))"
   ]
  },
  {
   "cell_type": "markdown",
   "id": "6a08bd2e",
   "metadata": {
    "papermill": {
     "duration": 0.03203,
     "end_time": "2025-06-30T06:21:36.852651",
     "exception": false,
     "start_time": "2025-06-30T06:21:36.820621",
     "status": "completed"
    },
    "tags": []
   },
   "source": [
    "#### 3. Lasso Regression (L1 Regularized Linear Model)"
   ]
  },
  {
   "cell_type": "code",
   "execution_count": 68,
   "id": "b2aa7b7a",
   "metadata": {
    "execution": {
     "iopub.execute_input": "2025-06-30T06:21:36.915192Z",
     "iopub.status.busy": "2025-06-30T06:21:36.914622Z",
     "iopub.status.idle": "2025-06-30T06:21:36.919432Z",
     "shell.execute_reply": "2025-06-30T06:21:36.918170Z"
    },
    "papermill": {
     "duration": 0.038286,
     "end_time": "2025-06-30T06:21:36.921136",
     "exception": false,
     "start_time": "2025-06-30T06:21:36.882850",
     "status": "completed"
    },
    "tags": []
   },
   "outputs": [],
   "source": [
    "from sklearn.linear_model import Lasso"
   ]
  },
  {
   "cell_type": "code",
   "execution_count": 69,
   "id": "ce390f47",
   "metadata": {
    "execution": {
     "iopub.execute_input": "2025-06-30T06:21:36.983838Z",
     "iopub.status.busy": "2025-06-30T06:21:36.983547Z",
     "iopub.status.idle": "2025-06-30T06:21:36.988175Z",
     "shell.execute_reply": "2025-06-30T06:21:36.987212Z"
    },
    "papermill": {
     "duration": 0.0379,
     "end_time": "2025-06-30T06:21:36.989695",
     "exception": false,
     "start_time": "2025-06-30T06:21:36.951795",
     "status": "completed"
    },
    "tags": []
   },
   "outputs": [],
   "source": [
    "lasso_model = Lasso(alpha=0.1, random_state=42, max_iter=10000)"
   ]
  },
  {
   "cell_type": "code",
   "execution_count": 70,
   "id": "ae15eeea",
   "metadata": {
    "execution": {
     "iopub.execute_input": "2025-06-30T06:21:37.054490Z",
     "iopub.status.busy": "2025-06-30T06:21:37.054178Z",
     "iopub.status.idle": "2025-06-30T06:21:37.211257Z",
     "shell.execute_reply": "2025-06-30T06:21:37.210498Z"
    },
    "papermill": {
     "duration": 0.19213,
     "end_time": "2025-06-30T06:21:37.213304",
     "exception": false,
     "start_time": "2025-06-30T06:21:37.021174",
     "status": "completed"
    },
    "tags": []
   },
   "outputs": [],
   "source": [
    "cv_results = cross_validate(lasso_model, X_train, y_log, cv=5, scoring=scoring, return_train_score=True)"
   ]
  },
  {
   "cell_type": "code",
   "execution_count": 71,
   "id": "79e53442",
   "metadata": {
    "execution": {
     "iopub.execute_input": "2025-06-30T06:21:37.321980Z",
     "iopub.status.busy": "2025-06-30T06:21:37.321614Z",
     "iopub.status.idle": "2025-06-30T06:21:37.328211Z",
     "shell.execute_reply": "2025-06-30T06:21:37.327092Z"
    },
    "papermill": {
     "duration": 0.06197,
     "end_time": "2025-06-30T06:21:37.329788",
     "exception": false,
     "start_time": "2025-06-30T06:21:37.267818",
     "status": "completed"
    },
    "tags": []
   },
   "outputs": [
    {
     "name": "stdout",
     "output_type": "stream",
     "text": [
      "Lasso Regression Evaluation:\n",
      "Average Train R²: 0.8356118602535052\n",
      "Average Test R² : 0.8355556426768633\n",
      "Average Test RMSE: 0.4535279119322469\n"
     ]
    }
   ],
   "source": [
    "print(\"Lasso Regression Evaluation:\")\n",
    "print(\"Average Train R²:\", np.mean(cv_results['train_r2']))\n",
    "print(\"Average Test R² :\", np.mean(cv_results['test_r2']))\n",
    "print(\"Average Test RMSE:\", np.sqrt(-np.mean(cv_results['test_neg_mse'])))"
   ]
  },
  {
   "cell_type": "markdown",
   "id": "e3343d8e",
   "metadata": {
    "papermill": {
     "duration": 0.033181,
     "end_time": "2025-06-30T06:21:37.394488",
     "exception": false,
     "start_time": "2025-06-30T06:21:37.361307",
     "status": "completed"
    },
    "tags": []
   },
   "source": [
    "#### 4. ElasticNet Regression (Combination of Lasso and Ridge)"
   ]
  },
  {
   "cell_type": "code",
   "execution_count": 72,
   "id": "9dfb90e1",
   "metadata": {
    "execution": {
     "iopub.execute_input": "2025-06-30T06:21:37.461464Z",
     "iopub.status.busy": "2025-06-30T06:21:37.461140Z",
     "iopub.status.idle": "2025-06-30T06:21:37.466236Z",
     "shell.execute_reply": "2025-06-30T06:21:37.465167Z"
    },
    "papermill": {
     "duration": 0.040989,
     "end_time": "2025-06-30T06:21:37.467926",
     "exception": false,
     "start_time": "2025-06-30T06:21:37.426937",
     "status": "completed"
    },
    "tags": []
   },
   "outputs": [],
   "source": [
    "from sklearn.linear_model import ElasticNet"
   ]
  },
  {
   "cell_type": "code",
   "execution_count": 73,
   "id": "f5025dc4",
   "metadata": {
    "execution": {
     "iopub.execute_input": "2025-06-30T06:21:37.532347Z",
     "iopub.status.busy": "2025-06-30T06:21:37.531837Z",
     "iopub.status.idle": "2025-06-30T06:21:37.537003Z",
     "shell.execute_reply": "2025-06-30T06:21:37.535885Z"
    },
    "papermill": {
     "duration": 0.038659,
     "end_time": "2025-06-30T06:21:37.538533",
     "exception": false,
     "start_time": "2025-06-30T06:21:37.499874",
     "status": "completed"
    },
    "tags": []
   },
   "outputs": [],
   "source": [
    "elastic_model = ElasticNet(alpha=0.1, l1_ratio=0.5, random_state=42, max_iter=10000)"
   ]
  },
  {
   "cell_type": "code",
   "execution_count": 74,
   "id": "baea0d64",
   "metadata": {
    "execution": {
     "iopub.execute_input": "2025-06-30T06:21:37.610125Z",
     "iopub.status.busy": "2025-06-30T06:21:37.609749Z",
     "iopub.status.idle": "2025-06-30T06:21:37.783671Z",
     "shell.execute_reply": "2025-06-30T06:21:37.782723Z"
    },
    "papermill": {
     "duration": 0.215727,
     "end_time": "2025-06-30T06:21:37.787367",
     "exception": false,
     "start_time": "2025-06-30T06:21:37.571640",
     "status": "completed"
    },
    "tags": []
   },
   "outputs": [],
   "source": [
    "cv_results = cross_validate(elastic_model, X_train, y_log, cv=5, scoring=scoring, return_train_score=True)"
   ]
  },
  {
   "cell_type": "code",
   "execution_count": 75,
   "id": "822c6561",
   "metadata": {
    "execution": {
     "iopub.execute_input": "2025-06-30T06:21:37.906156Z",
     "iopub.status.busy": "2025-06-30T06:21:37.905778Z",
     "iopub.status.idle": "2025-06-30T06:21:37.911959Z",
     "shell.execute_reply": "2025-06-30T06:21:37.910636Z"
    },
    "papermill": {
     "duration": 0.067405,
     "end_time": "2025-06-30T06:21:37.913770",
     "exception": false,
     "start_time": "2025-06-30T06:21:37.846365",
     "status": "completed"
    },
    "tags": []
   },
   "outputs": [
    {
     "name": "stdout",
     "output_type": "stream",
     "text": [
      "ElasticNet Regression Evaluation:\n",
      "Average Train R²: 0.8271888302570108\n",
      "Average Test R² : 0.8271110320033375\n",
      "Average Test RMSE: 0.46502676921241637\n"
     ]
    }
   ],
   "source": [
    "print(\"ElasticNet Regression Evaluation:\")\n",
    "print(\"Average Train R²:\", np.mean(cv_results['train_r2']))\n",
    "print(\"Average Test R² :\", np.mean(cv_results['test_r2']))\n",
    "print(\"Average Test RMSE:\", np.sqrt(-np.mean(cv_results['test_neg_mse'])))"
   ]
  },
  {
   "cell_type": "markdown",
   "id": "c2f7dd51",
   "metadata": {
    "papermill": {
     "duration": 0.03203,
     "end_time": "2025-06-30T06:21:37.981625",
     "exception": false,
     "start_time": "2025-06-30T06:21:37.949595",
     "status": "completed"
    },
    "tags": []
   },
   "source": [
    "#### 5. Decision Tree Regressor"
   ]
  },
  {
   "cell_type": "code",
   "execution_count": 76,
   "id": "30d720f2",
   "metadata": {
    "execution": {
     "iopub.execute_input": "2025-06-30T06:21:38.046125Z",
     "iopub.status.busy": "2025-06-30T06:21:38.045701Z",
     "iopub.status.idle": "2025-06-30T06:21:38.099025Z",
     "shell.execute_reply": "2025-06-30T06:21:38.097858Z"
    },
    "papermill": {
     "duration": 0.088003,
     "end_time": "2025-06-30T06:21:38.100725",
     "exception": false,
     "start_time": "2025-06-30T06:21:38.012722",
     "status": "completed"
    },
    "tags": []
   },
   "outputs": [],
   "source": [
    "from sklearn.tree import DecisionTreeRegressor"
   ]
  },
  {
   "cell_type": "code",
   "execution_count": 77,
   "id": "49b30ad1",
   "metadata": {
    "execution": {
     "iopub.execute_input": "2025-06-30T06:21:38.164555Z",
     "iopub.status.busy": "2025-06-30T06:21:38.164234Z",
     "iopub.status.idle": "2025-06-30T06:21:38.168802Z",
     "shell.execute_reply": "2025-06-30T06:21:38.167761Z"
    },
    "papermill": {
     "duration": 0.038462,
     "end_time": "2025-06-30T06:21:38.170499",
     "exception": false,
     "start_time": "2025-06-30T06:21:38.132037",
     "status": "completed"
    },
    "tags": []
   },
   "outputs": [],
   "source": [
    "tree_model = DecisionTreeRegressor(random_state=42,max_depth=10)"
   ]
  },
  {
   "cell_type": "code",
   "execution_count": 78,
   "id": "f6c4a1bd",
   "metadata": {
    "execution": {
     "iopub.execute_input": "2025-06-30T06:21:38.234766Z",
     "iopub.status.busy": "2025-06-30T06:21:38.234473Z",
     "iopub.status.idle": "2025-06-30T06:21:38.751821Z",
     "shell.execute_reply": "2025-06-30T06:21:38.750880Z"
    },
    "papermill": {
     "duration": 0.551428,
     "end_time": "2025-06-30T06:21:38.753674",
     "exception": false,
     "start_time": "2025-06-30T06:21:38.202246",
     "status": "completed"
    },
    "tags": []
   },
   "outputs": [],
   "source": [
    "cv_results = cross_validate(tree_model, X_train, y_log, cv=5, scoring=scoring, return_train_score=True)"
   ]
  },
  {
   "cell_type": "code",
   "execution_count": 79,
   "id": "3c1b49da",
   "metadata": {
    "execution": {
     "iopub.execute_input": "2025-06-30T06:21:38.821728Z",
     "iopub.status.busy": "2025-06-30T06:21:38.820789Z",
     "iopub.status.idle": "2025-06-30T06:21:38.826941Z",
     "shell.execute_reply": "2025-06-30T06:21:38.825987Z"
    },
    "papermill": {
     "duration": 0.041654,
     "end_time": "2025-06-30T06:21:38.828679",
     "exception": false,
     "start_time": "2025-06-30T06:21:38.787025",
     "status": "completed"
    },
    "tags": []
   },
   "outputs": [
    {
     "name": "stdout",
     "output_type": "stream",
     "text": [
      "Decision Tree Regressor Evaluation:\n",
      "Average Train R²: 0.9493301482711392\n",
      "Average Test R² : 0.9434214367100816\n",
      "Average Test RMSE: 0.2660146162518508\n"
     ]
    }
   ],
   "source": [
    "print(\"Decision Tree Regressor Evaluation:\")\n",
    "print(\"Average Train R²:\", np.mean(cv_results['train_r2']))\n",
    "print(\"Average Test R² :\", np.mean(cv_results['test_r2']))\n",
    "print(\"Average Test RMSE:\", np.sqrt(-np.mean(cv_results['test_neg_mse'])))"
   ]
  },
  {
   "cell_type": "markdown",
   "id": "bd46f0ca",
   "metadata": {
    "papermill": {
     "duration": 0.030301,
     "end_time": "2025-06-30T06:21:38.892110",
     "exception": false,
     "start_time": "2025-06-30T06:21:38.861809",
     "status": "completed"
    },
    "tags": []
   },
   "source": [
    "#### 6. Random Forest Regressor"
   ]
  },
  {
   "cell_type": "code",
   "execution_count": 80,
   "id": "f83d58aa",
   "metadata": {
    "execution": {
     "iopub.execute_input": "2025-06-30T06:21:38.956180Z",
     "iopub.status.busy": "2025-06-30T06:21:38.955802Z",
     "iopub.status.idle": "2025-06-30T06:21:39.218083Z",
     "shell.execute_reply": "2025-06-30T06:21:39.217140Z"
    },
    "papermill": {
     "duration": 0.295929,
     "end_time": "2025-06-30T06:21:39.219665",
     "exception": false,
     "start_time": "2025-06-30T06:21:38.923736",
     "status": "completed"
    },
    "tags": []
   },
   "outputs": [],
   "source": [
    "from sklearn.ensemble import RandomForestRegressor"
   ]
  },
  {
   "cell_type": "code",
   "execution_count": 81,
   "id": "ad249700",
   "metadata": {
    "execution": {
     "iopub.execute_input": "2025-06-30T06:21:39.284024Z",
     "iopub.status.busy": "2025-06-30T06:21:39.283639Z",
     "iopub.status.idle": "2025-06-30T06:21:39.288195Z",
     "shell.execute_reply": "2025-06-30T06:21:39.287299Z"
    },
    "papermill": {
     "duration": 0.039264,
     "end_time": "2025-06-30T06:21:39.289875",
     "exception": false,
     "start_time": "2025-06-30T06:21:39.250611",
     "status": "completed"
    },
    "tags": []
   },
   "outputs": [],
   "source": [
    "rf_model = RandomForestRegressor(n_estimators=100,random_state=42, n_jobs=-1)"
   ]
  },
  {
   "cell_type": "code",
   "execution_count": 82,
   "id": "e56fb170",
   "metadata": {
    "execution": {
     "iopub.execute_input": "2025-06-30T06:21:39.355667Z",
     "iopub.status.busy": "2025-06-30T06:21:39.355388Z",
     "iopub.status.idle": "2025-06-30T06:22:07.736141Z",
     "shell.execute_reply": "2025-06-30T06:22:07.735139Z"
    },
    "papermill": {
     "duration": 28.414925,
     "end_time": "2025-06-30T06:22:07.737884",
     "exception": false,
     "start_time": "2025-06-30T06:21:39.322959",
     "status": "completed"
    },
    "tags": []
   },
   "outputs": [],
   "source": [
    "cv_results = cross_validate(rf_model, X_train, y_log, cv=5, scoring=scoring, return_train_score=True)"
   ]
  },
  {
   "cell_type": "code",
   "execution_count": 83,
   "id": "7a205b14",
   "metadata": {
    "execution": {
     "iopub.execute_input": "2025-06-30T06:22:07.801567Z",
     "iopub.status.busy": "2025-06-30T06:22:07.801270Z",
     "iopub.status.idle": "2025-06-30T06:22:07.806857Z",
     "shell.execute_reply": "2025-06-30T06:22:07.805940Z"
    },
    "papermill": {
     "duration": 0.039048,
     "end_time": "2025-06-30T06:22:07.808353",
     "exception": false,
     "start_time": "2025-06-30T06:22:07.769305",
     "status": "completed"
    },
    "tags": []
   },
   "outputs": [
    {
     "name": "stdout",
     "output_type": "stream",
     "text": [
      "Random Forest Regressor Evaluation:\n",
      "Average Train R²: 0.9939558609406859\n",
      "Average Test R² : 0.9570810007163914\n",
      "Average Test RMSE: 0.2316941893799317\n"
     ]
    }
   ],
   "source": [
    "print(\"Random Forest Regressor Evaluation:\")\n",
    "print(\"Average Train R²:\", np.mean(cv_results['train_r2']))\n",
    "print(\"Average Test R² :\", np.mean(cv_results['test_r2']))\n",
    "print(\"Average Test RMSE:\", np.sqrt(-np.mean(cv_results['test_neg_mse'])))"
   ]
  },
  {
   "cell_type": "markdown",
   "id": "e9a87787",
   "metadata": {
    "papermill": {
     "duration": 0.033712,
     "end_time": "2025-06-30T06:22:07.875158",
     "exception": false,
     "start_time": "2025-06-30T06:22:07.841446",
     "status": "completed"
    },
    "tags": []
   },
   "source": [
    "#### 7. Gradient Boosting Regressor"
   ]
  },
  {
   "cell_type": "code",
   "execution_count": 84,
   "id": "8929b669",
   "metadata": {
    "execution": {
     "iopub.execute_input": "2025-06-30T06:22:07.941245Z",
     "iopub.status.busy": "2025-06-30T06:22:07.940916Z",
     "iopub.status.idle": "2025-06-30T06:22:07.945537Z",
     "shell.execute_reply": "2025-06-30T06:22:07.944358Z"
    },
    "papermill": {
     "duration": 0.03893,
     "end_time": "2025-06-30T06:22:07.947106",
     "exception": false,
     "start_time": "2025-06-30T06:22:07.908176",
     "status": "completed"
    },
    "tags": []
   },
   "outputs": [],
   "source": [
    "from sklearn.ensemble import GradientBoostingRegressor"
   ]
  },
  {
   "cell_type": "code",
   "execution_count": 85,
   "id": "79ac40e8",
   "metadata": {
    "execution": {
     "iopub.execute_input": "2025-06-30T06:22:08.011701Z",
     "iopub.status.busy": "2025-06-30T06:22:08.011367Z",
     "iopub.status.idle": "2025-06-30T06:22:08.016347Z",
     "shell.execute_reply": "2025-06-30T06:22:08.015419Z"
    },
    "papermill": {
     "duration": 0.039098,
     "end_time": "2025-06-30T06:22:08.017856",
     "exception": false,
     "start_time": "2025-06-30T06:22:07.978758",
     "status": "completed"
    },
    "tags": []
   },
   "outputs": [],
   "source": [
    "gb_model = GradientBoostingRegressor(n_estimators=100, learning_rate=0.1, max_depth=3, random_state=42)"
   ]
  },
  {
   "cell_type": "code",
   "execution_count": 86,
   "id": "a0d878cd",
   "metadata": {
    "execution": {
     "iopub.execute_input": "2025-06-30T06:22:08.082306Z",
     "iopub.status.busy": "2025-06-30T06:22:08.082015Z",
     "iopub.status.idle": "2025-06-30T06:22:25.890861Z",
     "shell.execute_reply": "2025-06-30T06:22:25.889771Z"
    },
    "papermill": {
     "duration": 17.843941,
     "end_time": "2025-06-30T06:22:25.892652",
     "exception": false,
     "start_time": "2025-06-30T06:22:08.048711",
     "status": "completed"
    },
    "tags": []
   },
   "outputs": [],
   "source": [
    "cv_results = cross_validate(gb_model, X_train, y_log, cv=5, scoring=scoring, return_train_score=True)"
   ]
  },
  {
   "cell_type": "code",
   "execution_count": 87,
   "id": "569072dc",
   "metadata": {
    "execution": {
     "iopub.execute_input": "2025-06-30T06:22:25.978651Z",
     "iopub.status.busy": "2025-06-30T06:22:25.978199Z",
     "iopub.status.idle": "2025-06-30T06:22:25.984819Z",
     "shell.execute_reply": "2025-06-30T06:22:25.984111Z"
    },
    "papermill": {
     "duration": 0.051622,
     "end_time": "2025-06-30T06:22:25.986315",
     "exception": false,
     "start_time": "2025-06-30T06:22:25.934693",
     "status": "completed"
    },
    "tags": []
   },
   "outputs": [
    {
     "name": "stdout",
     "output_type": "stream",
     "text": [
      "Gradient Boosting Regressor Evaluation:\n",
      "Average Train R²: 0.943593265826874\n",
      "Average Test R² : 0.9426909701938759\n",
      "Average Test RMSE: 0.2677221327476289\n"
     ]
    }
   ],
   "source": [
    "print(\"Gradient Boosting Regressor Evaluation:\")\n",
    "print(\"Average Train R²:\", np.mean(cv_results['train_r2']))\n",
    "print(\"Average Test R² :\", np.mean(cv_results['test_r2']))\n",
    "print(\"Average Test RMSE:\", np.sqrt(-np.mean(cv_results['test_neg_mse'])))"
   ]
  },
  {
   "cell_type": "markdown",
   "id": "27a2608d",
   "metadata": {
    "papermill": {
     "duration": 0.033256,
     "end_time": "2025-06-30T06:22:26.057812",
     "exception": false,
     "start_time": "2025-06-30T06:22:26.024556",
     "status": "completed"
    },
    "tags": []
   },
   "source": [
    "| Model                     | Test R²    | Test RMSE  |\n",
    "| ------------------------- | ---------- | ---------- |\n",
    "| **Linear Regression**     | 0.9087     | 0.3380     |\n",
    "| **Ridge Regression**      | 0.9087     | 0.3380     |\n",
    "| **Lasso Regression**      | 0.8356     | 0.4535     |\n",
    "| **ElasticNet Regression** | 0.8271     | 0.4650     |\n",
    "| **Decision Tree**         | 0.9434     | 0.2660     |\n",
    "| **Random Forest**         | **0.9571** | **0.2317** |\n",
    "| **Gradient Boosting**     | 0.9427     | 0.2677     |\n"
   ]
  },
  {
   "cell_type": "markdown",
   "id": "544f93fa",
   "metadata": {
    "papermill": {
     "duration": 0.032003,
     "end_time": "2025-06-30T06:22:26.120687",
     "exception": false,
     "start_time": "2025-06-30T06:22:26.088684",
     "status": "completed"
    },
    "tags": []
   },
   "source": [
    "**Top 3 models**\n",
    "* Random Forest Regressor: \n",
    "  Best performance overall (highest R² and lowest RMSE)\n",
    "* Decision Tree Regressor: \n",
    "  Simple and still very strong; slightly behind ensemble models\n",
    "* Gradient Boosting Regressor: \n",
    "  Competitive with decision tree and more stable generalization"
   ]
  },
  {
   "cell_type": "markdown",
   "id": "d80b53bf",
   "metadata": {
    "papermill": {
     "duration": 0.030153,
     "end_time": "2025-06-30T06:22:26.181623",
     "exception": false,
     "start_time": "2025-06-30T06:22:26.151470",
     "status": "completed"
    },
    "tags": []
   },
   "source": [
    "## 8. Hyperparameter tuning on top 3 models"
   ]
  },
  {
   "cell_type": "markdown",
   "id": "ad45bf18",
   "metadata": {
    "papermill": {
     "duration": 0.030633,
     "end_time": "2025-06-30T06:22:26.243555",
     "exception": false,
     "start_time": "2025-06-30T06:22:26.212922",
     "status": "completed"
    },
    "tags": []
   },
   "source": [
    "1. HPT on Random forest regressor"
   ]
  },
  {
   "cell_type": "code",
   "execution_count": 88,
   "id": "da1b4667",
   "metadata": {
    "execution": {
     "iopub.execute_input": "2025-06-30T06:22:26.308501Z",
     "iopub.status.busy": "2025-06-30T06:22:26.308185Z",
     "iopub.status.idle": "2025-06-30T06:22:26.312686Z",
     "shell.execute_reply": "2025-06-30T06:22:26.311631Z"
    },
    "papermill": {
     "duration": 0.038842,
     "end_time": "2025-06-30T06:22:26.314285",
     "exception": false,
     "start_time": "2025-06-30T06:22:26.275443",
     "status": "completed"
    },
    "tags": []
   },
   "outputs": [],
   "source": [
    "from sklearn.model_selection import GridSearchCV"
   ]
  },
  {
   "cell_type": "code",
   "execution_count": 89,
   "id": "636fffe7",
   "metadata": {
    "execution": {
     "iopub.execute_input": "2025-06-30T06:22:26.381184Z",
     "iopub.status.busy": "2025-06-30T06:22:26.380147Z",
     "iopub.status.idle": "2025-06-30T06:22:26.385973Z",
     "shell.execute_reply": "2025-06-30T06:22:26.385028Z"
    },
    "papermill": {
     "duration": 0.041798,
     "end_time": "2025-06-30T06:22:26.387577",
     "exception": false,
     "start_time": "2025-06-30T06:22:26.345779",
     "status": "completed"
    },
    "tags": []
   },
   "outputs": [],
   "source": [
    "rf_param_grid = {\n",
    "    'n_estimators': [100,200],\n",
    "    'max_depth': [None,10,20],\n",
    "    'min_samples_split': [2,5],\n",
    "    'min_samples_leaf': [1,2]\n",
    "}"
   ]
  },
  {
   "cell_type": "code",
   "execution_count": 90,
   "id": "cbfd7a51",
   "metadata": {
    "execution": {
     "iopub.execute_input": "2025-06-30T06:22:26.451966Z",
     "iopub.status.busy": "2025-06-30T06:22:26.451619Z",
     "iopub.status.idle": "2025-06-30T06:22:26.455992Z",
     "shell.execute_reply": "2025-06-30T06:22:26.455021Z"
    },
    "papermill": {
     "duration": 0.037516,
     "end_time": "2025-06-30T06:22:26.457543",
     "exception": false,
     "start_time": "2025-06-30T06:22:26.420027",
     "status": "completed"
    },
    "tags": []
   },
   "outputs": [],
   "source": [
    "rf = RandomForestRegressor(random_state=42)"
   ]
  },
  {
   "cell_type": "code",
   "execution_count": 91,
   "id": "e2b1465b",
   "metadata": {
    "execution": {
     "iopub.execute_input": "2025-06-30T06:22:26.520833Z",
     "iopub.status.busy": "2025-06-30T06:22:26.520529Z",
     "iopub.status.idle": "2025-06-30T06:22:26.525178Z",
     "shell.execute_reply": "2025-06-30T06:22:26.524265Z"
    },
    "papermill": {
     "duration": 0.038428,
     "end_time": "2025-06-30T06:22:26.526759",
     "exception": false,
     "start_time": "2025-06-30T06:22:26.488331",
     "status": "completed"
    },
    "tags": []
   },
   "outputs": [],
   "source": [
    "rf_grid = GridSearchCV(\n",
    "    estimator=rf,\n",
    "    param_grid=rf_param_grid,\n",
    "    cv=5,\n",
    "    scoring='neg_mean_squared_error',\n",
    "    n_jobs=-1,\n",
    "    verbose=2\n",
    ")"
   ]
  },
  {
   "cell_type": "code",
   "execution_count": 92,
   "id": "b209f1cd",
   "metadata": {
    "execution": {
     "iopub.execute_input": "2025-06-30T06:22:26.590419Z",
     "iopub.status.busy": "2025-06-30T06:22:26.590088Z",
     "iopub.status.idle": "2025-06-30T06:34:04.986758Z",
     "shell.execute_reply": "2025-06-30T06:34:04.985816Z"
    },
    "papermill": {
     "duration": 698.464288,
     "end_time": "2025-06-30T06:34:05.021621",
     "exception": false,
     "start_time": "2025-06-30T06:22:26.557333",
     "status": "completed"
    },
    "tags": []
   },
   "outputs": [
    {
     "name": "stdout",
     "output_type": "stream",
     "text": [
      "Fitting 5 folds for each of 24 candidates, totalling 120 fits\n",
      "[CV] END max_depth=None, min_samples_leaf=1, min_samples_split=2, n_estimators=100; total time=  19.6s\n",
      "[CV] END max_depth=None, min_samples_leaf=1, min_samples_split=2, n_estimators=100; total time=  20.5s\n",
      "[CV] END max_depth=None, min_samples_leaf=1, min_samples_split=2, n_estimators=200; total time=  40.1s\n",
      "[CV] END max_depth=None, min_samples_leaf=1, min_samples_split=5, n_estimators=100; total time=  18.0s\n",
      "[CV] END max_depth=None, min_samples_leaf=1, min_samples_split=5, n_estimators=200; total time=  35.1s\n",
      "[CV] END max_depth=None, min_samples_leaf=2, min_samples_split=2, n_estimators=100; total time=  17.0s\n"
     ]
    },
    {
     "name": "stderr",
     "output_type": "stream",
     "text": [
      "/usr/local/lib/python3.11/dist-packages/joblib/externals/loky/process_executor.py:782: UserWarning: A worker stopped while some jobs were given to the executor. This can be caused by a too short worker timeout or by a memory leak.\n",
      "  warnings.warn(\n"
     ]
    },
    {
     "data": {
      "text/html": [
       "<style>#sk-container-id-3 {color: black;background-color: white;}#sk-container-id-3 pre{padding: 0;}#sk-container-id-3 div.sk-toggleable {background-color: white;}#sk-container-id-3 label.sk-toggleable__label {cursor: pointer;display: block;width: 100%;margin-bottom: 0;padding: 0.3em;box-sizing: border-box;text-align: center;}#sk-container-id-3 label.sk-toggleable__label-arrow:before {content: \"▸\";float: left;margin-right: 0.25em;color: #696969;}#sk-container-id-3 label.sk-toggleable__label-arrow:hover:before {color: black;}#sk-container-id-3 div.sk-estimator:hover label.sk-toggleable__label-arrow:before {color: black;}#sk-container-id-3 div.sk-toggleable__content {max-height: 0;max-width: 0;overflow: hidden;text-align: left;background-color: #f0f8ff;}#sk-container-id-3 div.sk-toggleable__content pre {margin: 0.2em;color: black;border-radius: 0.25em;background-color: #f0f8ff;}#sk-container-id-3 input.sk-toggleable__control:checked~div.sk-toggleable__content {max-height: 200px;max-width: 100%;overflow: auto;}#sk-container-id-3 input.sk-toggleable__control:checked~label.sk-toggleable__label-arrow:before {content: \"▾\";}#sk-container-id-3 div.sk-estimator input.sk-toggleable__control:checked~label.sk-toggleable__label {background-color: #d4ebff;}#sk-container-id-3 div.sk-label input.sk-toggleable__control:checked~label.sk-toggleable__label {background-color: #d4ebff;}#sk-container-id-3 input.sk-hidden--visually {border: 0;clip: rect(1px 1px 1px 1px);clip: rect(1px, 1px, 1px, 1px);height: 1px;margin: -1px;overflow: hidden;padding: 0;position: absolute;width: 1px;}#sk-container-id-3 div.sk-estimator {font-family: monospace;background-color: #f0f8ff;border: 1px dotted black;border-radius: 0.25em;box-sizing: border-box;margin-bottom: 0.5em;}#sk-container-id-3 div.sk-estimator:hover {background-color: #d4ebff;}#sk-container-id-3 div.sk-parallel-item::after {content: \"\";width: 100%;border-bottom: 1px solid gray;flex-grow: 1;}#sk-container-id-3 div.sk-label:hover label.sk-toggleable__label {background-color: #d4ebff;}#sk-container-id-3 div.sk-serial::before {content: \"\";position: absolute;border-left: 1px solid gray;box-sizing: border-box;top: 0;bottom: 0;left: 50%;z-index: 0;}#sk-container-id-3 div.sk-serial {display: flex;flex-direction: column;align-items: center;background-color: white;padding-right: 0.2em;padding-left: 0.2em;position: relative;}#sk-container-id-3 div.sk-item {position: relative;z-index: 1;}#sk-container-id-3 div.sk-parallel {display: flex;align-items: stretch;justify-content: center;background-color: white;position: relative;}#sk-container-id-3 div.sk-item::before, #sk-container-id-3 div.sk-parallel-item::before {content: \"\";position: absolute;border-left: 1px solid gray;box-sizing: border-box;top: 0;bottom: 0;left: 50%;z-index: -1;}#sk-container-id-3 div.sk-parallel-item {display: flex;flex-direction: column;z-index: 1;position: relative;background-color: white;}#sk-container-id-3 div.sk-parallel-item:first-child::after {align-self: flex-end;width: 50%;}#sk-container-id-3 div.sk-parallel-item:last-child::after {align-self: flex-start;width: 50%;}#sk-container-id-3 div.sk-parallel-item:only-child::after {width: 0;}#sk-container-id-3 div.sk-dashed-wrapped {border: 1px dashed gray;margin: 0 0.4em 0.5em 0.4em;box-sizing: border-box;padding-bottom: 0.4em;background-color: white;}#sk-container-id-3 div.sk-label label {font-family: monospace;font-weight: bold;display: inline-block;line-height: 1.2em;}#sk-container-id-3 div.sk-label-container {text-align: center;}#sk-container-id-3 div.sk-container {/* jupyter's `normalize.less` sets `[hidden] { display: none; }` but bootstrap.min.css set `[hidden] { display: none !important; }` so we also need the `!important` here to be able to override the default hidden behavior on the sphinx rendered scikit-learn.org. See: https://github.com/scikit-learn/scikit-learn/issues/21755 */display: inline-block !important;position: relative;}#sk-container-id-3 div.sk-text-repr-fallback {display: none;}</style><div id=\"sk-container-id-3\" class=\"sk-top-container\"><div class=\"sk-text-repr-fallback\"><pre>GridSearchCV(cv=5, estimator=RandomForestRegressor(random_state=42), n_jobs=-1,\n",
       "             param_grid={&#x27;max_depth&#x27;: [None, 10, 20],\n",
       "                         &#x27;min_samples_leaf&#x27;: [1, 2],\n",
       "                         &#x27;min_samples_split&#x27;: [2, 5],\n",
       "                         &#x27;n_estimators&#x27;: [100, 200]},\n",
       "             scoring=&#x27;neg_mean_squared_error&#x27;, verbose=2)</pre><b>In a Jupyter environment, please rerun this cell to show the HTML representation or trust the notebook. <br />On GitHub, the HTML representation is unable to render, please try loading this page with nbviewer.org.</b></div><div class=\"sk-container\" hidden><div class=\"sk-item sk-dashed-wrapped\"><div class=\"sk-label-container\"><div class=\"sk-label sk-toggleable\"><input class=\"sk-toggleable__control sk-hidden--visually\" id=\"sk-estimator-id-25\" type=\"checkbox\" ><label for=\"sk-estimator-id-25\" class=\"sk-toggleable__label sk-toggleable__label-arrow\">GridSearchCV</label><div class=\"sk-toggleable__content\"><pre>GridSearchCV(cv=5, estimator=RandomForestRegressor(random_state=42), n_jobs=-1,\n",
       "             param_grid={&#x27;max_depth&#x27;: [None, 10, 20],\n",
       "                         &#x27;min_samples_leaf&#x27;: [1, 2],\n",
       "                         &#x27;min_samples_split&#x27;: [2, 5],\n",
       "                         &#x27;n_estimators&#x27;: [100, 200]},\n",
       "             scoring=&#x27;neg_mean_squared_error&#x27;, verbose=2)</pre></div></div></div><div class=\"sk-parallel\"><div class=\"sk-parallel-item\"><div class=\"sk-item\"><div class=\"sk-label-container\"><div class=\"sk-label sk-toggleable\"><input class=\"sk-toggleable__control sk-hidden--visually\" id=\"sk-estimator-id-26\" type=\"checkbox\" ><label for=\"sk-estimator-id-26\" class=\"sk-toggleable__label sk-toggleable__label-arrow\">estimator: RandomForestRegressor</label><div class=\"sk-toggleable__content\"><pre>RandomForestRegressor(random_state=42)</pre></div></div></div><div class=\"sk-serial\"><div class=\"sk-item\"><div class=\"sk-estimator sk-toggleable\"><input class=\"sk-toggleable__control sk-hidden--visually\" id=\"sk-estimator-id-27\" type=\"checkbox\" ><label for=\"sk-estimator-id-27\" class=\"sk-toggleable__label sk-toggleable__label-arrow\">RandomForestRegressor</label><div class=\"sk-toggleable__content\"><pre>RandomForestRegressor(random_state=42)</pre></div></div></div></div></div></div></div></div></div></div>"
      ],
      "text/plain": [
       "GridSearchCV(cv=5, estimator=RandomForestRegressor(random_state=42), n_jobs=-1,\n",
       "             param_grid={'max_depth': [None, 10, 20],\n",
       "                         'min_samples_leaf': [1, 2],\n",
       "                         'min_samples_split': [2, 5],\n",
       "                         'n_estimators': [100, 200]},\n",
       "             scoring='neg_mean_squared_error', verbose=2)"
      ]
     },
     "execution_count": 92,
     "metadata": {},
     "output_type": "execute_result"
    }
   ],
   "source": [
    "rf_grid.fit(X_train, y_log)"
   ]
  },
  {
   "cell_type": "code",
   "execution_count": 93,
   "id": "f40ee55a",
   "metadata": {
    "execution": {
     "iopub.execute_input": "2025-06-30T06:34:05.091414Z",
     "iopub.status.busy": "2025-06-30T06:34:05.091092Z",
     "iopub.status.idle": "2025-06-30T06:34:05.096268Z",
     "shell.execute_reply": "2025-06-30T06:34:05.095152Z"
    },
    "papermill": {
     "duration": 0.040462,
     "end_time": "2025-06-30T06:34:05.098182",
     "exception": false,
     "start_time": "2025-06-30T06:34:05.057720",
     "status": "completed"
    },
    "tags": []
   },
   "outputs": [
    {
     "name": "stdout",
     "output_type": "stream",
     "text": [
      "Best Parameters (Random Forest): {'max_depth': None, 'min_samples_leaf': 1, 'min_samples_split': 5, 'n_estimators': 200}\n",
      "Best CV RMSE: 0.22929534458249812\n"
     ]
    }
   ],
   "source": [
    "print(\"Best Parameters (Random Forest):\", rf_grid.best_params_)\n",
    "print(\"Best CV RMSE:\", np.sqrt(-rf_grid.best_score_))"
   ]
  },
  {
   "cell_type": "markdown",
   "id": "18c1add7",
   "metadata": {
    "papermill": {
     "duration": 0.031969,
     "end_time": "2025-06-30T06:34:05.161769",
     "exception": false,
     "start_time": "2025-06-30T06:34:05.129800",
     "status": "completed"
    },
    "tags": []
   },
   "source": [
    "2. HPT on Decision Tree Regressor"
   ]
  },
  {
   "cell_type": "code",
   "execution_count": 94,
   "id": "f7bc8ba1",
   "metadata": {
    "execution": {
     "iopub.execute_input": "2025-06-30T06:34:05.229357Z",
     "iopub.status.busy": "2025-06-30T06:34:05.229043Z",
     "iopub.status.idle": "2025-06-30T06:34:05.233741Z",
     "shell.execute_reply": "2025-06-30T06:34:05.232979Z"
    },
    "papermill": {
     "duration": 0.039293,
     "end_time": "2025-06-30T06:34:05.235290",
     "exception": false,
     "start_time": "2025-06-30T06:34:05.195997",
     "status": "completed"
    },
    "tags": []
   },
   "outputs": [],
   "source": [
    "dt_param_grid = {\n",
    "    'max_depth': [None, 10, 20, 30],\n",
    "    'min_samples_split': [2, 5, 10],\n",
    "    'min_samples_leaf': [1, 2, 4]\n",
    "}"
   ]
  },
  {
   "cell_type": "code",
   "execution_count": 95,
   "id": "38f7dd58",
   "metadata": {
    "execution": {
     "iopub.execute_input": "2025-06-30T06:34:05.300724Z",
     "iopub.status.busy": "2025-06-30T06:34:05.299761Z",
     "iopub.status.idle": "2025-06-30T06:34:05.304341Z",
     "shell.execute_reply": "2025-06-30T06:34:05.303291Z"
    },
    "papermill": {
     "duration": 0.037908,
     "end_time": "2025-06-30T06:34:05.305880",
     "exception": false,
     "start_time": "2025-06-30T06:34:05.267972",
     "status": "completed"
    },
    "tags": []
   },
   "outputs": [],
   "source": [
    "dt = DecisionTreeRegressor(random_state=42)"
   ]
  },
  {
   "cell_type": "code",
   "execution_count": 96,
   "id": "e38c2bff",
   "metadata": {
    "execution": {
     "iopub.execute_input": "2025-06-30T06:34:05.370062Z",
     "iopub.status.busy": "2025-06-30T06:34:05.369708Z",
     "iopub.status.idle": "2025-06-30T06:34:05.374484Z",
     "shell.execute_reply": "2025-06-30T06:34:05.373641Z"
    },
    "papermill": {
     "duration": 0.038857,
     "end_time": "2025-06-30T06:34:05.376225",
     "exception": false,
     "start_time": "2025-06-30T06:34:05.337368",
     "status": "completed"
    },
    "tags": []
   },
   "outputs": [],
   "source": [
    "dt_grid = GridSearchCV(\n",
    "    estimator=dt,\n",
    "    param_grid=dt_param_grid,\n",
    "    cv=5,\n",
    "    scoring='neg_mean_squared_error',\n",
    "    n_jobs=-1,\n",
    "    verbose=2\n",
    ")"
   ]
  },
  {
   "cell_type": "code",
   "execution_count": 97,
   "id": "a696b316",
   "metadata": {
    "execution": {
     "iopub.execute_input": "2025-06-30T06:34:05.441368Z",
     "iopub.status.busy": "2025-06-30T06:34:05.441038Z",
     "iopub.status.idle": "2025-06-30T06:34:16.332468Z",
     "shell.execute_reply": "2025-06-30T06:34:16.331575Z"
    },
    "papermill": {
     "duration": 10.925513,
     "end_time": "2025-06-30T06:34:16.334024",
     "exception": false,
     "start_time": "2025-06-30T06:34:05.408511",
     "status": "completed"
    },
    "tags": []
   },
   "outputs": [
    {
     "name": "stdout",
     "output_type": "stream",
     "text": [
      "Fitting 5 folds for each of 36 candidates, totalling 180 fits\n"
     ]
    },
    {
     "data": {
      "text/html": [
       "<style>#sk-container-id-4 {color: black;background-color: white;}#sk-container-id-4 pre{padding: 0;}#sk-container-id-4 div.sk-toggleable {background-color: white;}#sk-container-id-4 label.sk-toggleable__label {cursor: pointer;display: block;width: 100%;margin-bottom: 0;padding: 0.3em;box-sizing: border-box;text-align: center;}#sk-container-id-4 label.sk-toggleable__label-arrow:before {content: \"▸\";float: left;margin-right: 0.25em;color: #696969;}#sk-container-id-4 label.sk-toggleable__label-arrow:hover:before {color: black;}#sk-container-id-4 div.sk-estimator:hover label.sk-toggleable__label-arrow:before {color: black;}#sk-container-id-4 div.sk-toggleable__content {max-height: 0;max-width: 0;overflow: hidden;text-align: left;background-color: #f0f8ff;}#sk-container-id-4 div.sk-toggleable__content pre {margin: 0.2em;color: black;border-radius: 0.25em;background-color: #f0f8ff;}#sk-container-id-4 input.sk-toggleable__control:checked~div.sk-toggleable__content {max-height: 200px;max-width: 100%;overflow: auto;}#sk-container-id-4 input.sk-toggleable__control:checked~label.sk-toggleable__label-arrow:before {content: \"▾\";}#sk-container-id-4 div.sk-estimator input.sk-toggleable__control:checked~label.sk-toggleable__label {background-color: #d4ebff;}#sk-container-id-4 div.sk-label input.sk-toggleable__control:checked~label.sk-toggleable__label {background-color: #d4ebff;}#sk-container-id-4 input.sk-hidden--visually {border: 0;clip: rect(1px 1px 1px 1px);clip: rect(1px, 1px, 1px, 1px);height: 1px;margin: -1px;overflow: hidden;padding: 0;position: absolute;width: 1px;}#sk-container-id-4 div.sk-estimator {font-family: monospace;background-color: #f0f8ff;border: 1px dotted black;border-radius: 0.25em;box-sizing: border-box;margin-bottom: 0.5em;}#sk-container-id-4 div.sk-estimator:hover {background-color: #d4ebff;}#sk-container-id-4 div.sk-parallel-item::after {content: \"\";width: 100%;border-bottom: 1px solid gray;flex-grow: 1;}#sk-container-id-4 div.sk-label:hover label.sk-toggleable__label {background-color: #d4ebff;}#sk-container-id-4 div.sk-serial::before {content: \"\";position: absolute;border-left: 1px solid gray;box-sizing: border-box;top: 0;bottom: 0;left: 50%;z-index: 0;}#sk-container-id-4 div.sk-serial {display: flex;flex-direction: column;align-items: center;background-color: white;padding-right: 0.2em;padding-left: 0.2em;position: relative;}#sk-container-id-4 div.sk-item {position: relative;z-index: 1;}#sk-container-id-4 div.sk-parallel {display: flex;align-items: stretch;justify-content: center;background-color: white;position: relative;}#sk-container-id-4 div.sk-item::before, #sk-container-id-4 div.sk-parallel-item::before {content: \"\";position: absolute;border-left: 1px solid gray;box-sizing: border-box;top: 0;bottom: 0;left: 50%;z-index: -1;}#sk-container-id-4 div.sk-parallel-item {display: flex;flex-direction: column;z-index: 1;position: relative;background-color: white;}#sk-container-id-4 div.sk-parallel-item:first-child::after {align-self: flex-end;width: 50%;}#sk-container-id-4 div.sk-parallel-item:last-child::after {align-self: flex-start;width: 50%;}#sk-container-id-4 div.sk-parallel-item:only-child::after {width: 0;}#sk-container-id-4 div.sk-dashed-wrapped {border: 1px dashed gray;margin: 0 0.4em 0.5em 0.4em;box-sizing: border-box;padding-bottom: 0.4em;background-color: white;}#sk-container-id-4 div.sk-label label {font-family: monospace;font-weight: bold;display: inline-block;line-height: 1.2em;}#sk-container-id-4 div.sk-label-container {text-align: center;}#sk-container-id-4 div.sk-container {/* jupyter's `normalize.less` sets `[hidden] { display: none; }` but bootstrap.min.css set `[hidden] { display: none !important; }` so we also need the `!important` here to be able to override the default hidden behavior on the sphinx rendered scikit-learn.org. See: https://github.com/scikit-learn/scikit-learn/issues/21755 */display: inline-block !important;position: relative;}#sk-container-id-4 div.sk-text-repr-fallback {display: none;}</style><div id=\"sk-container-id-4\" class=\"sk-top-container\"><div class=\"sk-text-repr-fallback\"><pre>GridSearchCV(cv=5, estimator=DecisionTreeRegressor(random_state=42), n_jobs=-1,\n",
       "             param_grid={&#x27;max_depth&#x27;: [None, 10, 20, 30],\n",
       "                         &#x27;min_samples_leaf&#x27;: [1, 2, 4],\n",
       "                         &#x27;min_samples_split&#x27;: [2, 5, 10]},\n",
       "             scoring=&#x27;neg_mean_squared_error&#x27;, verbose=2)</pre><b>In a Jupyter environment, please rerun this cell to show the HTML representation or trust the notebook. <br />On GitHub, the HTML representation is unable to render, please try loading this page with nbviewer.org.</b></div><div class=\"sk-container\" hidden><div class=\"sk-item sk-dashed-wrapped\"><div class=\"sk-label-container\"><div class=\"sk-label sk-toggleable\"><input class=\"sk-toggleable__control sk-hidden--visually\" id=\"sk-estimator-id-28\" type=\"checkbox\" ><label for=\"sk-estimator-id-28\" class=\"sk-toggleable__label sk-toggleable__label-arrow\">GridSearchCV</label><div class=\"sk-toggleable__content\"><pre>GridSearchCV(cv=5, estimator=DecisionTreeRegressor(random_state=42), n_jobs=-1,\n",
       "             param_grid={&#x27;max_depth&#x27;: [None, 10, 20, 30],\n",
       "                         &#x27;min_samples_leaf&#x27;: [1, 2, 4],\n",
       "                         &#x27;min_samples_split&#x27;: [2, 5, 10]},\n",
       "             scoring=&#x27;neg_mean_squared_error&#x27;, verbose=2)</pre></div></div></div><div class=\"sk-parallel\"><div class=\"sk-parallel-item\"><div class=\"sk-item\"><div class=\"sk-label-container\"><div class=\"sk-label sk-toggleable\"><input class=\"sk-toggleable__control sk-hidden--visually\" id=\"sk-estimator-id-29\" type=\"checkbox\" ><label for=\"sk-estimator-id-29\" class=\"sk-toggleable__label sk-toggleable__label-arrow\">estimator: DecisionTreeRegressor</label><div class=\"sk-toggleable__content\"><pre>DecisionTreeRegressor(random_state=42)</pre></div></div></div><div class=\"sk-serial\"><div class=\"sk-item\"><div class=\"sk-estimator sk-toggleable\"><input class=\"sk-toggleable__control sk-hidden--visually\" id=\"sk-estimator-id-30\" type=\"checkbox\" ><label for=\"sk-estimator-id-30\" class=\"sk-toggleable__label sk-toggleable__label-arrow\">DecisionTreeRegressor</label><div class=\"sk-toggleable__content\"><pre>DecisionTreeRegressor(random_state=42)</pre></div></div></div></div></div></div></div></div></div></div>"
      ],
      "text/plain": [
       "GridSearchCV(cv=5, estimator=DecisionTreeRegressor(random_state=42), n_jobs=-1,\n",
       "             param_grid={'max_depth': [None, 10, 20, 30],\n",
       "                         'min_samples_leaf': [1, 2, 4],\n",
       "                         'min_samples_split': [2, 5, 10]},\n",
       "             scoring='neg_mean_squared_error', verbose=2)"
      ]
     },
     "execution_count": 97,
     "metadata": {},
     "output_type": "execute_result"
    }
   ],
   "source": [
    "dt_grid.fit(X_train, y_log)"
   ]
  },
  {
   "cell_type": "code",
   "execution_count": 98,
   "id": "d45028cd",
   "metadata": {
    "execution": {
     "iopub.execute_input": "2025-06-30T06:34:16.400111Z",
     "iopub.status.busy": "2025-06-30T06:34:16.399753Z",
     "iopub.status.idle": "2025-06-30T06:34:16.404664Z",
     "shell.execute_reply": "2025-06-30T06:34:16.403816Z"
    },
    "papermill": {
     "duration": 0.039348,
     "end_time": "2025-06-30T06:34:16.405957",
     "exception": false,
     "start_time": "2025-06-30T06:34:16.366609",
     "status": "completed"
    },
    "tags": []
   },
   "outputs": [
    {
     "name": "stdout",
     "output_type": "stream",
     "text": [
      "Best Parameters (Decision Tree): {'max_depth': 20, 'min_samples_leaf': 4, 'min_samples_split': 10}\n",
      "Best CV RMSE: 0.2610463836113374\n"
     ]
    }
   ],
   "source": [
    "print(\"Best Parameters (Decision Tree):\", dt_grid.best_params_)\n",
    "print(\"Best CV RMSE:\", np.sqrt(-dt_grid.best_score_))"
   ]
  },
  {
   "cell_type": "markdown",
   "id": "aa5715b3",
   "metadata": {
    "papermill": {
     "duration": 0.031886,
     "end_time": "2025-06-30T06:34:16.469137",
     "exception": false,
     "start_time": "2025-06-30T06:34:16.437251",
     "status": "completed"
    },
    "tags": []
   },
   "source": [
    "3. HPT on Gradient Boosting Regressor"
   ]
  },
  {
   "cell_type": "code",
   "execution_count": 99,
   "id": "eee5a16a",
   "metadata": {
    "execution": {
     "iopub.execute_input": "2025-06-30T06:34:16.534089Z",
     "iopub.status.busy": "2025-06-30T06:34:16.533665Z",
     "iopub.status.idle": "2025-06-30T06:34:16.538912Z",
     "shell.execute_reply": "2025-06-30T06:34:16.537889Z"
    },
    "papermill": {
     "duration": 0.039097,
     "end_time": "2025-06-30T06:34:16.540500",
     "exception": false,
     "start_time": "2025-06-30T06:34:16.501403",
     "status": "completed"
    },
    "tags": []
   },
   "outputs": [],
   "source": [
    "gb_param_grid = {\n",
    "    'n_estimators': [100, 200],\n",
    "    'learning_rate': [0.1, 0.05],\n",
    "    'max_depth': [3, 5],\n",
    "    'min_samples_split': [2, 5],\n",
    "    'min_samples_leaf': [1, 2]\n",
    "}"
   ]
  },
  {
   "cell_type": "code",
   "execution_count": 100,
   "id": "4879f22b",
   "metadata": {
    "execution": {
     "iopub.execute_input": "2025-06-30T06:34:16.606320Z",
     "iopub.status.busy": "2025-06-30T06:34:16.606026Z",
     "iopub.status.idle": "2025-06-30T06:34:16.610180Z",
     "shell.execute_reply": "2025-06-30T06:34:16.609328Z"
    },
    "papermill": {
     "duration": 0.037642,
     "end_time": "2025-06-30T06:34:16.611593",
     "exception": false,
     "start_time": "2025-06-30T06:34:16.573951",
     "status": "completed"
    },
    "tags": []
   },
   "outputs": [],
   "source": [
    "gb = GradientBoostingRegressor(random_state=42)"
   ]
  },
  {
   "cell_type": "code",
   "execution_count": 101,
   "id": "862ce05b",
   "metadata": {
    "execution": {
     "iopub.execute_input": "2025-06-30T06:34:16.677445Z",
     "iopub.status.busy": "2025-06-30T06:34:16.677132Z",
     "iopub.status.idle": "2025-06-30T06:34:16.681389Z",
     "shell.execute_reply": "2025-06-30T06:34:16.680643Z"
    },
    "papermill": {
     "duration": 0.038649,
     "end_time": "2025-06-30T06:34:16.682758",
     "exception": false,
     "start_time": "2025-06-30T06:34:16.644109",
     "status": "completed"
    },
    "tags": []
   },
   "outputs": [],
   "source": [
    "gb_grid = GridSearchCV(\n",
    "    estimator=gb,\n",
    "    param_grid=gb_param_grid,\n",
    "    cv=5,\n",
    "    scoring='neg_mean_squared_error',\n",
    "    n_jobs=-1,\n",
    "    verbose=2\n",
    ")"
   ]
  },
  {
   "cell_type": "code",
   "execution_count": 102,
   "id": "eb7a5f08",
   "metadata": {
    "execution": {
     "iopub.execute_input": "2025-06-30T06:34:16.747005Z",
     "iopub.status.busy": "2025-06-30T06:34:16.746635Z",
     "iopub.status.idle": "2025-06-30T06:42:11.808110Z",
     "shell.execute_reply": "2025-06-30T06:42:11.807134Z"
    },
    "papermill": {
     "duration": 475.129662,
     "end_time": "2025-06-30T06:42:11.844101",
     "exception": false,
     "start_time": "2025-06-30T06:34:16.714439",
     "status": "completed"
    },
    "tags": []
   },
   "outputs": [
    {
     "name": "stdout",
     "output_type": "stream",
     "text": [
      "Fitting 5 folds for each of 32 candidates, totalling 160 fits\n",
      "[CV] END max_depth=None, min_samples_leaf=1, min_samples_split=2, n_estimators=100; total time=  19.8s\n",
      "[CV] END max_depth=None, min_samples_leaf=1, min_samples_split=2, n_estimators=200; total time=  40.7s\n",
      "[CV] END max_depth=None, min_samples_leaf=1, min_samples_split=5, n_estimators=100; total time=  17.5s\n",
      "[CV] END max_depth=None, min_samples_leaf=1, min_samples_split=5, n_estimators=100; total time=  18.3s\n",
      "[CV] END max_depth=None, min_samples_leaf=1, min_samples_split=5, n_estimators=200; total time=  36.1s\n",
      "[CV] END max_depth=None, min_samples_leaf=1, min_samples_split=5, n_estimators=200; total time=  36.1s\n",
      "[CV] END max_depth=None, min_samples_leaf=2, min_samples_split=2, n_estimators=200; total time=  34.9s\n",
      "[CV] END max_depth=None, min_samples_leaf=2, min_samples_split=5, n_estimators=100; total time=  16.9s\n",
      "[CV] END max_depth=None, min_samples_leaf=2, min_samples_split=5, n_estimators=100; total time=  17.7s\n",
      "[CV] END max_depth=None, min_samples_leaf=2, min_samples_split=5, n_estimators=200; total time=  33.8s\n",
      "[CV] END max_depth=10, min_samples_leaf=1, min_samples_split=2, n_estimators=100; total time=   9.2s\n",
      "[CV] END max_depth=10, min_samples_leaf=1, min_samples_split=2, n_estimators=200; total time=  19.2s\n",
      "[CV] END max_depth=10, min_samples_leaf=1, min_samples_split=2, n_estimators=200; total time=  18.8s\n",
      "[CV] END max_depth=10, min_samples_leaf=1, min_samples_split=5, n_estimators=200; total time=  19.4s\n",
      "[CV] END max_depth=10, min_samples_leaf=1, min_samples_split=5, n_estimators=200; total time=  19.6s\n",
      "[CV] END max_depth=10, min_samples_leaf=2, min_samples_split=2, n_estimators=200; total time=  18.9s\n",
      "[CV] END max_depth=10, min_samples_leaf=2, min_samples_split=5, n_estimators=100; total time=   9.5s\n",
      "[CV] END max_depth=10, min_samples_leaf=2, min_samples_split=5, n_estimators=100; total time=  10.3s\n",
      "[CV] END max_depth=10, min_samples_leaf=2, min_samples_split=5, n_estimators=200; total time=  18.8s\n",
      "[CV] END max_depth=20, min_samples_leaf=1, min_samples_split=2, n_estimators=100; total time=  17.7s\n",
      "[CV] END max_depth=20, min_samples_leaf=1, min_samples_split=2, n_estimators=200; total time=  35.2s\n",
      "[CV] END max_depth=20, min_samples_leaf=1, min_samples_split=5, n_estimators=100; total time=  15.8s\n",
      "[CV] END max_depth=20, min_samples_leaf=1, min_samples_split=5, n_estimators=100; total time=  15.9s\n",
      "[CV] END max_depth=20, min_samples_leaf=1, min_samples_split=5, n_estimators=200; total time=  31.8s\n",
      "[CV] END max_depth=20, min_samples_leaf=2, min_samples_split=2, n_estimators=100; total time=  15.5s\n",
      "[CV] END max_depth=20, min_samples_leaf=2, min_samples_split=2, n_estimators=100; total time=  16.7s\n",
      "[CV] END max_depth=20, min_samples_leaf=2, min_samples_split=2, n_estimators=200; total time=  31.9s\n",
      "[CV] END max_depth=20, min_samples_leaf=2, min_samples_split=5, n_estimators=100; total time=  15.3s\n",
      "[CV] END max_depth=20, min_samples_leaf=2, min_samples_split=5, n_estimators=200; total time=  31.5s\n",
      "[CV] END max_depth=20, min_samples_leaf=2, min_samples_split=5, n_estimators=200; total time=  24.1s\n",
      "[CV] END max_depth=None, min_samples_leaf=1, min_samples_split=2; total time=   0.3s\n",
      "[CV] END max_depth=None, min_samples_leaf=1, min_samples_split=5; total time=   0.3s\n",
      "[CV] END max_depth=None, min_samples_leaf=1, min_samples_split=5; total time=   0.3s\n",
      "[CV] END max_depth=None, min_samples_leaf=2, min_samples_split=2; total time=   0.3s\n",
      "[CV] END max_depth=None, min_samples_leaf=2, min_samples_split=2; total time=   0.3s\n",
      "[CV] END max_depth=None, min_samples_leaf=2, min_samples_split=5; total time=   0.3s\n",
      "[CV] END max_depth=None, min_samples_leaf=2, min_samples_split=10; total time=   0.3s\n",
      "[CV] END max_depth=None, min_samples_leaf=4, min_samples_split=2; total time=   0.2s\n",
      "[CV] END max_depth=None, min_samples_leaf=4, min_samples_split=5; total time=   0.2s\n",
      "[CV] END max_depth=None, min_samples_leaf=4, min_samples_split=5; total time=   0.2s\n",
      "[CV] END max_depth=None, min_samples_leaf=4, min_samples_split=10; total time=   0.2s\n",
      "[CV] END max_depth=10, min_samples_leaf=1, min_samples_split=2; total time=   0.1s\n",
      "[CV] END max_depth=10, min_samples_leaf=1, min_samples_split=2; total time=   0.2s\n",
      "[CV] END max_depth=10, min_samples_leaf=1, min_samples_split=5; total time=   0.2s\n",
      "[CV] END max_depth=10, min_samples_leaf=1, min_samples_split=10; total time=   0.1s\n",
      "[CV] END max_depth=10, min_samples_leaf=2, min_samples_split=2; total time=   0.1s\n",
      "[CV] END max_depth=10, min_samples_leaf=2, min_samples_split=5; total time=   0.2s\n",
      "[CV] END max_depth=10, min_samples_leaf=2, min_samples_split=5; total time=   0.2s\n",
      "[CV] END max_depth=10, min_samples_leaf=2, min_samples_split=10; total time=   0.1s\n",
      "[CV] END max_depth=10, min_samples_leaf=4, min_samples_split=2; total time=   0.2s\n",
      "[CV] END max_depth=10, min_samples_leaf=4, min_samples_split=5; total time=   0.1s\n",
      "[CV] END max_depth=10, min_samples_leaf=4, min_samples_split=10; total time=   0.2s\n",
      "[CV] END max_depth=10, min_samples_leaf=4, min_samples_split=10; total time=   0.2s\n",
      "[CV] END max_depth=20, min_samples_leaf=1, min_samples_split=2; total time=   0.3s\n",
      "[CV] END max_depth=20, min_samples_leaf=1, min_samples_split=5; total time=   0.2s\n",
      "[CV] END max_depth=20, min_samples_leaf=1, min_samples_split=10; total time=   0.2s\n",
      "[CV] END max_depth=20, min_samples_leaf=2, min_samples_split=2; total time=   0.2s\n",
      "[CV] END max_depth=20, min_samples_leaf=2, min_samples_split=2; total time=   0.2s\n",
      "[CV] END max_depth=20, min_samples_leaf=2, min_samples_split=5; total time=   0.2s\n",
      "[CV] END max_depth=20, min_samples_leaf=2, min_samples_split=10; total time=   0.2s\n",
      "[CV] END max_depth=20, min_samples_leaf=4, min_samples_split=2; total time=   0.2s\n",
      "[CV] END max_depth=20, min_samples_leaf=4, min_samples_split=5; total time=   0.2s\n",
      "[CV] END max_depth=20, min_samples_leaf=4, min_samples_split=10; total time=   0.2s\n",
      "[CV] END max_depth=20, min_samples_leaf=4, min_samples_split=10; total time=   0.2s\n",
      "[CV] END max_depth=30, min_samples_leaf=1, min_samples_split=2; total time=   0.3s\n",
      "[CV] END max_depth=30, min_samples_leaf=1, min_samples_split=5; total time=   0.3s\n",
      "[CV] END max_depth=30, min_samples_leaf=1, min_samples_split=10; total time=   0.3s\n",
      "[CV] END max_depth=30, min_samples_leaf=2, min_samples_split=2; total time=   0.3s\n",
      "[CV] END max_depth=30, min_samples_leaf=2, min_samples_split=2; total time=   0.3s\n",
      "[CV] END max_depth=30, min_samples_leaf=2, min_samples_split=5; total time=   0.3s\n",
      "[CV] END max_depth=30, min_samples_leaf=2, min_samples_split=10; total time=   0.2s\n",
      "[CV] END max_depth=30, min_samples_leaf=4, min_samples_split=2; total time=   0.2s\n",
      "[CV] END max_depth=30, min_samples_leaf=4, min_samples_split=5; total time=   0.2s\n",
      "[CV] END max_depth=30, min_samples_leaf=4, min_samples_split=5; total time=   0.2s\n",
      "[CV] END max_depth=30, min_samples_leaf=4, min_samples_split=10; total time=   0.2s\n",
      "[CV] END learning_rate=0.1, max_depth=3, min_samples_leaf=1, min_samples_split=2, n_estimators=100; total time=   6.3s\n",
      "[CV] END learning_rate=0.1, max_depth=3, min_samples_leaf=1, min_samples_split=2, n_estimators=200; total time=  12.9s\n",
      "[CV] END learning_rate=0.1, max_depth=3, min_samples_leaf=1, min_samples_split=5, n_estimators=100; total time=   5.9s\n",
      "[CV] END learning_rate=0.1, max_depth=3, min_samples_leaf=1, min_samples_split=5, n_estimators=100; total time=   6.1s\n",
      "[CV] END learning_rate=0.1, max_depth=3, min_samples_leaf=1, min_samples_split=5, n_estimators=200; total time=  12.3s\n",
      "[CV] END learning_rate=0.1, max_depth=3, min_samples_leaf=2, min_samples_split=2, n_estimators=100; total time=   6.3s\n",
      "[CV] END learning_rate=0.1, max_depth=3, min_samples_leaf=2, min_samples_split=2, n_estimators=100; total time=   5.8s\n",
      "[CV] END learning_rate=0.1, max_depth=3, min_samples_leaf=2, min_samples_split=2, n_estimators=200; total time=  11.8s\n",
      "[CV] END learning_rate=0.1, max_depth=3, min_samples_leaf=2, min_samples_split=5, n_estimators=100; total time=   6.1s\n",
      "[CV] END learning_rate=0.1, max_depth=3, min_samples_leaf=2, min_samples_split=5, n_estimators=100; total time=   6.7s\n",
      "[CV] END learning_rate=0.1, max_depth=3, min_samples_leaf=2, min_samples_split=5, n_estimators=200; total time=  11.8s\n",
      "[CV] END learning_rate=0.1, max_depth=5, min_samples_leaf=1, min_samples_split=2, n_estimators=100; total time=   9.0s[CV] END max_depth=None, min_samples_leaf=1, min_samples_split=2, n_estimators=100; total time=  19.9s\n",
      "[CV] END max_depth=None, min_samples_leaf=1, min_samples_split=2, n_estimators=200; total time=  40.4s\n",
      "[CV] END max_depth=None, min_samples_leaf=1, min_samples_split=2, n_estimators=200; total time=  40.2s\n",
      "[CV] END max_depth=None, min_samples_leaf=1, min_samples_split=5, n_estimators=200; total time=  35.8s\n",
      "[CV] END max_depth=None, min_samples_leaf=2, min_samples_split=2, n_estimators=100; total time=  17.5s\n",
      "[CV] END max_depth=None, min_samples_leaf=2, min_samples_split=2, n_estimators=200; total time=  35.5s\n",
      "[CV] END max_depth=None, min_samples_leaf=2, min_samples_split=2, n_estimators=200; total time=  35.6s\n",
      "[CV] END max_depth=None, min_samples_leaf=2, min_samples_split=5, n_estimators=200; total time=  34.6s\n",
      "[CV] END max_depth=10, min_samples_leaf=1, min_samples_split=2, n_estimators=100; total time=   9.3s\n",
      "[CV] END max_depth=10, min_samples_leaf=1, min_samples_split=2, n_estimators=100; total time=   9.3s\n",
      "[CV] END max_depth=10, min_samples_leaf=1, min_samples_split=2, n_estimators=100; total time=   9.3s\n",
      "[CV] END max_depth=10, min_samples_leaf=1, min_samples_split=2, n_estimators=200; total time=  19.5s\n",
      "[CV] END max_depth=10, min_samples_leaf=1, min_samples_split=5, n_estimators=100; total time=   9.5s\n",
      "[CV] END max_depth=10, min_samples_leaf=1, min_samples_split=5, n_estimators=100; total time=  10.5s\n",
      "[CV] END max_depth=10, min_samples_leaf=1, min_samples_split=5, n_estimators=200; total time=  18.8s\n",
      "[CV] END max_depth=10, min_samples_leaf=2, min_samples_split=2, n_estimators=100; total time=   9.9s\n",
      "[CV] END max_depth=10, min_samples_leaf=2, min_samples_split=2, n_estimators=200; total time=  18.7s\n",
      "[CV] END max_depth=10, min_samples_leaf=2, min_samples_split=2, n_estimators=200; total time=  19.0s\n",
      "[CV] END max_depth=10, min_samples_leaf=2, min_samples_split=5, n_estimators=200; total time=  18.9s\n",
      "[CV] END max_depth=20, min_samples_leaf=1, min_samples_split=2, n_estimators=100; total time=  17.0s\n",
      "[CV] END max_depth=20, min_samples_leaf=1, min_samples_split=2, n_estimators=100; total time=  16.4s\n",
      "[CV] END max_depth=20, min_samples_leaf=1, min_samples_split=2, n_estimators=200; total time=  35.1s\n",
      "[CV] END max_depth=20, min_samples_leaf=1, min_samples_split=5, n_estimators=100; total time=  16.4s\n",
      "[CV] END max_depth=20, min_samples_leaf=1, min_samples_split=5, n_estimators=100; total time=  15.6s\n",
      "[CV] END max_depth=20, min_samples_leaf=1, min_samples_split=5, n_estimators=200; total time=  32.0s\n",
      "[CV] END max_depth=20, min_samples_leaf=2, min_samples_split=2, n_estimators=100; total time=  16.5s\n",
      "[CV] END max_depth=20, min_samples_leaf=2, min_samples_split=2, n_estimators=200; total time=  32.2s\n",
      "[CV] END max_depth=20, min_samples_leaf=2, min_samples_split=5, n_estimators=100; total time=  15.2s\n",
      "[CV] END max_depth=20, min_samples_leaf=2, min_samples_split=5, n_estimators=100; total time=  16.1s\n",
      "[CV] END max_depth=20, min_samples_leaf=2, min_samples_split=5, n_estimators=200; total time=  30.9s\n",
      "[CV] END max_depth=None, min_samples_leaf=1, min_samples_split=2; total time=   0.3s\n",
      "[CV] END max_depth=None, min_samples_leaf=1, min_samples_split=5; total time=   0.3s\n",
      "[CV] END max_depth=None, min_samples_leaf=1, min_samples_split=5; total time=   0.3s\n",
      "[CV] END max_depth=None, min_samples_leaf=1, min_samples_split=10; total time=   0.3s\n",
      "[CV] END max_depth=None, min_samples_leaf=2, min_samples_split=2; total time=   0.3s\n",
      "[CV] END max_depth=None, min_samples_leaf=2, min_samples_split=5; total time=   0.3s\n",
      "[CV] END max_depth=None, min_samples_leaf=2, min_samples_split=5; total time=   0.3s\n",
      "[CV] END max_depth=None, min_samples_leaf=2, min_samples_split=10; total time=   0.3s\n",
      "[CV] END max_depth=None, min_samples_leaf=4, min_samples_split=2; total time=   0.2s\n",
      "[CV] END max_depth=None, min_samples_leaf=4, min_samples_split=5; total time=   0.2s\n",
      "[CV] END max_depth=None, min_samples_leaf=4, min_samples_split=10; total time=   0.2s\n",
      "[CV] END max_depth=10, min_samples_leaf=1, min_samples_split=2; total time=   0.1s\n",
      "[CV] END max_depth=10, min_samples_leaf=1, min_samples_split=2; total time=   0.2s\n",
      "[CV] END max_depth=10, min_samples_leaf=1, min_samples_split=5; total time=   0.2s\n",
      "[CV] END max_depth=10, min_samples_leaf=1, min_samples_split=10; total time=   0.1s\n",
      "[CV] END max_depth=10, min_samples_leaf=2, min_samples_split=2; total time=   0.2s\n",
      "[CV] END max_depth=10, min_samples_leaf=2, min_samples_split=2; total time=   0.2s\n",
      "[CV] END max_depth=10, min_samples_leaf=2, min_samples_split=5; total time=   0.2s\n",
      "[CV] END max_depth=10, min_samples_leaf=2, min_samples_split=10; total time=   0.1s\n",
      "[CV] END max_depth=10, min_samples_leaf=4, min_samples_split=2; total time=   0.1s\n",
      "[CV] END max_depth=10, min_samples_leaf=4, min_samples_split=5; total time=   0.1s\n",
      "[CV] END max_depth=10, min_samples_leaf=4, min_samples_split=5; total time=   0.1s\n",
      "[CV] END max_depth=10, min_samples_leaf=4, min_samples_split=10; total time=   0.1s\n",
      "[CV] END max_depth=20, min_samples_leaf=1, min_samples_split=2; total time=   0.3s\n",
      "[CV] END max_depth=20, min_samples_leaf=1, min_samples_split=5; total time=   0.2s\n",
      "[CV] END max_depth=20, min_samples_leaf=1, min_samples_split=10; total time=   0.2s\n",
      "[CV] END max_depth=20, min_samples_leaf=1, min_samples_split=10; total time=   0.2s\n",
      "[CV] END max_depth=20, min_samples_leaf=2, min_samples_split=2; total time=   0.2s\n",
      "[CV] END max_depth=20, min_samples_leaf=2, min_samples_split=5; total time=   0.2s\n",
      "[CV] END max_depth=20, min_samples_leaf=2, min_samples_split=10; total time=   0.2s\n",
      "[CV] END max_depth=20, min_samples_leaf=4, min_samples_split=2; total time=   0.2s\n",
      "[CV] END max_depth=20, min_samples_leaf=4, min_samples_split=2; total time=   0.2s\n",
      "[CV] END max_depth=20, min_samples_leaf=4, min_samples_split=5; total time=   0.2s\n",
      "[CV] END max_depth=20, min_samples_leaf=4, min_samples_split=10; total time=   0.2s\n",
      "[CV] END max_depth=30, min_samples_leaf=1, min_samples_split=2; total time=   0.3s\n",
      "[CV] END max_depth=30, min_samples_leaf=1, min_samples_split=5; total time=   0.3s\n",
      "[CV] END max_depth=30, min_samples_leaf=1, min_samples_split=5; total time=   0.3s\n",
      "[CV] END max_depth=30, min_samples_leaf=1, min_samples_split=10; total time=   0.2s\n",
      "[CV] END max_depth=30, min_samples_leaf=2, min_samples_split=2; total time=   0.3s\n",
      "[CV] END max_depth=30, min_samples_leaf=2, min_samples_split=5; total time=   0.3s\n",
      "[CV] END max_depth=30, min_samples_leaf=2, min_samples_split=10; total time=   0.2s\n",
      "[CV] END max_depth=30, min_samples_leaf=2, min_samples_split=10; total time=   0.2s\n",
      "[CV] END max_depth=30, min_samples_leaf=4, min_samples_split=2; total time=   0.2s\n",
      "[CV] END max_depth=30, min_samples_leaf=4, min_samples_split=5; total time=   0.2s\n",
      "[CV] END max_depth=30, min_samples_leaf=4, min_samples_split=10; total time=   0.2s\n",
      "[CV] END max_depth=30, min_samples_leaf=4, min_samples_split=10; total time=   0.2s\n",
      "[CV] END learning_rate=0.1, max_depth=3, min_samples_leaf=1, min_samples_split=2, n_estimators=100; total time=   6.2s\n",
      "[CV] END learning_rate=0.1, max_depth=3, min_samples_leaf=1, min_samples_split=2, n_estimators=200; total time=  13.0s\n",
      "[CV] END learning_rate=0.1, max_depth=3, min_samples_leaf=1, min_samples_split=5, n_estimators=100; total time=   5.9s\n",
      "[CV] END learning_rate=0.1, max_depth=3, min_samples_leaf=1, min_samples_split=5, n_estimators=100; total time=   6.0s\n",
      "[CV] END learning_rate=0.1, max_depth=3, min_samples_leaf=1, min_samples_split=5, n_estimators=200; total time=  12.9s\n",
      "[CV] END learning_rate=0.1, max_depth=3, min_samples_leaf=2, min_samples_split=2, n_estimators=100; total time=   6.3s\n",
      "[CV] END learning_rate=0.1, max_depth=3, min_samples_leaf=2, min_samples_split=2, n_estimators=200; total time=  11.8s\n",
      "[CV] END learning_rate=0.1, max_depth=3, min_samples_leaf=2, min_samples_split=2, n_estimators=200; total time=  12.0s\n",
      "[CV] END learning_rate=0.1, max_depth=3, min_samples_leaf=2, min_samples_split=5, n_estimators=200; total time=  13.0s\n",
      "[CV] END learning_rate=0.1, max_depth=5, min_samples_leaf=1, min_samples_split=2, n_estimators=100; total time=   9.1s\n",
      "[CV] END learning_rate=0.1, max_depth=5, min_samples_leaf=1, min_samples_split=2, n_estimators=100; total time=   9.1s[CV] END max_depth=None, min_samples_leaf=1, min_samples_split=2, n_estimators=100; total time=  19.9s\n",
      "[CV] END max_depth=None, min_samples_leaf=1, min_samples_split=2, n_estimators=200; total time=  41.0s\n",
      "[CV] END max_depth=None, min_samples_leaf=1, min_samples_split=5, n_estimators=100; total time=  17.5s\n",
      "[CV] END max_depth=None, min_samples_leaf=1, min_samples_split=5, n_estimators=100; total time=  18.3s\n",
      "[CV] END max_depth=None, min_samples_leaf=1, min_samples_split=5, n_estimators=200; total time=  36.3s\n",
      "[CV] END max_depth=None, min_samples_leaf=2, min_samples_split=2, n_estimators=100; total time=  17.4s\n",
      "[CV] END max_depth=None, min_samples_leaf=2, min_samples_split=2, n_estimators=100; total time=  17.6s\n",
      "[CV] END max_depth=None, min_samples_leaf=2, min_samples_split=2, n_estimators=200; total time=  35.1s\n",
      "[CV] END max_depth=None, min_samples_leaf=2, min_samples_split=5, n_estimators=100; total time=  16.8s\n",
      "[CV] END max_depth=None, min_samples_leaf=2, min_samples_split=5, n_estimators=100; total time=  17.4s\n",
      "[CV] END max_depth=None, min_samples_leaf=2, min_samples_split=5, n_estimators=200; total time=  34.4s\n",
      "[CV] END max_depth=10, min_samples_leaf=1, min_samples_split=2, n_estimators=100; total time=   9.4s\n",
      "[CV] END max_depth=10, min_samples_leaf=1, min_samples_split=2, n_estimators=200; total time=  19.5s\n",
      "[CV] END max_depth=10, min_samples_leaf=1, min_samples_split=5, n_estimators=100; total time=   9.4s\n",
      "[CV] END max_depth=10, min_samples_leaf=1, min_samples_split=5, n_estimators=100; total time=   9.3s\n",
      "[CV] END max_depth=10, min_samples_leaf=1, min_samples_split=5, n_estimators=200; total time=  19.2s\n",
      "[CV] END max_depth=10, min_samples_leaf=2, min_samples_split=2, n_estimators=100; total time=   9.4s\n",
      "[CV] END max_depth=10, min_samples_leaf=2, min_samples_split=2, n_estimators=100; total time=   9.7s\n",
      "[CV] END max_depth=10, min_samples_leaf=2, min_samples_split=2, n_estimators=200; total time=  18.2s\n",
      "[CV] END max_depth=10, min_samples_leaf=2, min_samples_split=5, n_estimators=100; total time=   9.2s\n",
      "[CV] END max_depth=10, min_samples_leaf=2, min_samples_split=5, n_estimators=100; total time=   9.9s\n",
      "[CV] END max_depth=10, min_samples_leaf=2, min_samples_split=5, n_estimators=200; total time=  18.4s\n",
      "[CV] END max_depth=20, min_samples_leaf=1, min_samples_split=2, n_estimators=100; total time=  17.1s\n",
      "[CV] END max_depth=20, min_samples_leaf=1, min_samples_split=2, n_estimators=200; total time=  34.3s\n",
      "[CV] END max_depth=20, min_samples_leaf=1, min_samples_split=2, n_estimators=200; total time=  33.3s\n",
      "[CV] END max_depth=20, min_samples_leaf=1, min_samples_split=5, n_estimators=200; total time=  30.9s\n",
      "[CV] END max_depth=20, min_samples_leaf=1, min_samples_split=5, n_estimators=200; total time=  30.9s\n",
      "[CV] END max_depth=20, min_samples_leaf=2, min_samples_split=2, n_estimators=200; total time=  31.3s\n",
      "[CV] END max_depth=20, min_samples_leaf=2, min_samples_split=2, n_estimators=200; total time=  30.6s\n",
      "[CV] END max_depth=20, min_samples_leaf=2, min_samples_split=5, n_estimators=200; total time=  30.5s\n",
      "[CV] END max_depth=None, min_samples_leaf=1, min_samples_split=2; total time=   0.3s\n",
      "[CV] END max_depth=None, min_samples_leaf=1, min_samples_split=2; total time=   0.4s\n",
      "[CV] END max_depth=None, min_samples_leaf=1, min_samples_split=10; total time=   0.3s\n",
      "[CV] END max_depth=None, min_samples_leaf=1, min_samples_split=10; total time=   0.3s\n",
      "[CV] END max_depth=None, min_samples_leaf=2, min_samples_split=2; total time=   0.3s\n",
      "[CV] END max_depth=None, min_samples_leaf=2, min_samples_split=5; total time=   0.3s\n",
      "[CV] END max_depth=None, min_samples_leaf=2, min_samples_split=10; total time=   0.3s\n",
      "[CV] END max_depth=None, min_samples_leaf=2, min_samples_split=10; total time=   0.2s\n",
      "[CV] END max_depth=None, min_samples_leaf=4, min_samples_split=2; total time=   0.2s\n",
      "[CV] END max_depth=None, min_samples_leaf=4, min_samples_split=5; total time=   0.2s\n",
      "[CV] END max_depth=None, min_samples_leaf=4, min_samples_split=10; total time=   0.2s\n",
      "[CV] END max_depth=None, min_samples_leaf=4, min_samples_split=10; total time=   0.2s\n",
      "[CV] END max_depth=10, min_samples_leaf=1, min_samples_split=5; total time=   0.2s\n",
      "[CV] END max_depth=10, min_samples_leaf=1, min_samples_split=10; total time=   0.1s\n",
      "[CV] END max_depth=10, min_samples_leaf=1, min_samples_split=10; total time=   0.1s\n",
      "[CV] END max_depth=10, min_samples_leaf=2, min_samples_split=2; total time=   0.1s\n",
      "[CV] END max_depth=10, min_samples_leaf=2, min_samples_split=5; total time=   0.2s\n",
      "[CV] END max_depth=10, min_samples_leaf=2, min_samples_split=10; total time=   0.1s\n",
      "[CV] END max_depth=10, min_samples_leaf=2, min_samples_split=10; total time=   0.1s\n",
      "[CV] END max_depth=10, min_samples_leaf=4, min_samples_split=2; total time=   0.1s\n",
      "[CV] END max_depth=10, min_samples_leaf=4, min_samples_split=5; total time=   0.1s\n",
      "[CV] END max_depth=10, min_samples_leaf=4, min_samples_split=10; total time=   0.1s\n",
      "[CV] END max_depth=20, min_samples_leaf=1, min_samples_split=2; total time=   0.2s\n",
      "[CV] END max_depth=20, min_samples_leaf=1, min_samples_split=2; total time=   0.3s\n",
      "[CV] END max_depth=20, min_samples_leaf=1, min_samples_split=5; total time=   0.2s\n",
      "[CV] END max_depth=20, min_samples_leaf=1, min_samples_split=10; total time=   0.2s\n",
      "[CV] END max_depth=20, min_samples_leaf=2, min_samples_split=2; total time=   0.2s\n",
      "[CV] END max_depth=20, min_samples_leaf=2, min_samples_split=5; total time=   0.2s\n",
      "[CV] END max_depth=20, min_samples_leaf=2, min_samples_split=5; total time=   0.2s\n",
      "[CV] END max_depth=20, min_samples_leaf=2, min_samples_split=10; total time=   0.2s\n",
      "[CV] END max_depth=20, min_samples_leaf=4, min_samples_split=2; total time=   0.2s\n",
      "[CV] END max_depth=20, min_samples_leaf=4, min_samples_split=5; total time=   0.2s\n",
      "[CV] END max_depth=20, min_samples_leaf=4, min_samples_split=5; total time=   0.2s\n",
      "[CV] END max_depth=20, min_samples_leaf=4, min_samples_split=10; total time=   0.2s\n",
      "[CV] END max_depth=30, min_samples_leaf=1, min_samples_split=2; total time=   0.3s\n",
      "[CV] END max_depth=30, min_samples_leaf=1, min_samples_split=5; total time=   0.3s\n",
      "[CV] END max_depth=30, min_samples_leaf=1, min_samples_split=10; total time=   0.2s\n",
      "[CV] END max_depth=30, min_samples_leaf=1, min_samples_split=10; total time=   0.2s\n",
      "[CV] END max_depth=30, min_samples_leaf=2, min_samples_split=2; total time=   0.3s\n",
      "[CV] END max_depth=30, min_samples_leaf=2, min_samples_split=5; total time=   0.3s\n",
      "[CV] END max_depth=30, min_samples_leaf=2, min_samples_split=10; total time=   0.2s\n",
      "[CV] END max_depth=30, min_samples_leaf=4, min_samples_split=2; total time=   0.2s\n",
      "[CV] END max_depth=30, min_samples_leaf=4, min_samples_split=2; total time=   0.2s\n",
      "[CV] END max_depth=30, min_samples_leaf=4, min_samples_split=5; total time=   0.2s\n",
      "[CV] END max_depth=30, min_samples_leaf=4, min_samples_split=10; total time=   0.2s\n",
      "[CV] END learning_rate=0.1, max_depth=3, min_samples_leaf=1, min_samples_split=2, n_estimators=100; total time=   6.2s\n",
      "[CV] END learning_rate=0.1, max_depth=3, min_samples_leaf=1, min_samples_split=2, n_estimators=100; total time=   6.5s\n",
      "[CV] END learning_rate=0.1, max_depth=3, min_samples_leaf=1, min_samples_split=2, n_estimators=200; total time=  11.6s\n",
      "[CV] END learning_rate=0.1, max_depth=3, min_samples_leaf=1, min_samples_split=5, n_estimators=100; total time=   5.7s\n",
      "[CV] END learning_rate=0.1, max_depth=3, min_samples_leaf=1, min_samples_split=5, n_estimators=200; total time=  11.9s\n",
      "[CV] END learning_rate=0.1, max_depth=3, min_samples_leaf=1, min_samples_split=5, n_estimators=200; total time=  12.3s\n",
      "[CV] END learning_rate=0.1, max_depth=3, min_samples_leaf=2, min_samples_split=2, n_estimators=200; total time=  11.7s\n",
      "[CV] END learning_rate=0.1, max_depth=3, min_samples_leaf=2, min_samples_split=5, n_estimators=100; total time=   5.8s\n",
      "[CV] END learning_rate=0.1, max_depth=3, min_samples_leaf=2, min_samples_split=5, n_estimators=100; total time=   6.7s\n",
      "[CV] END learning_rate=0.1, max_depth=3, min_samples_leaf=2, min_samples_split=5, n_estimators=200; total time=  11.6s\n",
      "[CV] END learning_rate=0.1, max_depth=5, min_samples_leaf=1, min_samples_split=2, n_estimators=100; total time=   8.7s\n",
      "[CV] END learning_rate=0.1, max_depth=5, min_samples_leaf=1, min_samples_split=2, n_estimators=200; total time=  19.0s[CV] END max_depth=None, min_samples_leaf=2, min_samples_split=2, n_estimators=100; total time=  18.3s\n",
      "[CV] END max_depth=None, min_samples_leaf=2, min_samples_split=2, n_estimators=200; total time=  34.8s\n",
      "[CV] END max_depth=None, min_samples_leaf=2, min_samples_split=5, n_estimators=100; total time=  17.3s\n",
      "[CV] END max_depth=None, min_samples_leaf=2, min_samples_split=5, n_estimators=200; total time=  35.0s\n",
      "[CV] END max_depth=None, min_samples_leaf=2, min_samples_split=5, n_estimators=200; total time=  34.9s\n",
      "[CV] END max_depth=10, min_samples_leaf=1, min_samples_split=2, n_estimators=200; total time=  19.2s\n",
      "[CV] END max_depth=10, min_samples_leaf=1, min_samples_split=5, n_estimators=100; total time=   9.9s\n",
      "[CV] END max_depth=10, min_samples_leaf=1, min_samples_split=5, n_estimators=200; total time=  19.1s\n",
      "[CV] END max_depth=10, min_samples_leaf=2, min_samples_split=2, n_estimators=100; total time=   9.7s\n",
      "[CV] END max_depth=10, min_samples_leaf=2, min_samples_split=2, n_estimators=100; total time=  10.5s\n",
      "[CV] END max_depth=10, min_samples_leaf=2, min_samples_split=2, n_estimators=200; total time=  19.0s\n",
      "[CV] END max_depth=10, min_samples_leaf=2, min_samples_split=5, n_estimators=100; total time=  10.1s\n",
      "[CV] END max_depth=10, min_samples_leaf=2, min_samples_split=5, n_estimators=200; total time=  19.2s\n",
      "[CV] END max_depth=10, min_samples_leaf=2, min_samples_split=5, n_estimators=200; total time=  19.8s\n",
      "[CV] END max_depth=20, min_samples_leaf=1, min_samples_split=2, n_estimators=100; total time=  16.7s\n",
      "[CV] END max_depth=20, min_samples_leaf=1, min_samples_split=2, n_estimators=200; total time=  35.0s\n",
      "[CV] END max_depth=20, min_samples_leaf=1, min_samples_split=5, n_estimators=100; total time=  16.4s\n",
      "[CV] END max_depth=20, min_samples_leaf=1, min_samples_split=5, n_estimators=200; total time=  32.5s\n",
      "[CV] END max_depth=20, min_samples_leaf=2, min_samples_split=2, n_estimators=100; total time=  15.8s\n",
      "[CV] END max_depth=20, min_samples_leaf=2, min_samples_split=2, n_estimators=100; total time=  16.8s\n",
      "[CV] END max_depth=20, min_samples_leaf=2, min_samples_split=2, n_estimators=200; total time=  31.6s\n",
      "[CV] END max_depth=20, min_samples_leaf=2, min_samples_split=5, n_estimators=100; total time=  15.4s\n",
      "[CV] END max_depth=20, min_samples_leaf=2, min_samples_split=5, n_estimators=100; total time=  16.1s\n",
      "[CV] END max_depth=20, min_samples_leaf=2, min_samples_split=5, n_estimators=200; total time=  30.5s\n",
      "[CV] END max_depth=None, min_samples_leaf=1, min_samples_split=2; total time=   0.3s\n",
      "[CV] END max_depth=None, min_samples_leaf=1, min_samples_split=5; total time=   0.3s\n",
      "[CV] END max_depth=None, min_samples_leaf=1, min_samples_split=10; total time=   0.3s\n",
      "[CV] END max_depth=None, min_samples_leaf=1, min_samples_split=10; total time=   0.3s\n",
      "[CV] END max_depth=None, min_samples_leaf=2, min_samples_split=2; total time=   0.3s\n",
      "[CV] END max_depth=None, min_samples_leaf=2, min_samples_split=5; total time=   0.3s\n",
      "[CV] END max_depth=None, min_samples_leaf=2, min_samples_split=10; total time=   0.3s\n",
      "[CV] END max_depth=None, min_samples_leaf=4, min_samples_split=2; total time=   0.3s\n",
      "[CV] END max_depth=None, min_samples_leaf=4, min_samples_split=2; total time=   0.2s\n",
      "[CV] END max_depth=None, min_samples_leaf=4, min_samples_split=5; total time=   0.3s\n",
      "[CV] END max_depth=None, min_samples_leaf=4, min_samples_split=10; total time=   0.3s\n",
      "[CV] END max_depth=10, min_samples_leaf=1, min_samples_split=2; total time=   0.2s\n",
      "[CV] END max_depth=10, min_samples_leaf=1, min_samples_split=5; total time=   0.2s\n",
      "[CV] END max_depth=10, min_samples_leaf=1, min_samples_split=5; total time=   0.1s\n",
      "[CV] END max_depth=10, min_samples_leaf=1, min_samples_split=10; total time=   0.1s\n",
      "[CV] END max_depth=10, min_samples_leaf=2, min_samples_split=2; total time=   0.1s\n",
      "[CV] END max_depth=10, min_samples_leaf=2, min_samples_split=5; total time=   0.2s\n",
      "[CV] END max_depth=10, min_samples_leaf=2, min_samples_split=10; total time=   0.2s\n",
      "[CV] END max_depth=10, min_samples_leaf=4, min_samples_split=2; total time=   0.1s\n",
      "[CV] END max_depth=10, min_samples_leaf=4, min_samples_split=2; total time=   0.1s\n",
      "[CV] END max_depth=10, min_samples_leaf=4, min_samples_split=5; total time=   0.1s\n",
      "[CV] END max_depth=10, min_samples_leaf=4, min_samples_split=10; total time=   0.1s\n",
      "[CV] END max_depth=20, min_samples_leaf=1, min_samples_split=2; total time=   0.3s\n",
      "[CV] END max_depth=20, min_samples_leaf=1, min_samples_split=5; total time=   0.2s\n",
      "[CV] END max_depth=20, min_samples_leaf=1, min_samples_split=5; total time=   0.2s\n",
      "[CV] END max_depth=20, min_samples_leaf=1, min_samples_split=10; total time=   0.2s\n",
      "[CV] END max_depth=20, min_samples_leaf=2, min_samples_split=2; total time=   0.2s\n",
      "[CV] END max_depth=20, min_samples_leaf=2, min_samples_split=5; total time=   0.2s\n",
      "[CV] END max_depth=20, min_samples_leaf=2, min_samples_split=10; total time=   0.2s\n",
      "[CV] END max_depth=20, min_samples_leaf=2, min_samples_split=10; total time=   0.2s\n",
      "[CV] END max_depth=20, min_samples_leaf=4, min_samples_split=2; total time=   0.2s\n",
      "[CV] END max_depth=20, min_samples_leaf=4, min_samples_split=5; total time=   0.2s\n",
      "[CV] END max_depth=20, min_samples_leaf=4, min_samples_split=10; total time=   0.2s\n",
      "[CV] END max_depth=30, min_samples_leaf=1, min_samples_split=2; total time=   0.3s\n",
      "[CV] END max_depth=30, min_samples_leaf=1, min_samples_split=2; total time=   0.3s\n",
      "[CV] END max_depth=30, min_samples_leaf=1, min_samples_split=5; total time=   0.3s\n",
      "[CV] END max_depth=30, min_samples_leaf=1, min_samples_split=10; total time=   0.2s\n",
      "[CV] END max_depth=30, min_samples_leaf=2, min_samples_split=2; total time=   0.3s\n",
      "[CV] END max_depth=30, min_samples_leaf=2, min_samples_split=5; total time=   0.3s\n",
      "[CV] END max_depth=30, min_samples_leaf=2, min_samples_split=5; total time=   0.3s\n",
      "[CV] END max_depth=30, min_samples_leaf=2, min_samples_split=10; total time=   0.2s\n",
      "[CV] END max_depth=30, min_samples_leaf=4, min_samples_split=2; total time=   0.2s\n",
      "[CV] END max_depth=30, min_samples_leaf=4, min_samples_split=5; total time=   0.2s\n",
      "[CV] END max_depth=30, min_samples_leaf=4, min_samples_split=10; total time=   0.2s\n",
      "[CV] END learning_rate=0.1, max_depth=3, min_samples_leaf=1, min_samples_split=2, n_estimators=100; total time=   6.3s\n",
      "[CV] END learning_rate=0.1, max_depth=3, min_samples_leaf=1, min_samples_split=2, n_estimators=200; total time=  12.3s\n",
      "[CV] END learning_rate=0.1, max_depth=3, min_samples_leaf=1, min_samples_split=2, n_estimators=200; total time=  12.0s\n",
      "[CV] END learning_rate=0.1, max_depth=3, min_samples_leaf=1, min_samples_split=5, n_estimators=200; total time=  13.1s\n",
      "[CV] END learning_rate=0.1, max_depth=3, min_samples_leaf=2, min_samples_split=2, n_estimators=100; total time=   6.3s\n",
      "[CV] END learning_rate=0.1, max_depth=3, min_samples_leaf=2, min_samples_split=2, n_estimators=100; total time=   5.9s\n",
      "[CV] END learning_rate=0.1, max_depth=3, min_samples_leaf=2, min_samples_split=2, n_estimators=200; total time=  12.0s\n",
      "[CV] END learning_rate=0.1, max_depth=3, min_samples_leaf=2, min_samples_split=5, n_estimators=100; total time=   6.0s\n",
      "[CV] END learning_rate=0.1, max_depth=3, min_samples_leaf=2, min_samples_split=5, n_estimators=200; total time=  12.0s\n",
      "[CV] END learning_rate=0.1, max_depth=3, min_samples_leaf=2, min_samples_split=5, n_estimators=200; total time=  11.9s\n",
      "[CV] END learning_rate=0.1, max_depth=5, min_samples_leaf=1, min_samples_split=2, n_estimators=100; total time=   9.5s\n",
      "[CV] END learning_rate=0.1, max_depth=5, min_samples_leaf=1, min_samples_split=2, n_estimators=200; total time=  19.4s\n",
      "[CV] END learning_rate=0.1, max_depth=5, min_samples_leaf=1, min_samples_split=5, n_estimators=100; total time=   8.9s\n",
      "[CV] END learning_rate=0.1, max_depth=5, min_samples_leaf=1, min_samples_split=5, n_estimators=200; total time=  18.7s\n",
      "[CV] END learning_rate=0.1, max_depth=5, min_samples_leaf=2, min_samples_split=2, n_estimators=100; total time=   8.8s\n",
      "[CV] END learning_rate=0.1, max_depth=5, min_samples_leaf=2, min_samples_split=2, n_estimators=100; total time=   9.4s\n",
      "[CV] END learning_rate=0.1, max_depth=5, min_samples_leaf=2, min_samples_split=2, n_estimators=200; total time=  19.0s\n",
      "[CV] END learning_rate=0.1, max_depth=5, min_samples_leaf=2, min_samples_split=5, n_estimators=100; total time=   9.2s"
     ]
    },
    {
     "data": {
      "text/html": [
       "<style>#sk-container-id-5 {color: black;background-color: white;}#sk-container-id-5 pre{padding: 0;}#sk-container-id-5 div.sk-toggleable {background-color: white;}#sk-container-id-5 label.sk-toggleable__label {cursor: pointer;display: block;width: 100%;margin-bottom: 0;padding: 0.3em;box-sizing: border-box;text-align: center;}#sk-container-id-5 label.sk-toggleable__label-arrow:before {content: \"▸\";float: left;margin-right: 0.25em;color: #696969;}#sk-container-id-5 label.sk-toggleable__label-arrow:hover:before {color: black;}#sk-container-id-5 div.sk-estimator:hover label.sk-toggleable__label-arrow:before {color: black;}#sk-container-id-5 div.sk-toggleable__content {max-height: 0;max-width: 0;overflow: hidden;text-align: left;background-color: #f0f8ff;}#sk-container-id-5 div.sk-toggleable__content pre {margin: 0.2em;color: black;border-radius: 0.25em;background-color: #f0f8ff;}#sk-container-id-5 input.sk-toggleable__control:checked~div.sk-toggleable__content {max-height: 200px;max-width: 100%;overflow: auto;}#sk-container-id-5 input.sk-toggleable__control:checked~label.sk-toggleable__label-arrow:before {content: \"▾\";}#sk-container-id-5 div.sk-estimator input.sk-toggleable__control:checked~label.sk-toggleable__label {background-color: #d4ebff;}#sk-container-id-5 div.sk-label input.sk-toggleable__control:checked~label.sk-toggleable__label {background-color: #d4ebff;}#sk-container-id-5 input.sk-hidden--visually {border: 0;clip: rect(1px 1px 1px 1px);clip: rect(1px, 1px, 1px, 1px);height: 1px;margin: -1px;overflow: hidden;padding: 0;position: absolute;width: 1px;}#sk-container-id-5 div.sk-estimator {font-family: monospace;background-color: #f0f8ff;border: 1px dotted black;border-radius: 0.25em;box-sizing: border-box;margin-bottom: 0.5em;}#sk-container-id-5 div.sk-estimator:hover {background-color: #d4ebff;}#sk-container-id-5 div.sk-parallel-item::after {content: \"\";width: 100%;border-bottom: 1px solid gray;flex-grow: 1;}#sk-container-id-5 div.sk-label:hover label.sk-toggleable__label {background-color: #d4ebff;}#sk-container-id-5 div.sk-serial::before {content: \"\";position: absolute;border-left: 1px solid gray;box-sizing: border-box;top: 0;bottom: 0;left: 50%;z-index: 0;}#sk-container-id-5 div.sk-serial {display: flex;flex-direction: column;align-items: center;background-color: white;padding-right: 0.2em;padding-left: 0.2em;position: relative;}#sk-container-id-5 div.sk-item {position: relative;z-index: 1;}#sk-container-id-5 div.sk-parallel {display: flex;align-items: stretch;justify-content: center;background-color: white;position: relative;}#sk-container-id-5 div.sk-item::before, #sk-container-id-5 div.sk-parallel-item::before {content: \"\";position: absolute;border-left: 1px solid gray;box-sizing: border-box;top: 0;bottom: 0;left: 50%;z-index: -1;}#sk-container-id-5 div.sk-parallel-item {display: flex;flex-direction: column;z-index: 1;position: relative;background-color: white;}#sk-container-id-5 div.sk-parallel-item:first-child::after {align-self: flex-end;width: 50%;}#sk-container-id-5 div.sk-parallel-item:last-child::after {align-self: flex-start;width: 50%;}#sk-container-id-5 div.sk-parallel-item:only-child::after {width: 0;}#sk-container-id-5 div.sk-dashed-wrapped {border: 1px dashed gray;margin: 0 0.4em 0.5em 0.4em;box-sizing: border-box;padding-bottom: 0.4em;background-color: white;}#sk-container-id-5 div.sk-label label {font-family: monospace;font-weight: bold;display: inline-block;line-height: 1.2em;}#sk-container-id-5 div.sk-label-container {text-align: center;}#sk-container-id-5 div.sk-container {/* jupyter's `normalize.less` sets `[hidden] { display: none; }` but bootstrap.min.css set `[hidden] { display: none !important; }` so we also need the `!important` here to be able to override the default hidden behavior on the sphinx rendered scikit-learn.org. See: https://github.com/scikit-learn/scikit-learn/issues/21755 */display: inline-block !important;position: relative;}#sk-container-id-5 div.sk-text-repr-fallback {display: none;}</style><div id=\"sk-container-id-5\" class=\"sk-top-container\"><div class=\"sk-text-repr-fallback\"><pre>GridSearchCV(cv=5, estimator=GradientBoostingRegressor(random_state=42),\n",
       "             n_jobs=-1,\n",
       "             param_grid={&#x27;learning_rate&#x27;: [0.1, 0.05], &#x27;max_depth&#x27;: [3, 5],\n",
       "                         &#x27;min_samples_leaf&#x27;: [1, 2],\n",
       "                         &#x27;min_samples_split&#x27;: [2, 5],\n",
       "                         &#x27;n_estimators&#x27;: [100, 200]},\n",
       "             scoring=&#x27;neg_mean_squared_error&#x27;, verbose=2)</pre><b>In a Jupyter environment, please rerun this cell to show the HTML representation or trust the notebook. <br />On GitHub, the HTML representation is unable to render, please try loading this page with nbviewer.org.</b></div><div class=\"sk-container\" hidden><div class=\"sk-item sk-dashed-wrapped\"><div class=\"sk-label-container\"><div class=\"sk-label sk-toggleable\"><input class=\"sk-toggleable__control sk-hidden--visually\" id=\"sk-estimator-id-31\" type=\"checkbox\" ><label for=\"sk-estimator-id-31\" class=\"sk-toggleable__label sk-toggleable__label-arrow\">GridSearchCV</label><div class=\"sk-toggleable__content\"><pre>GridSearchCV(cv=5, estimator=GradientBoostingRegressor(random_state=42),\n",
       "             n_jobs=-1,\n",
       "             param_grid={&#x27;learning_rate&#x27;: [0.1, 0.05], &#x27;max_depth&#x27;: [3, 5],\n",
       "                         &#x27;min_samples_leaf&#x27;: [1, 2],\n",
       "                         &#x27;min_samples_split&#x27;: [2, 5],\n",
       "                         &#x27;n_estimators&#x27;: [100, 200]},\n",
       "             scoring=&#x27;neg_mean_squared_error&#x27;, verbose=2)</pre></div></div></div><div class=\"sk-parallel\"><div class=\"sk-parallel-item\"><div class=\"sk-item\"><div class=\"sk-label-container\"><div class=\"sk-label sk-toggleable\"><input class=\"sk-toggleable__control sk-hidden--visually\" id=\"sk-estimator-id-32\" type=\"checkbox\" ><label for=\"sk-estimator-id-32\" class=\"sk-toggleable__label sk-toggleable__label-arrow\">estimator: GradientBoostingRegressor</label><div class=\"sk-toggleable__content\"><pre>GradientBoostingRegressor(random_state=42)</pre></div></div></div><div class=\"sk-serial\"><div class=\"sk-item\"><div class=\"sk-estimator sk-toggleable\"><input class=\"sk-toggleable__control sk-hidden--visually\" id=\"sk-estimator-id-33\" type=\"checkbox\" ><label for=\"sk-estimator-id-33\" class=\"sk-toggleable__label sk-toggleable__label-arrow\">GradientBoostingRegressor</label><div class=\"sk-toggleable__content\"><pre>GradientBoostingRegressor(random_state=42)</pre></div></div></div></div></div></div></div></div></div></div>"
      ],
      "text/plain": [
       "GridSearchCV(cv=5, estimator=GradientBoostingRegressor(random_state=42),\n",
       "             n_jobs=-1,\n",
       "             param_grid={'learning_rate': [0.1, 0.05], 'max_depth': [3, 5],\n",
       "                         'min_samples_leaf': [1, 2],\n",
       "                         'min_samples_split': [2, 5],\n",
       "                         'n_estimators': [100, 200]},\n",
       "             scoring='neg_mean_squared_error', verbose=2)"
      ]
     },
     "execution_count": 102,
     "metadata": {},
     "output_type": "execute_result"
    }
   ],
   "source": [
    "gb_grid.fit(X_train, y_log)"
   ]
  },
  {
   "cell_type": "code",
   "execution_count": 103,
   "id": "baba5dc6",
   "metadata": {
    "execution": {
     "iopub.execute_input": "2025-06-30T06:42:11.913061Z",
     "iopub.status.busy": "2025-06-30T06:42:11.912636Z",
     "iopub.status.idle": "2025-06-30T06:42:11.918494Z",
     "shell.execute_reply": "2025-06-30T06:42:11.917101Z"
    },
    "papermill": {
     "duration": 0.042742,
     "end_time": "2025-06-30T06:42:11.920410",
     "exception": false,
     "start_time": "2025-06-30T06:42:11.877668",
     "status": "completed"
    },
    "tags": []
   },
   "outputs": [
    {
     "name": "stdout",
     "output_type": "stream",
     "text": [
      "Best Parameters (Gradient Boosting): {'learning_rate': 0.1, 'max_depth': 5, 'min_samples_leaf': 2, 'min_samples_split': 5, 'n_estimators': 200}\n",
      "Best CV RMSE: 0.24076935660126936\n"
     ]
    }
   ],
   "source": [
    "print(\"Best Parameters (Gradient Boosting):\", gb_grid.best_params_)\n",
    "print(\"Best CV RMSE:\", np.sqrt(-gb_grid.best_score_))"
   ]
  },
  {
   "cell_type": "markdown",
   "id": "8803d814",
   "metadata": {
    "papermill": {
     "duration": 0.039137,
     "end_time": "2025-06-30T06:42:12.000403",
     "exception": false,
     "start_time": "2025-06-30T06:42:11.961266",
     "status": "completed"
    },
    "tags": []
   },
   "source": [
    "## 9. Comparison of model performances on validation set"
   ]
  },
  {
   "cell_type": "markdown",
   "id": "b07aaa1e",
   "metadata": {
    "papermill": {
     "duration": 0.038111,
     "end_time": "2025-06-30T06:42:12.072167",
     "exception": false,
     "start_time": "2025-06-30T06:42:12.034056",
     "status": "completed"
    },
    "tags": []
   },
   "source": [
    "| Model                 | Best CV RMSE | Notes                                              |\n",
    "| --------------------- | ------------ | -------------------------------------------------- |\n",
    "| **Random Forest**     | **0.2293**   | Best overall — low error, stable                 |\n",
    "| **Gradient Boosting** | 0.2408       | Strong, slightly slower, better with tuning        |\n",
    "| **Decision Tree**     | 0.2610       | Simpler, interpretable, slightly worse performance |\n"
   ]
  },
  {
   "cell_type": "markdown",
   "id": "2c22ec6f",
   "metadata": {
    "papermill": {
     "duration": 0.034915,
     "end_time": "2025-06-30T06:42:12.141345",
     "exception": false,
     "start_time": "2025-06-30T06:42:12.106430",
     "status": "completed"
    },
    "tags": []
   },
   "source": [
    "Best model is:\n",
    "\n",
    "Random Forest Regressor with\n",
    "n_estimators=200, max_depth=None, min_samples_split=5, min_samples_leaf=1\n",
    "\n",
    "This model gives the lowest RMSE and generalizes well."
   ]
  },
  {
   "cell_type": "markdown",
   "id": "50457242",
   "metadata": {
    "papermill": {
     "duration": 0.042154,
     "end_time": "2025-06-30T06:42:12.219232",
     "exception": false,
     "start_time": "2025-06-30T06:42:12.177078",
     "status": "completed"
    },
    "tags": []
   },
   "source": [
    "## 10. Training on Random Forest regressor"
   ]
  },
  {
   "cell_type": "code",
   "execution_count": 104,
   "id": "521133bb",
   "metadata": {
    "execution": {
     "iopub.execute_input": "2025-06-30T06:42:12.296791Z",
     "iopub.status.busy": "2025-06-30T06:42:12.295915Z",
     "iopub.status.idle": "2025-06-30T06:42:12.300863Z",
     "shell.execute_reply": "2025-06-30T06:42:12.299976Z"
    },
    "papermill": {
     "duration": 0.044434,
     "end_time": "2025-06-30T06:42:12.302562",
     "exception": false,
     "start_time": "2025-06-30T06:42:12.258128",
     "status": "completed"
    },
    "tags": []
   },
   "outputs": [],
   "source": [
    "rf_regressor = RandomForestRegressor(n_estimators=200,max_depth=None,min_samples_split=5,min_samples_leaf=1,random_state=42)"
   ]
  },
  {
   "cell_type": "code",
   "execution_count": 105,
   "id": "33652e78",
   "metadata": {
    "execution": {
     "iopub.execute_input": "2025-06-30T06:42:12.372404Z",
     "iopub.status.busy": "2025-06-30T06:42:12.371602Z",
     "iopub.status.idle": "2025-06-30T06:42:41.623583Z",
     "shell.execute_reply": "2025-06-30T06:42:41.622236Z"
    },
    "papermill": {
     "duration": 29.288182,
     "end_time": "2025-06-30T06:42:41.625337",
     "exception": false,
     "start_time": "2025-06-30T06:42:12.337155",
     "status": "completed"
    },
    "tags": []
   },
   "outputs": [
    {
     "data": {
      "text/html": [
       "<style>#sk-container-id-6 {color: black;background-color: white;}#sk-container-id-6 pre{padding: 0;}#sk-container-id-6 div.sk-toggleable {background-color: white;}#sk-container-id-6 label.sk-toggleable__label {cursor: pointer;display: block;width: 100%;margin-bottom: 0;padding: 0.3em;box-sizing: border-box;text-align: center;}#sk-container-id-6 label.sk-toggleable__label-arrow:before {content: \"▸\";float: left;margin-right: 0.25em;color: #696969;}#sk-container-id-6 label.sk-toggleable__label-arrow:hover:before {color: black;}#sk-container-id-6 div.sk-estimator:hover label.sk-toggleable__label-arrow:before {color: black;}#sk-container-id-6 div.sk-toggleable__content {max-height: 0;max-width: 0;overflow: hidden;text-align: left;background-color: #f0f8ff;}#sk-container-id-6 div.sk-toggleable__content pre {margin: 0.2em;color: black;border-radius: 0.25em;background-color: #f0f8ff;}#sk-container-id-6 input.sk-toggleable__control:checked~div.sk-toggleable__content {max-height: 200px;max-width: 100%;overflow: auto;}#sk-container-id-6 input.sk-toggleable__control:checked~label.sk-toggleable__label-arrow:before {content: \"▾\";}#sk-container-id-6 div.sk-estimator input.sk-toggleable__control:checked~label.sk-toggleable__label {background-color: #d4ebff;}#sk-container-id-6 div.sk-label input.sk-toggleable__control:checked~label.sk-toggleable__label {background-color: #d4ebff;}#sk-container-id-6 input.sk-hidden--visually {border: 0;clip: rect(1px 1px 1px 1px);clip: rect(1px, 1px, 1px, 1px);height: 1px;margin: -1px;overflow: hidden;padding: 0;position: absolute;width: 1px;}#sk-container-id-6 div.sk-estimator {font-family: monospace;background-color: #f0f8ff;border: 1px dotted black;border-radius: 0.25em;box-sizing: border-box;margin-bottom: 0.5em;}#sk-container-id-6 div.sk-estimator:hover {background-color: #d4ebff;}#sk-container-id-6 div.sk-parallel-item::after {content: \"\";width: 100%;border-bottom: 1px solid gray;flex-grow: 1;}#sk-container-id-6 div.sk-label:hover label.sk-toggleable__label {background-color: #d4ebff;}#sk-container-id-6 div.sk-serial::before {content: \"\";position: absolute;border-left: 1px solid gray;box-sizing: border-box;top: 0;bottom: 0;left: 50%;z-index: 0;}#sk-container-id-6 div.sk-serial {display: flex;flex-direction: column;align-items: center;background-color: white;padding-right: 0.2em;padding-left: 0.2em;position: relative;}#sk-container-id-6 div.sk-item {position: relative;z-index: 1;}#sk-container-id-6 div.sk-parallel {display: flex;align-items: stretch;justify-content: center;background-color: white;position: relative;}#sk-container-id-6 div.sk-item::before, #sk-container-id-6 div.sk-parallel-item::before {content: \"\";position: absolute;border-left: 1px solid gray;box-sizing: border-box;top: 0;bottom: 0;left: 50%;z-index: -1;}#sk-container-id-6 div.sk-parallel-item {display: flex;flex-direction: column;z-index: 1;position: relative;background-color: white;}#sk-container-id-6 div.sk-parallel-item:first-child::after {align-self: flex-end;width: 50%;}#sk-container-id-6 div.sk-parallel-item:last-child::after {align-self: flex-start;width: 50%;}#sk-container-id-6 div.sk-parallel-item:only-child::after {width: 0;}#sk-container-id-6 div.sk-dashed-wrapped {border: 1px dashed gray;margin: 0 0.4em 0.5em 0.4em;box-sizing: border-box;padding-bottom: 0.4em;background-color: white;}#sk-container-id-6 div.sk-label label {font-family: monospace;font-weight: bold;display: inline-block;line-height: 1.2em;}#sk-container-id-6 div.sk-label-container {text-align: center;}#sk-container-id-6 div.sk-container {/* jupyter's `normalize.less` sets `[hidden] { display: none; }` but bootstrap.min.css set `[hidden] { display: none !important; }` so we also need the `!important` here to be able to override the default hidden behavior on the sphinx rendered scikit-learn.org. See: https://github.com/scikit-learn/scikit-learn/issues/21755 */display: inline-block !important;position: relative;}#sk-container-id-6 div.sk-text-repr-fallback {display: none;}</style><div id=\"sk-container-id-6\" class=\"sk-top-container\"><div class=\"sk-text-repr-fallback\"><pre>RandomForestRegressor(min_samples_split=5, n_estimators=200, random_state=42)</pre><b>In a Jupyter environment, please rerun this cell to show the HTML representation or trust the notebook. <br />On GitHub, the HTML representation is unable to render, please try loading this page with nbviewer.org.</b></div><div class=\"sk-container\" hidden><div class=\"sk-item\"><div class=\"sk-estimator sk-toggleable\"><input class=\"sk-toggleable__control sk-hidden--visually\" id=\"sk-estimator-id-34\" type=\"checkbox\" checked><label for=\"sk-estimator-id-34\" class=\"sk-toggleable__label sk-toggleable__label-arrow\">RandomForestRegressor</label><div class=\"sk-toggleable__content\"><pre>RandomForestRegressor(min_samples_split=5, n_estimators=200, random_state=42)</pre></div></div></div></div></div>"
      ],
      "text/plain": [
       "RandomForestRegressor(min_samples_split=5, n_estimators=200, random_state=42)"
      ]
     },
     "execution_count": 105,
     "metadata": {},
     "output_type": "execute_result"
    }
   ],
   "source": [
    "rf_regressor.fit(X_train,y_log)"
   ]
  },
  {
   "cell_type": "code",
   "execution_count": 106,
   "id": "6d025233",
   "metadata": {
    "execution": {
     "iopub.execute_input": "2025-06-30T06:42:41.699452Z",
     "iopub.status.busy": "2025-06-30T06:42:41.699107Z",
     "iopub.status.idle": "2025-06-30T06:42:42.327379Z",
     "shell.execute_reply": "2025-06-30T06:42:42.326303Z"
    },
    "papermill": {
     "duration": 0.668274,
     "end_time": "2025-06-30T06:42:42.329142",
     "exception": false,
     "start_time": "2025-06-30T06:42:41.660868",
     "status": "completed"
    },
    "tags": []
   },
   "outputs": [
    {
     "data": {
      "text/plain": [
       "array([ 4499.43419035, 11500.22739849,  4839.65479049, ...,\n",
       "       80098.85304027, 49178.54120318, 57260.78098793])"
      ]
     },
     "execution_count": 106,
     "metadata": {},
     "output_type": "execute_result"
    }
   ],
   "source": [
    "y_pred_log = rf_regressor.predict(X_test)\n",
    "y_pred = np.expm1(y_pred_log)\n",
    "y_pred"
   ]
  },
  {
   "cell_type": "code",
   "execution_count": 107,
   "id": "29176fbb",
   "metadata": {
    "execution": {
     "iopub.execute_input": "2025-06-30T06:42:42.400800Z",
     "iopub.status.busy": "2025-06-30T06:42:42.400461Z",
     "iopub.status.idle": "2025-06-30T06:42:42.435008Z",
     "shell.execute_reply": "2025-06-30T06:42:42.433874Z"
    },
    "papermill": {
     "duration": 0.071633,
     "end_time": "2025-06-30T06:42:42.436666",
     "exception": false,
     "start_time": "2025-06-30T06:42:42.365033",
     "status": "completed"
    },
    "tags": []
   },
   "outputs": [],
   "source": [
    "submission = pd.DataFrame({'price': y_pred})\n",
    "submission.index.name = 'id'\n",
    "submission.to_csv(\"submission.csv\")"
   ]
  },
  {
   "cell_type": "code",
   "execution_count": 108,
   "id": "fb4aaad2",
   "metadata": {
    "execution": {
     "iopub.execute_input": "2025-06-30T06:42:42.506183Z",
     "iopub.status.busy": "2025-06-30T06:42:42.505818Z",
     "iopub.status.idle": "2025-06-30T06:42:42.519749Z",
     "shell.execute_reply": "2025-06-30T06:42:42.518731Z"
    },
    "papermill": {
     "duration": 0.049681,
     "end_time": "2025-06-30T06:42:42.521289",
     "exception": false,
     "start_time": "2025-06-30T06:42:42.471608",
     "status": "completed"
    },
    "tags": []
   },
   "outputs": [
    {
     "data": {
      "text/html": [
       "<div>\n",
       "<style scoped>\n",
       "    .dataframe tbody tr th:only-of-type {\n",
       "        vertical-align: middle;\n",
       "    }\n",
       "\n",
       "    .dataframe tbody tr th {\n",
       "        vertical-align: top;\n",
       "    }\n",
       "\n",
       "    .dataframe thead th {\n",
       "        text-align: right;\n",
       "    }\n",
       "</style>\n",
       "<table border=\"1\" class=\"dataframe\">\n",
       "  <thead>\n",
       "    <tr style=\"text-align: right;\">\n",
       "      <th></th>\n",
       "      <th>id</th>\n",
       "      <th>price</th>\n",
       "    </tr>\n",
       "  </thead>\n",
       "  <tbody>\n",
       "    <tr>\n",
       "      <th>0</th>\n",
       "      <td>0</td>\n",
       "      <td>4499.434190</td>\n",
       "    </tr>\n",
       "    <tr>\n",
       "      <th>1</th>\n",
       "      <td>1</td>\n",
       "      <td>11500.227398</td>\n",
       "    </tr>\n",
       "    <tr>\n",
       "      <th>2</th>\n",
       "      <td>2</td>\n",
       "      <td>4839.654790</td>\n",
       "    </tr>\n",
       "    <tr>\n",
       "      <th>3</th>\n",
       "      <td>3</td>\n",
       "      <td>56826.840483</td>\n",
       "    </tr>\n",
       "    <tr>\n",
       "      <th>4</th>\n",
       "      <td>4</td>\n",
       "      <td>46327.656674</td>\n",
       "    </tr>\n",
       "  </tbody>\n",
       "</table>\n",
       "</div>"
      ],
      "text/plain": [
       "   id         price\n",
       "0   0   4499.434190\n",
       "1   1  11500.227398\n",
       "2   2   4839.654790\n",
       "3   3  56826.840483\n",
       "4   4  46327.656674"
      ]
     },
     "execution_count": 108,
     "metadata": {},
     "output_type": "execute_result"
    }
   ],
   "source": [
    "pd.read_csv(\"/kaggle/working/submission.csv\").head()"
   ]
  },
  {
   "cell_type": "code",
   "execution_count": 109,
   "id": "a9ff6f40",
   "metadata": {
    "execution": {
     "iopub.execute_input": "2025-06-30T06:42:42.590152Z",
     "iopub.status.busy": "2025-06-30T06:42:42.589794Z",
     "iopub.status.idle": "2025-06-30T06:42:42.601780Z",
     "shell.execute_reply": "2025-06-30T06:42:42.601073Z"
    },
    "papermill": {
     "duration": 0.048313,
     "end_time": "2025-06-30T06:42:42.603316",
     "exception": false,
     "start_time": "2025-06-30T06:42:42.555003",
     "status": "completed"
    },
    "tags": []
   },
   "outputs": [
    {
     "data": {
      "text/plain": [
       "(10000, 2)"
      ]
     },
     "execution_count": 109,
     "metadata": {},
     "output_type": "execute_result"
    }
   ],
   "source": [
    "pd.read_csv(\"/kaggle/working/submission.csv\").shape"
   ]
  },
  {
   "cell_type": "code",
   "execution_count": 110,
   "id": "481b3b04",
   "metadata": {
    "execution": {
     "iopub.execute_input": "2025-06-30T06:42:42.672222Z",
     "iopub.status.busy": "2025-06-30T06:42:42.671810Z",
     "iopub.status.idle": "2025-06-30T06:42:42.943446Z",
     "shell.execute_reply": "2025-06-30T06:42:42.942238Z"
    },
    "papermill": {
     "duration": 0.308717,
     "end_time": "2025-06-30T06:42:42.945242",
     "exception": false,
     "start_time": "2025-06-30T06:42:42.636525",
     "status": "completed"
    },
    "tags": []
   },
   "outputs": [
    {
     "data": {
      "text/plain": [
       "['rf_model.pkl']"
      ]
     },
     "execution_count": 110,
     "metadata": {},
     "output_type": "execute_result"
    }
   ],
   "source": [
    "import joblib\n",
    "\n",
    "joblib.dump(rf_regressor, 'rf_model.pkl')"
   ]
  }
 ],
 "metadata": {
  "kaggle": {
   "accelerator": "none",
   "dataSources": [
    {
     "databundleVersionId": 12770423,
     "sourceId": 105665,
     "sourceType": "competition"
    }
   ],
   "isGpuEnabled": false,
   "isInternetEnabled": true,
   "language": "python",
   "sourceType": "notebook"
  },
  "kernelspec": {
   "display_name": "Python 3",
   "language": "python",
   "name": "python3"
  },
  "language_info": {
   "codemirror_mode": {
    "name": "ipython",
    "version": 3
   },
   "file_extension": ".py",
   "mimetype": "text/x-python",
   "name": "python",
   "nbconvert_exporter": "python",
   "pygments_lexer": "ipython3",
   "version": "3.11.11"
  },
  "papermill": {
   "default_parameters": {},
   "duration": 1288.787044,
   "end_time": "2025-06-30T06:42:45.600978",
   "environment_variables": {},
   "exception": null,
   "input_path": "__notebook__.ipynb",
   "output_path": "__notebook__.ipynb",
   "parameters": {},
   "start_time": "2025-06-30T06:21:16.813934",
   "version": "2.6.0"
  }
 },
 "nbformat": 4,
 "nbformat_minor": 5
}
